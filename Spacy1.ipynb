{
  "nbformat": 4,
  "nbformat_minor": 0,
  "metadata": {
    "colab": {
      "provenance": []
    },
    "kernelspec": {
      "name": "python3",
      "display_name": "Python 3"
    },
    "language_info": {
      "name": "python"
    }
  },
  "cells": [
    {
      "cell_type": "code",
      "execution_count": 1,
      "metadata": {
        "id": "6f_qQdP4wTGw"
      },
      "outputs": [],
      "source": [
        "#pip install spacy\n",
        "#python -m spacy download en_core_web_sm #(we have 3 type of model is available called small, medium & large)\n",
        "import spacy"
      ]
    },
    {
      "cell_type": "code",
      "source": [
        "# What is spaCy used for?\n",
        "# Natural Language Processing With spaCy in Python – Real Python\n",
        "# spaCy is a free, open-source library for NLP in Python written in Cython. spaCy is designed to make it easy to build systems for information extraction or general-purpose natural language processing.\n",
        "nlp = spacy.load(\"en_core_web_sm\")"
      ],
      "metadata": {
        "id": "6xPWGVt5wk_x"
      },
      "execution_count": 2,
      "outputs": []
    },
    {
      "cell_type": "code",
      "source": [
        "# What is the load function in spaCy?\n",
        "# load function. Load a pipeline using the name of an installed package, a string path or a Path -like object. spaCy will try resolving the load argument in this order. If a pipeline is loaded from a string name, spaCy will assume it's a Python package and import it and call the package's own load() method.\n",
        "doc = nlp(\"data science and ai has greate career ahead\")"
      ],
      "metadata": {
        "id": "HshKMsuaw7YW"
      },
      "execution_count": 3,
      "outputs": []
    },
    {
      "cell_type": "code",
      "source": [
        "doc"
      ],
      "metadata": {
        "colab": {
          "base_uri": "https://localhost:8080/"
        },
        "id": "B1UJH7cizSRT",
        "outputId": "f1ce8c69-6580-4cf3-cb3f-db2dcb6190cb"
      },
      "execution_count": 4,
      "outputs": [
        {
          "output_type": "execute_result",
          "data": {
            "text/plain": [
              "data science and ai has greate career ahead"
            ]
          },
          "metadata": {},
          "execution_count": 4
        }
      ]
    },
    {
      "cell_type": "code",
      "source": [
        "# What does NLP () do in spaCy?\n",
        "# Natural Language Processing With spaCy in Python – Real Python\n",
        "# NLP helps you extract insights from unstructured text and has many use cases, such as: Automatic summarization. Named-entity recognition. Question answering systems.\n",
        "doc"
      ],
      "metadata": {
        "id": "EzMxq3vtwlKm",
        "colab": {
          "base_uri": "https://localhost:8080/"
        },
        "outputId": "fabb24d7-9e84-4b39-c7ca-0c44bf7d4d8c"
      },
      "execution_count": 5,
      "outputs": [
        {
          "output_type": "execute_result",
          "data": {
            "text/plain": [
              "data science and ai has greate career ahead"
            ]
          },
          "metadata": {},
          "execution_count": 5
        }
      ]
    },
    {
      "cell_type": "code",
      "source": [
        "# data science and ai has greate career ahead\n",
        "for token in doc:\n",
        "    print(token.text)"
      ],
      "metadata": {
        "colab": {
          "base_uri": "https://localhost:8080/"
        },
        "id": "kelFgEtLwvZC",
        "outputId": "7b0dfaf5-1c13-4c79-f16c-62bcaf05183a"
      },
      "execution_count": 6,
      "outputs": [
        {
          "output_type": "stream",
          "name": "stdout",
          "text": [
            "data\n",
            "science\n",
            "and\n",
            "ai\n",
            "has\n",
            "greate\n",
            "career\n",
            "ahead\n"
          ]
        }
      ]
    },
    {
      "cell_type": "code",
      "source": [
        "# data\n",
        "# science\n",
        "# and\n",
        "# ai\n",
        "# has\n",
        "# greate\n",
        "# career\n",
        "# ahead\n",
        "import spacy\n",
        "\n",
        "nlp = spacy.load(\"en_core_web_sm\")\n",
        "doc = nlp(\"Apple is looking at buying U.K. startup for $1 billion\")\n"
      ],
      "metadata": {
        "id": "95KLvmEfzdEp"
      },
      "execution_count": 7,
      "outputs": []
    },
    {
      "cell_type": "code",
      "source": [
        "doc"
      ],
      "metadata": {
        "colab": {
          "base_uri": "https://localhost:8080/"
        },
        "id": "MdsGcy3v9k5U",
        "outputId": "11ed5fcc-fd4a-4ef4-cb91-18c9c0d07873"
      },
      "execution_count": 8,
      "outputs": [
        {
          "output_type": "execute_result",
          "data": {
            "text/plain": [
              "Apple is looking at buying U.K. startup for $1 billion"
            ]
          },
          "metadata": {},
          "execution_count": 8
        }
      ]
    },
    {
      "cell_type": "code",
      "source": [
        "for token in doc:\n",
        "    print(token.text, token.lemma_, token.pos_, token.tag_, token.dep_,\n",
        "            token.shape_, token.is_alpha, token.is_stop)"
      ],
      "metadata": {
        "colab": {
          "base_uri": "https://localhost:8080/"
        },
        "id": "MABBwvDx9r3k",
        "outputId": "4f6f4432-7ab2-45ad-b4bb-faecd762cf48"
      },
      "execution_count": 9,
      "outputs": [
        {
          "output_type": "stream",
          "name": "stdout",
          "text": [
            "Apple Apple PROPN NNP nsubj Xxxxx True False\n",
            "is be AUX VBZ aux xx True True\n",
            "looking look VERB VBG ROOT xxxx True False\n",
            "at at ADP IN prep xx True True\n",
            "buying buy VERB VBG pcomp xxxx True False\n",
            "U.K. U.K. PROPN NNP dobj X.X. False False\n",
            "startup startup NOUN NN dep xxxx True False\n",
            "for for ADP IN prep xxx True True\n",
            "$ $ SYM $ quantmod $ False False\n",
            "1 1 NUM CD compound d False False\n",
            "billion billion NUM CD pobj xxxx True False\n"
          ]
        }
      ]
    },
    {
      "cell_type": "code",
      "source": [
        "for token in doc:\n",
        "    print(token.pos_)"
      ],
      "metadata": {
        "colab": {
          "base_uri": "https://localhost:8080/"
        },
        "id": "n5vLxTkikd-a",
        "outputId": "5c7cd7c7-7cfd-4078-eff2-d5b7a1ed920b"
      },
      "execution_count": 10,
      "outputs": [
        {
          "output_type": "stream",
          "name": "stdout",
          "text": [
            "PROPN\n",
            "AUX\n",
            "VERB\n",
            "ADP\n",
            "VERB\n",
            "PROPN\n",
            "NOUN\n",
            "ADP\n",
            "SYM\n",
            "NUM\n",
            "NUM\n"
          ]
        }
      ]
    },
    {
      "cell_type": "code",
      "source": [
        "for token in doc:\n",
        "    print(token.text, token.pos_)"
      ],
      "metadata": {
        "colab": {
          "base_uri": "https://localhost:8080/"
        },
        "id": "zCq8y8J2khA7",
        "outputId": "0b91c325-8836-4ebc-e17c-3e63c60bc248"
      },
      "execution_count": 11,
      "outputs": [
        {
          "output_type": "stream",
          "name": "stdout",
          "text": [
            "Apple PROPN\n",
            "is AUX\n",
            "looking VERB\n",
            "at ADP\n",
            "buying VERB\n",
            "U.K. PROPN\n",
            "startup NOUN\n",
            "for ADP\n",
            "$ SYM\n",
            "1 NUM\n",
            "billion NUM\n"
          ]
        }
      ]
    },
    {
      "cell_type": "code",
      "source": [
        "# What is POS in spaCy?\n",
        "# POS Tagging in NLP using Spacy - AskPython\n",
        "# Parts of Speech (POS) are the words that perform different roles in a sentence. The English language has 8 parts of speech.\n",
        "# data NOUN\n",
        "# science NOUN\n",
        "# and CCONJ\n",
        "# ai AUX\n",
        "# has VERB\n",
        "# greate ADJ\n",
        "# career NOUN\n",
        "# ahead ADV\n",
        "for token in doc:\n",
        "    print(token.text, token.pos_, token.lemma_)"
      ],
      "metadata": {
        "colab": {
          "base_uri": "https://localhost:8080/"
        },
        "id": "mA0kTm4UknXo",
        "outputId": "f922eebb-56e5-4ce0-9941-ab366343da9e"
      },
      "execution_count": 12,
      "outputs": [
        {
          "output_type": "stream",
          "name": "stdout",
          "text": [
            "Apple PROPN Apple\n",
            "is AUX be\n",
            "looking VERB look\n",
            "at ADP at\n",
            "buying VERB buy\n",
            "U.K. PROPN U.K.\n",
            "startup NOUN startup\n",
            "for ADP for\n",
            "$ SYM $\n",
            "1 NUM 1\n",
            "billion NUM billion\n"
          ]
        }
      ]
    },
    {
      "cell_type": "code",
      "source": [
        "text = \"\"\"There are broadly two types of extractive summarization tasks depending on what the summarization program focuses on. The first is generic summarization, which focuses on obtaining a generic summary or abstract of the collection (whether documents, or sets of images, or videos, news stories etc.). The second is query relevant summarization, sometimes called query-based summarization, which summarizes objects specific to a query. Summarization systems are able to create both query relevant text summaries and generic machine-generated summaries depending on what the user needs.\n",
        "# collection summarization is another application example of automatic summarization. It consists in selecting a representative set of images from a larger set of images.[4] A summary in this context is useful to show the most representative images of results in an image collection exploration system. Video summarization is a related domain, where the system automatically creates a trailer of a long video. This also has applications in consumer or personal videos, where one might want to skip the boring or repetitive actions. Similarly, in surveillance videos, one would want to extract important and suspicious activity, while ignoring all the boring and redundant frames captured \"\"\"\n",
        "text"
      ],
      "metadata": {
        "colab": {
          "base_uri": "https://localhost:8080/",
          "height": 145
        },
        "id": "n8hIppvbkrwg",
        "outputId": "a8d8b8b7-05a0-45d2-ee12-20e57ba263fe"
      },
      "execution_count": 13,
      "outputs": [
        {
          "output_type": "execute_result",
          "data": {
            "text/plain": [
              "'There are broadly two types of extractive summarization tasks depending on what the summarization program focuses on. The first is generic summarization, which focuses on obtaining a generic summary or abstract of the collection (whether documents, or sets of images, or videos, news stories etc.). The second is query relevant summarization, sometimes called query-based summarization, which summarizes objects specific to a query. Summarization systems are able to create both query relevant text summaries and generic machine-generated summaries depending on what the user needs.\\n# collection summarization is another application example of automatic summarization. It consists in selecting a representative set of images from a larger set of images.[4] A summary in this context is useful to show the most representative images of results in an image collection exploration system. Video summarization is a related domain, where the system automatically creates a trailer of a long video. This also has applications in consumer or personal videos, where one might want to skip the boring or repetitive actions. Similarly, in surveillance videos, one would want to extract important and suspicious activity, while ignoring all the boring and redundant frames captured '"
            ],
            "application/vnd.google.colaboratory.intrinsic+json": {
              "type": "string"
            }
          },
          "metadata": {},
          "execution_count": 13
        }
      ]
    },
    {
      "cell_type": "code",
      "source": [
        "# 'There are broadly two types of extractive summarization tasks depending on what the summarization program focuses on. The first is generic summarization, which focuses on obtaining a generic summary or abstract of the collection (whether documents, or sets of images, or videos, news stories etc.). The second is query relevant summarization, sometimes called query-based summarization, which summarizes objects specific to a query. Summarization systems are able to create both query relevant text summaries and generic machine-generated summaries depending on what the user needs.\\nAn example of a summarization problem is document summarization, which attempts to automatically produce an abstract from a given document. Sometimes one might be interested in generating a summary from a single source document, while others can use multiple source documents (for example, a cluster of articles on the same topic). This problem is called multi-document summarization. A related application is summarizing news articles. Imagine a system, which automatically pulls together news articles on a given topic (from the web), and concisely represents the latest news as a summary.\\nImage collection summarization is another application example of automatic summarization. It consists in selecting a representative set of images from a larger set of images.[4] A summary in this context is useful to show the most representative images of results in an image collection exploration system. Video summarization is a related domain, where the system automatically creates a trailer of a long video. This also has applications in consumer or personal videos, where one might want to skip the boring or repetitive actions. Similarly, in surveillance videos, one would want to extract important and suspicious activity, while ignoring all the boring and redundant frames captured '\n",
        "import spacy\n",
        "from spacy.lang.en.stop_words import STOP_WORDS\n",
        "# What are the Stopwords in spaCy?\n",
        "# Stop words include words like is , the , a , and , in , to , and so on. They are often considered noise in text analysis tasks because they do not carry significant information about the content or the context of the text.\n",
        "from string import punctuation\n",
        "stopwords = list(STOP_WORDS)\n",
        "stopwords\n"
      ],
      "metadata": {
        "colab": {
          "base_uri": "https://localhost:8080/"
        },
        "id": "pIt0vux3kxA8",
        "outputId": "4a6cce6a-b9b3-48a9-ed7b-5dcbb5e9b9d8"
      },
      "execution_count": 14,
      "outputs": [
        {
          "output_type": "execute_result",
          "data": {
            "text/plain": [
              "['much',\n",
              " 'many',\n",
              " 'his',\n",
              " 'nowhere',\n",
              " 'itself',\n",
              " 'both',\n",
              " '’m',\n",
              " 'towards',\n",
              " 'never',\n",
              " 'several',\n",
              " 'was',\n",
              " 'own',\n",
              " 'it',\n",
              " 'noone',\n",
              " 'out',\n",
              " '‘s',\n",
              " 'six',\n",
              " 'always',\n",
              " 'he',\n",
              " 'anywhere',\n",
              " 'so',\n",
              " 'back',\n",
              " 'a',\n",
              " 'has',\n",
              " 'anyone',\n",
              " 'once',\n",
              " 'you',\n",
              " 'beside',\n",
              " 'beforehand',\n",
              " 'after',\n",
              " 'whenever',\n",
              " 'upon',\n",
              " 'something',\n",
              " 'well',\n",
              " 'her',\n",
              " 'most',\n",
              " 'thereupon',\n",
              " 'any',\n",
              " 'thus',\n",
              " 'show',\n",
              " 'more',\n",
              " 'four',\n",
              " 'top',\n",
              " 'anyway',\n",
              " 'regarding',\n",
              " 'amount',\n",
              " 're',\n",
              " 'among',\n",
              " 'those',\n",
              " 'if',\n",
              " 'otherwise',\n",
              " 'such',\n",
              " 'enough',\n",
              " 'hers',\n",
              " 'part',\n",
              " 'forty',\n",
              " 'to',\n",
              " 'whereas',\n",
              " '‘m',\n",
              " 'whereupon',\n",
              " 'must',\n",
              " 'thence',\n",
              " 'latter',\n",
              " 'same',\n",
              " 'ten',\n",
              " 'these',\n",
              " 'may',\n",
              " 'until',\n",
              " 'be',\n",
              " 'nor',\n",
              " 'sometime',\n",
              " 'themselves',\n",
              " 'anyhow',\n",
              " 'whose',\n",
              " 'in',\n",
              " 'through',\n",
              " 'do',\n",
              " 'almost',\n",
              " 'thereby',\n",
              " 'became',\n",
              " 'give',\n",
              " 'except',\n",
              " 'five',\n",
              " 'all',\n",
              " 'unless',\n",
              " 'they',\n",
              " 'often',\n",
              " 'whoever',\n",
              " 'moreover',\n",
              " '’ve',\n",
              " 'of',\n",
              " '’s',\n",
              " 'herein',\n",
              " 'twenty',\n",
              " 'first',\n",
              " 'too',\n",
              " 'at',\n",
              " 'as',\n",
              " 'however',\n",
              " 'none',\n",
              " 'within',\n",
              " 'hence',\n",
              " 'next',\n",
              " 'without',\n",
              " 'using',\n",
              " 'nothing',\n",
              " 'serious',\n",
              " 'namely',\n",
              " 'being',\n",
              " 'besides',\n",
              " 'i',\n",
              " 'seems',\n",
              " 'go',\n",
              " 'across',\n",
              " 'nevertheless',\n",
              " 'become',\n",
              " 'been',\n",
              " 'from',\n",
              " 'get',\n",
              " 'three',\n",
              " 'therefore',\n",
              " 'whom',\n",
              " 'alone',\n",
              " 'wherever',\n",
              " 'against',\n",
              " 'either',\n",
              " 'there',\n",
              " 'two',\n",
              " 'who',\n",
              " 'toward',\n",
              " 'above',\n",
              " 'already',\n",
              " 'does',\n",
              " 'eight',\n",
              " 'n’t',\n",
              " 'someone',\n",
              " 'again',\n",
              " 'will',\n",
              " 'yourselves',\n",
              " 'some',\n",
              " 'up',\n",
              " 'another',\n",
              " 'than',\n",
              " 'whereby',\n",
              " 'doing',\n",
              " 'by',\n",
              " 'everything',\n",
              " 'ours',\n",
              " 'but',\n",
              " 'twelve',\n",
              " 'whether',\n",
              " 'each',\n",
              " 'whither',\n",
              " 'afterwards',\n",
              " 'might',\n",
              " 'due',\n",
              " 'or',\n",
              " 'every',\n",
              " 'used',\n",
              " 'put',\n",
              " 'call',\n",
              " 'less',\n",
              " 'else',\n",
              " 'becoming',\n",
              " 'into',\n",
              " 'empty',\n",
              " 'under',\n",
              " 'seemed',\n",
              " 'whereafter',\n",
              " 'formerly',\n",
              " 'only',\n",
              " 'for',\n",
              " 'per',\n",
              " 'eleven',\n",
              " 'how',\n",
              " 'before',\n",
              " 'their',\n",
              " 'others',\n",
              " 'when',\n",
              " 'during',\n",
              " 'say',\n",
              " 'have',\n",
              " 'also',\n",
              " \"'ll\",\n",
              " 'hereupon',\n",
              " 'yourself',\n",
              " 'least',\n",
              " 'our',\n",
              " 'with',\n",
              " \"'ve\",\n",
              " 'perhaps',\n",
              " 'third',\n",
              " 'yet',\n",
              " 'are',\n",
              " 'various',\n",
              " 'the',\n",
              " 'below',\n",
              " 'latterly',\n",
              " 'yours',\n",
              " 'about',\n",
              " 'thereafter',\n",
              " 'mostly',\n",
              " 'done',\n",
              " 'its',\n",
              " 'anything',\n",
              " 'had',\n",
              " '‘ve',\n",
              " 'n‘t',\n",
              " 'sometimes',\n",
              " 'would',\n",
              " 'last',\n",
              " 'bottom',\n",
              " 'me',\n",
              " 'fifty',\n",
              " 'she',\n",
              " 'himself',\n",
              " 'and',\n",
              " 'further',\n",
              " 'onto',\n",
              " 'amongst',\n",
              " 'herself',\n",
              " 'ourselves',\n",
              " 'were',\n",
              " 'that',\n",
              " 'whatever',\n",
              " 'meanwhile',\n",
              " 'since',\n",
              " 'then',\n",
              " 'everywhere',\n",
              " \"'m\",\n",
              " 'cannot',\n",
              " 'am',\n",
              " 'ever',\n",
              " 'one',\n",
              " 'over',\n",
              " 'sixty',\n",
              " 'via',\n",
              " 'now',\n",
              " 'move',\n",
              " 'elsewhere',\n",
              " 'hereby',\n",
              " 'did',\n",
              " 'still',\n",
              " 'thru',\n",
              " 'rather',\n",
              " 'quite',\n",
              " 'them',\n",
              " 'full',\n",
              " 'while',\n",
              " 'keep',\n",
              " 'wherein',\n",
              " 'myself',\n",
              " 'mine',\n",
              " 'see',\n",
              " 'although',\n",
              " 'because',\n",
              " 'behind',\n",
              " 'whole',\n",
              " '’re',\n",
              " 'us',\n",
              " 'along',\n",
              " 'everyone',\n",
              " 'front',\n",
              " 'just',\n",
              " 'therein',\n",
              " 'throughout',\n",
              " 'seem',\n",
              " 'even',\n",
              " 'hereafter',\n",
              " 'between',\n",
              " 'nine',\n",
              " 'becomes',\n",
              " 'an',\n",
              " '‘d',\n",
              " 'made',\n",
              " 'ca',\n",
              " 'whence',\n",
              " \"'s\",\n",
              " 'no',\n",
              " 'somewhere',\n",
              " 'please',\n",
              " 'together',\n",
              " 'hundred',\n",
              " 'beyond',\n",
              " 'where',\n",
              " \"n't\",\n",
              " 'seeming',\n",
              " 'my',\n",
              " '‘ll',\n",
              " 'is',\n",
              " 'here',\n",
              " 'could',\n",
              " 'around',\n",
              " 'not',\n",
              " 'on',\n",
              " 'side',\n",
              " 'off',\n",
              " 'former',\n",
              " 'name',\n",
              " 'neither',\n",
              " 'why',\n",
              " 'though',\n",
              " 'should',\n",
              " 'nobody',\n",
              " \"'d\",\n",
              " 'we',\n",
              " 'other',\n",
              " '’ll',\n",
              " \"'re\",\n",
              " 'somehow',\n",
              " 'very',\n",
              " 'can',\n",
              " 'fifteen',\n",
              " 'what',\n",
              " 'few',\n",
              " 'take',\n",
              " 'which',\n",
              " 'really',\n",
              " 'your',\n",
              " 'down',\n",
              " '‘re',\n",
              " 'him',\n",
              " 'this',\n",
              " 'make',\n",
              " '’d',\n",
              " 'indeed']"
            ]
          },
          "metadata": {},
          "execution_count": 14
        }
      ]
    },
    {
      "cell_type": "code",
      "source": [
        "len(stopwords)"
      ],
      "metadata": {
        "colab": {
          "base_uri": "https://localhost:8080/"
        },
        "id": "hjm0YS0xk2cI",
        "outputId": "3b4f7e23-5be8-4d56-bed1-afa571ad35bd"
      },
      "execution_count": 15,
      "outputs": [
        {
          "output_type": "execute_result",
          "data": {
            "text/plain": [
              "326"
            ]
          },
          "metadata": {},
          "execution_count": 15
        }
      ]
    },
    {
      "cell_type": "code",
      "source": [
        "nlp = spacy.load('en_core_web_sm')\n",
        "text"
      ],
      "metadata": {
        "colab": {
          "base_uri": "https://localhost:8080/",
          "height": 145
        },
        "id": "sK_Jp2dik7R9",
        "outputId": "ca60dbef-6b51-4672-a8c1-7a565a51dd10"
      },
      "execution_count": 16,
      "outputs": [
        {
          "output_type": "execute_result",
          "data": {
            "text/plain": [
              "'There are broadly two types of extractive summarization tasks depending on what the summarization program focuses on. The first is generic summarization, which focuses on obtaining a generic summary or abstract of the collection (whether documents, or sets of images, or videos, news stories etc.). The second is query relevant summarization, sometimes called query-based summarization, which summarizes objects specific to a query. Summarization systems are able to create both query relevant text summaries and generic machine-generated summaries depending on what the user needs.\\n# collection summarization is another application example of automatic summarization. It consists in selecting a representative set of images from a larger set of images.[4] A summary in this context is useful to show the most representative images of results in an image collection exploration system. Video summarization is a related domain, where the system automatically creates a trailer of a long video. This also has applications in consumer or personal videos, where one might want to skip the boring or repetitive actions. Similarly, in surveillance videos, one would want to extract important and suspicious activity, while ignoring all the boring and redundant frames captured '"
            ],
            "application/vnd.google.colaboratory.intrinsic+json": {
              "type": "string"
            }
          },
          "metadata": {},
          "execution_count": 16
        }
      ]
    },
    {
      "cell_type": "code",
      "source": [
        "#y relevant summarization, sometimes called query-based summarization, which summarizes objects specific to a query. Summarization systems are able to create both query relevant text summaries and generic machine-generated summaries depending on what the user needs.\\nAn example of a summarization problem is document summarization, which attempts to automatically produce an abstract from a given document. Sometimes one might be interested in generating a summary from a single source document, while others can use multiple source documents (for example, a cluster of articles on the same topic). This problem is called multi-document summarization. A related application is summarizing news articles. Imagine a system, which automatically pulls together news articles on a given topic (from the web), and concisely represents the latest news as a summary.\\nImage collection summarization is another application example of automatic summarization. It consists in selecting a representative set of images from a larger set of images.[4] A summary in this context is useful to show the most representative images of results in an image collection exploration system. Video summarization is a related domain, where the system automatically creates a trailer of a long video. This also has applications in consumer or personal videos, where one might want to skip the boring or repetitive actions. Similarly, in surveillance videos, one would want to extract important and suspicious activity, while ignoring all the boring and redundant frames captured '\n",
        "doc = nlp(text)\n",
        "doc"
      ],
      "metadata": {
        "colab": {
          "base_uri": "https://localhost:8080/"
        },
        "id": "b4jYBjn4lAQN",
        "outputId": "cc84ac97-2672-4255-9912-b6e1a380638f"
      },
      "execution_count": 17,
      "outputs": [
        {
          "output_type": "execute_result",
          "data": {
            "text/plain": [
              "There are broadly two types of extractive summarization tasks depending on what the summarization program focuses on. The first is generic summarization, which focuses on obtaining a generic summary or abstract of the collection (whether documents, or sets of images, or videos, news stories etc.). The second is query relevant summarization, sometimes called query-based summarization, which summarizes objects specific to a query. Summarization systems are able to create both query relevant text summaries and generic machine-generated summaries depending on what the user needs.\n",
              "# collection summarization is another application example of automatic summarization. It consists in selecting a representative set of images from a larger set of images.[4] A summary in this context is useful to show the most representative images of results in an image collection exploration system. Video summarization is a related domain, where the system automatically creates a trailer of a long video. This also has applications in consumer or personal videos, where one might want to skip the boring or repetitive actions. Similarly, in surveillance videos, one would want to extract important and suspicious activity, while ignoring all the boring and redundant frames captured "
            ]
          },
          "metadata": {},
          "execution_count": 17
        }
      ]
    },
    {
      "cell_type": "code",
      "source": [
        "#\n",
        "tokens = [token.text for token in doc]\n",
        "print(tokens)"
      ],
      "metadata": {
        "colab": {
          "base_uri": "https://localhost:8080/"
        },
        "id": "4rjBh2whlEi3",
        "outputId": "ebfcfec9-7a9a-4806-9e85-e63f4df2d78f"
      },
      "execution_count": 18,
      "outputs": [
        {
          "output_type": "stream",
          "name": "stdout",
          "text": [
            "['There', 'are', 'broadly', 'two', 'types', 'of', 'extractive', 'summarization', 'tasks', 'depending', 'on', 'what', 'the', 'summarization', 'program', 'focuses', 'on', '.', 'The', 'first', 'is', 'generic', 'summarization', ',', 'which', 'focuses', 'on', 'obtaining', 'a', 'generic', 'summary', 'or', 'abstract', 'of', 'the', 'collection', '(', 'whether', 'documents', ',', 'or', 'sets', 'of', 'images', ',', 'or', 'videos', ',', 'news', 'stories', 'etc', '.', ')', '.', 'The', 'second', 'is', 'query', 'relevant', 'summarization', ',', 'sometimes', 'called', 'query', '-', 'based', 'summarization', ',', 'which', 'summarizes', 'objects', 'specific', 'to', 'a', 'query', '.', 'Summarization', 'systems', 'are', 'able', 'to', 'create', 'both', 'query', 'relevant', 'text', 'summaries', 'and', 'generic', 'machine', '-', 'generated', 'summaries', 'depending', 'on', 'what', 'the', 'user', 'needs', '.', '\\n', '#', 'collection', 'summarization', 'is', 'another', 'application', 'example', 'of', 'automatic', 'summarization', '.', 'It', 'consists', 'in', 'selecting', 'a', 'representative', 'set', 'of', 'images', 'from', 'a', 'larger', 'set', 'of', 'images.[4', ']', 'A', 'summary', 'in', 'this', 'context', 'is', 'useful', 'to', 'show', 'the', 'most', 'representative', 'images', 'of', 'results', 'in', 'an', 'image', 'collection', 'exploration', 'system', '.', 'Video', 'summarization', 'is', 'a', 'related', 'domain', ',', 'where', 'the', 'system', 'automatically', 'creates', 'a', 'trailer', 'of', 'a', 'long', 'video', '.', 'This', 'also', 'has', 'applications', 'in', 'consumer', 'or', 'personal', 'videos', ',', 'where', 'one', 'might', 'want', 'to', 'skip', 'the', 'boring', 'or', 'repetitive', 'actions', '.', 'Similarly', ',', 'in', 'surveillance', 'videos', ',', 'one', 'would', 'want', 'to', 'extract', 'important', 'and', 'suspicious', 'activity', ',', 'while', 'ignoring', 'all', 'the', 'boring', 'and', 'redundant', 'frames', 'captured']\n"
          ]
        }
      ]
    },
    {
      "cell_type": "code",
      "source": [
        "##when we execute everythihg we created tokens from the text & not removed any of the stopwords & didnt cleaned the data\n",
        "# 'is', 'called', 'multi', '-', 'document', 'summarization', '.', 'A', 'related', 'application', 'is', 'summarizing', 'news', 'articles', '.', 'Imagine', 'a', 'system', ',', 'which', 'automatically', 'pulls', 'together', 'news', 'articles', 'on', 'a', 'given', 'topic', '(', 'from', 'the', 'web', ')', ',', 'and', 'concisely', 'represents', 'the', 'latest', 'news', 'as', 'a', 'summary', '.', '\\n', 'Image', 'collection', 'summarization', 'is', 'another', 'application', 'example', 'of', 'automatic', 'summarization', '.', 'It', 'consists', 'in', 'selecting', 'a', 'representative', 'set', 'of', 'images', 'from', 'a', 'larger', 'set', 'of', 'images.[4', ']', 'A', 'summary', 'in', 'this', 'context', 'is', 'useful', 'to', 'show', 'the', 'most', 'representative', 'images', 'of', 'results', 'in', 'an', 'image', 'collection', 'exploration', 'system', '.', 'Video', 'summarization', 'is', 'a', 'related', 'domain', ',', 'where', 'the', 'system', 'automatically', 'creates', 'a', 'trailer', 'of', 'a', 'long', 'video', '.', 'This', 'also', 'has', 'applications', 'in', 'consumer', 'or', 'personal', 'videos', ',', 'where', 'one', 'might', 'want', 'to', 'skip', 'the', 'boring', 'or', 'repetitive', 'actions', '.', 'Similarly', ',', 'in', 'surveillance', 'videos', ',', 'one', 'would', 'want', 'to', 'extract', 'important', 'and', 'suspicious', 'activity', ',', 'while', 'ignoring', 'all', 'the', 'boring', 'and', 'redundant', 'frames', 'captured']\n",
        "# TEAM PLEASE INSTALL FR_CORE_WEB_SM (PLEASE DONWLOAD THE STOPWONR , LEN OF THE STOPWORDS)\n",
        "tokens"
      ],
      "metadata": {
        "colab": {
          "base_uri": "https://localhost:8080/"
        },
        "id": "vNd1kobSlH2u",
        "outputId": "6531c955-b2be-4e0e-8d17-48d66c8170c6"
      },
      "execution_count": 19,
      "outputs": [
        {
          "output_type": "execute_result",
          "data": {
            "text/plain": [
              "['There',\n",
              " 'are',\n",
              " 'broadly',\n",
              " 'two',\n",
              " 'types',\n",
              " 'of',\n",
              " 'extractive',\n",
              " 'summarization',\n",
              " 'tasks',\n",
              " 'depending',\n",
              " 'on',\n",
              " 'what',\n",
              " 'the',\n",
              " 'summarization',\n",
              " 'program',\n",
              " 'focuses',\n",
              " 'on',\n",
              " '.',\n",
              " 'The',\n",
              " 'first',\n",
              " 'is',\n",
              " 'generic',\n",
              " 'summarization',\n",
              " ',',\n",
              " 'which',\n",
              " 'focuses',\n",
              " 'on',\n",
              " 'obtaining',\n",
              " 'a',\n",
              " 'generic',\n",
              " 'summary',\n",
              " 'or',\n",
              " 'abstract',\n",
              " 'of',\n",
              " 'the',\n",
              " 'collection',\n",
              " '(',\n",
              " 'whether',\n",
              " 'documents',\n",
              " ',',\n",
              " 'or',\n",
              " 'sets',\n",
              " 'of',\n",
              " 'images',\n",
              " ',',\n",
              " 'or',\n",
              " 'videos',\n",
              " ',',\n",
              " 'news',\n",
              " 'stories',\n",
              " 'etc',\n",
              " '.',\n",
              " ')',\n",
              " '.',\n",
              " 'The',\n",
              " 'second',\n",
              " 'is',\n",
              " 'query',\n",
              " 'relevant',\n",
              " 'summarization',\n",
              " ',',\n",
              " 'sometimes',\n",
              " 'called',\n",
              " 'query',\n",
              " '-',\n",
              " 'based',\n",
              " 'summarization',\n",
              " ',',\n",
              " 'which',\n",
              " 'summarizes',\n",
              " 'objects',\n",
              " 'specific',\n",
              " 'to',\n",
              " 'a',\n",
              " 'query',\n",
              " '.',\n",
              " 'Summarization',\n",
              " 'systems',\n",
              " 'are',\n",
              " 'able',\n",
              " 'to',\n",
              " 'create',\n",
              " 'both',\n",
              " 'query',\n",
              " 'relevant',\n",
              " 'text',\n",
              " 'summaries',\n",
              " 'and',\n",
              " 'generic',\n",
              " 'machine',\n",
              " '-',\n",
              " 'generated',\n",
              " 'summaries',\n",
              " 'depending',\n",
              " 'on',\n",
              " 'what',\n",
              " 'the',\n",
              " 'user',\n",
              " 'needs',\n",
              " '.',\n",
              " '\\n',\n",
              " '#',\n",
              " 'collection',\n",
              " 'summarization',\n",
              " 'is',\n",
              " 'another',\n",
              " 'application',\n",
              " 'example',\n",
              " 'of',\n",
              " 'automatic',\n",
              " 'summarization',\n",
              " '.',\n",
              " 'It',\n",
              " 'consists',\n",
              " 'in',\n",
              " 'selecting',\n",
              " 'a',\n",
              " 'representative',\n",
              " 'set',\n",
              " 'of',\n",
              " 'images',\n",
              " 'from',\n",
              " 'a',\n",
              " 'larger',\n",
              " 'set',\n",
              " 'of',\n",
              " 'images.[4',\n",
              " ']',\n",
              " 'A',\n",
              " 'summary',\n",
              " 'in',\n",
              " 'this',\n",
              " 'context',\n",
              " 'is',\n",
              " 'useful',\n",
              " 'to',\n",
              " 'show',\n",
              " 'the',\n",
              " 'most',\n",
              " 'representative',\n",
              " 'images',\n",
              " 'of',\n",
              " 'results',\n",
              " 'in',\n",
              " 'an',\n",
              " 'image',\n",
              " 'collection',\n",
              " 'exploration',\n",
              " 'system',\n",
              " '.',\n",
              " 'Video',\n",
              " 'summarization',\n",
              " 'is',\n",
              " 'a',\n",
              " 'related',\n",
              " 'domain',\n",
              " ',',\n",
              " 'where',\n",
              " 'the',\n",
              " 'system',\n",
              " 'automatically',\n",
              " 'creates',\n",
              " 'a',\n",
              " 'trailer',\n",
              " 'of',\n",
              " 'a',\n",
              " 'long',\n",
              " 'video',\n",
              " '.',\n",
              " 'This',\n",
              " 'also',\n",
              " 'has',\n",
              " 'applications',\n",
              " 'in',\n",
              " 'consumer',\n",
              " 'or',\n",
              " 'personal',\n",
              " 'videos',\n",
              " ',',\n",
              " 'where',\n",
              " 'one',\n",
              " 'might',\n",
              " 'want',\n",
              " 'to',\n",
              " 'skip',\n",
              " 'the',\n",
              " 'boring',\n",
              " 'or',\n",
              " 'repetitive',\n",
              " 'actions',\n",
              " '.',\n",
              " 'Similarly',\n",
              " ',',\n",
              " 'in',\n",
              " 'surveillance',\n",
              " 'videos',\n",
              " ',',\n",
              " 'one',\n",
              " 'would',\n",
              " 'want',\n",
              " 'to',\n",
              " 'extract',\n",
              " 'important',\n",
              " 'and',\n",
              " 'suspicious',\n",
              " 'activity',\n",
              " ',',\n",
              " 'while',\n",
              " 'ignoring',\n",
              " 'all',\n",
              " 'the',\n",
              " 'boring',\n",
              " 'and',\n",
              " 'redundant',\n",
              " 'frames',\n",
              " 'captured']"
            ]
          },
          "metadata": {},
          "execution_count": 19
        }
      ]
    },
    {
      "cell_type": "code",
      "source": [
        "len(tokens)\n",
        "\n",
        "#punctuation # also called as noisy characters\n",
        "#'!\"#$%&\\'()*+,-./:;<=>?@[\\\\]^_`{|}~'"
      ],
      "metadata": {
        "colab": {
          "base_uri": "https://localhost:8080/"
        },
        "id": "3g0Hs87PlMea",
        "outputId": "b16c089b-49db-432a-f9e3-a4c13c63d819"
      },
      "execution_count": 20,
      "outputs": [
        {
          "output_type": "execute_result",
          "data": {
            "text/plain": [
              "216"
            ]
          },
          "metadata": {},
          "execution_count": 20
        }
      ]
    },
    {
      "cell_type": "code",
      "source": [
        "doc\n",
        "#collection summarization is another application example of automatic summarization. It consists in selecting a representative set of images from a larger set of images.[4] A summary in this context is useful to show the most representative images of results in an image collection exploration system. Video summarization is a related domain, where the system automatically creates a trailer of a long video. This also has applications in consumer or personal videos, where one might want to skip the boring or repetitive actions. Similarly, in surveillance videos, one would want to extract important and suspicious activity, while ignoring all the boring and redundant frames captured\n",
        "#we have to calcualte the freaquency of each and every word, how many time word is repetation in text\n"
      ],
      "metadata": {
        "colab": {
          "base_uri": "https://localhost:8080/"
        },
        "id": "QbVtV-6dlTXu",
        "outputId": "289d8785-1c5b-4ee2-9417-325a1215da32"
      },
      "execution_count": 21,
      "outputs": [
        {
          "output_type": "execute_result",
          "data": {
            "text/plain": [
              "There are broadly two types of extractive summarization tasks depending on what the summarization program focuses on. The first is generic summarization, which focuses on obtaining a generic summary or abstract of the collection (whether documents, or sets of images, or videos, news stories etc.). The second is query relevant summarization, sometimes called query-based summarization, which summarizes objects specific to a query. Summarization systems are able to create both query relevant text summaries and generic machine-generated summaries depending on what the user needs.\n",
              "# collection summarization is another application example of automatic summarization. It consists in selecting a representative set of images from a larger set of images.[4] A summary in this context is useful to show the most representative images of results in an image collection exploration system. Video summarization is a related domain, where the system automatically creates a trailer of a long video. This also has applications in consumer or personal videos, where one might want to skip the boring or repetitive actions. Similarly, in surveillance videos, one would want to extract important and suspicious activity, while ignoring all the boring and redundant frames captured "
            ]
          },
          "metadata": {},
          "execution_count": 21
        }
      ]
    },
    {
      "cell_type": "code",
      "source": [
        "word_frequencies = {}\n",
        "\n",
        "for word in doc:\n",
        "    if word.text.lower() not in stopwords:\n",
        "        if word.text.lower() not in punctuation:\n",
        "            if word.text not in word_frequencies.keys():\n",
        "                word_frequencies[word.text] = 1\n",
        "            else:\n",
        "                word_frequencies[word.text] += 1\n",
        "word_frequencies\n",
        "#print(word_frequencies)\n",
        "\n",
        "\n",
        ""
      ],
      "metadata": {
        "colab": {
          "base_uri": "https://localhost:8080/"
        },
        "id": "QALzBpxxlZEW",
        "outputId": "6faf651f-22f1-458a-a669-9adfcdc42a92"
      },
      "execution_count": 25,
      "outputs": [
        {
          "output_type": "execute_result",
          "data": {
            "text/plain": [
              "{'broadly': 1,\n",
              " 'types': 1,\n",
              " 'extractive': 1,\n",
              " 'summarization': 8,\n",
              " 'tasks': 1,\n",
              " 'depending': 2,\n",
              " 'program': 1,\n",
              " 'focuses': 2,\n",
              " 'generic': 3,\n",
              " 'obtaining': 1,\n",
              " 'summary': 2,\n",
              " 'abstract': 1,\n",
              " 'collection': 3,\n",
              " 'documents': 1,\n",
              " 'sets': 1,\n",
              " 'images': 3,\n",
              " 'videos': 3,\n",
              " 'news': 1,\n",
              " 'stories': 1,\n",
              " 'etc': 1,\n",
              " 'second': 1,\n",
              " 'query': 4,\n",
              " 'relevant': 2,\n",
              " 'called': 1,\n",
              " 'based': 1,\n",
              " 'summarizes': 1,\n",
              " 'objects': 1,\n",
              " 'specific': 1,\n",
              " 'Summarization': 1,\n",
              " 'systems': 1,\n",
              " 'able': 1,\n",
              " 'create': 1,\n",
              " 'text': 1,\n",
              " 'summaries': 2,\n",
              " 'machine': 1,\n",
              " 'generated': 1,\n",
              " 'user': 1,\n",
              " 'needs': 1,\n",
              " '\\n': 1,\n",
              " 'application': 1,\n",
              " 'example': 1,\n",
              " 'automatic': 1,\n",
              " 'consists': 1,\n",
              " 'selecting': 1,\n",
              " 'representative': 2,\n",
              " 'set': 2,\n",
              " 'larger': 1,\n",
              " 'images.[4': 1,\n",
              " 'context': 1,\n",
              " 'useful': 1,\n",
              " 'results': 1,\n",
              " 'image': 1,\n",
              " 'exploration': 1,\n",
              " 'system': 2,\n",
              " 'Video': 1,\n",
              " 'related': 1,\n",
              " 'domain': 1,\n",
              " 'automatically': 1,\n",
              " 'creates': 1,\n",
              " 'trailer': 1,\n",
              " 'long': 1,\n",
              " 'video': 1,\n",
              " 'applications': 1,\n",
              " 'consumer': 1,\n",
              " 'personal': 1,\n",
              " 'want': 2,\n",
              " 'skip': 1,\n",
              " 'boring': 2,\n",
              " 'repetitive': 1,\n",
              " 'actions': 1,\n",
              " 'Similarly': 1,\n",
              " 'surveillance': 1,\n",
              " 'extract': 1,\n",
              " 'important': 1,\n",
              " 'suspicious': 1,\n",
              " 'activity': 1,\n",
              " 'ignoring': 1,\n",
              " 'redundant': 1,\n",
              " 'frames': 1,\n",
              " 'captured': 1}"
            ]
          },
          "metadata": {},
          "execution_count": 25
        }
      ]
    },
    {
      "cell_type": "code",
      "source": [
        "len(word_frequencies)\n"
      ],
      "metadata": {
        "colab": {
          "base_uri": "https://localhost:8080/"
        },
        "id": "NLIT975fldKz",
        "outputId": "17ee7a40-184b-4a76-f65b-b702ca3dcb90"
      },
      "execution_count": 24,
      "outputs": [
        {
          "output_type": "execute_result",
          "data": {
            "text/plain": [
              "80"
            ]
          },
          "metadata": {},
          "execution_count": 24
        }
      ]
    },
    {
      "cell_type": "code",
      "source": [
        "#103\n",
        "word_frequencies"
      ],
      "metadata": {
        "colab": {
          "base_uri": "https://localhost:8080/"
        },
        "id": "jMaBeviklkfK",
        "outputId": "6d9e319f-4276-4871-c5a3-508f4a9f20b0"
      },
      "execution_count": 26,
      "outputs": [
        {
          "output_type": "execute_result",
          "data": {
            "text/plain": [
              "{'broadly': 1,\n",
              " 'types': 1,\n",
              " 'extractive': 1,\n",
              " 'summarization': 8,\n",
              " 'tasks': 1,\n",
              " 'depending': 2,\n",
              " 'program': 1,\n",
              " 'focuses': 2,\n",
              " 'generic': 3,\n",
              " 'obtaining': 1,\n",
              " 'summary': 2,\n",
              " 'abstract': 1,\n",
              " 'collection': 3,\n",
              " 'documents': 1,\n",
              " 'sets': 1,\n",
              " 'images': 3,\n",
              " 'videos': 3,\n",
              " 'news': 1,\n",
              " 'stories': 1,\n",
              " 'etc': 1,\n",
              " 'second': 1,\n",
              " 'query': 4,\n",
              " 'relevant': 2,\n",
              " 'called': 1,\n",
              " 'based': 1,\n",
              " 'summarizes': 1,\n",
              " 'objects': 1,\n",
              " 'specific': 1,\n",
              " 'Summarization': 1,\n",
              " 'systems': 1,\n",
              " 'able': 1,\n",
              " 'create': 1,\n",
              " 'text': 1,\n",
              " 'summaries': 2,\n",
              " 'machine': 1,\n",
              " 'generated': 1,\n",
              " 'user': 1,\n",
              " 'needs': 1,\n",
              " '\\n': 1,\n",
              " 'application': 1,\n",
              " 'example': 1,\n",
              " 'automatic': 1,\n",
              " 'consists': 1,\n",
              " 'selecting': 1,\n",
              " 'representative': 2,\n",
              " 'set': 2,\n",
              " 'larger': 1,\n",
              " 'images.[4': 1,\n",
              " 'context': 1,\n",
              " 'useful': 1,\n",
              " 'results': 1,\n",
              " 'image': 1,\n",
              " 'exploration': 1,\n",
              " 'system': 2,\n",
              " 'Video': 1,\n",
              " 'related': 1,\n",
              " 'domain': 1,\n",
              " 'automatically': 1,\n",
              " 'creates': 1,\n",
              " 'trailer': 1,\n",
              " 'long': 1,\n",
              " 'video': 1,\n",
              " 'applications': 1,\n",
              " 'consumer': 1,\n",
              " 'personal': 1,\n",
              " 'want': 2,\n",
              " 'skip': 1,\n",
              " 'boring': 2,\n",
              " 'repetitive': 1,\n",
              " 'actions': 1,\n",
              " 'Similarly': 1,\n",
              " 'surveillance': 1,\n",
              " 'extract': 1,\n",
              " 'important': 1,\n",
              " 'suspicious': 1,\n",
              " 'activity': 1,\n",
              " 'ignoring': 1,\n",
              " 'redundant': 1,\n",
              " 'frames': 1,\n",
              " 'captured': 1}"
            ]
          },
          "metadata": {},
          "execution_count": 26
        }
      ]
    },
    {
      "cell_type": "code",
      "source": [
        "max_frequency = max(word_frequencies.values())\n",
        "max_frequency"
      ],
      "metadata": {
        "colab": {
          "base_uri": "https://localhost:8080/"
        },
        "id": "Tl1PGhKUllVU",
        "outputId": "cb73df17-e812-4f0d-b96b-2da3ade15bbe"
      },
      "execution_count": 27,
      "outputs": [
        {
          "output_type": "execute_result",
          "data": {
            "text/plain": [
              "8"
            ]
          },
          "metadata": {},
          "execution_count": 27
        }
      ]
    },
    {
      "cell_type": "code",
      "source": [
        "#to get normalized/weighted frequencies you should devide all frequencies with 11\n",
        "for word in word_frequencies.keys():\n",
        "    word_frequencies[word] = word_frequencies[word]/max_frequency\n",
        "#print(word_frequencies)\n",
        "word_frequencies\n",
        "#this is the normalized frequencies of each word"
      ],
      "metadata": {
        "colab": {
          "base_uri": "https://localhost:8080/"
        },
        "id": "mRqT5GOzltV_",
        "outputId": "b4db0143-7e97-4ea9-b581-b324751c333d"
      },
      "execution_count": 28,
      "outputs": [
        {
          "output_type": "execute_result",
          "data": {
            "text/plain": [
              "{'broadly': 0.125,\n",
              " 'types': 0.125,\n",
              " 'extractive': 0.125,\n",
              " 'summarization': 1.0,\n",
              " 'tasks': 0.125,\n",
              " 'depending': 0.25,\n",
              " 'program': 0.125,\n",
              " 'focuses': 0.25,\n",
              " 'generic': 0.375,\n",
              " 'obtaining': 0.125,\n",
              " 'summary': 0.25,\n",
              " 'abstract': 0.125,\n",
              " 'collection': 0.375,\n",
              " 'documents': 0.125,\n",
              " 'sets': 0.125,\n",
              " 'images': 0.375,\n",
              " 'videos': 0.375,\n",
              " 'news': 0.125,\n",
              " 'stories': 0.125,\n",
              " 'etc': 0.125,\n",
              " 'second': 0.125,\n",
              " 'query': 0.5,\n",
              " 'relevant': 0.25,\n",
              " 'called': 0.125,\n",
              " 'based': 0.125,\n",
              " 'summarizes': 0.125,\n",
              " 'objects': 0.125,\n",
              " 'specific': 0.125,\n",
              " 'Summarization': 0.125,\n",
              " 'systems': 0.125,\n",
              " 'able': 0.125,\n",
              " 'create': 0.125,\n",
              " 'text': 0.125,\n",
              " 'summaries': 0.25,\n",
              " 'machine': 0.125,\n",
              " 'generated': 0.125,\n",
              " 'user': 0.125,\n",
              " 'needs': 0.125,\n",
              " '\\n': 0.125,\n",
              " 'application': 0.125,\n",
              " 'example': 0.125,\n",
              " 'automatic': 0.125,\n",
              " 'consists': 0.125,\n",
              " 'selecting': 0.125,\n",
              " 'representative': 0.25,\n",
              " 'set': 0.25,\n",
              " 'larger': 0.125,\n",
              " 'images.[4': 0.125,\n",
              " 'context': 0.125,\n",
              " 'useful': 0.125,\n",
              " 'results': 0.125,\n",
              " 'image': 0.125,\n",
              " 'exploration': 0.125,\n",
              " 'system': 0.25,\n",
              " 'Video': 0.125,\n",
              " 'related': 0.125,\n",
              " 'domain': 0.125,\n",
              " 'automatically': 0.125,\n",
              " 'creates': 0.125,\n",
              " 'trailer': 0.125,\n",
              " 'long': 0.125,\n",
              " 'video': 0.125,\n",
              " 'applications': 0.125,\n",
              " 'consumer': 0.125,\n",
              " 'personal': 0.125,\n",
              " 'want': 0.25,\n",
              " 'skip': 0.125,\n",
              " 'boring': 0.25,\n",
              " 'repetitive': 0.125,\n",
              " 'actions': 0.125,\n",
              " 'Similarly': 0.125,\n",
              " 'surveillance': 0.125,\n",
              " 'extract': 0.125,\n",
              " 'important': 0.125,\n",
              " 'suspicious': 0.125,\n",
              " 'activity': 0.125,\n",
              " 'ignoring': 0.125,\n",
              " 'redundant': 0.125,\n",
              " 'frames': 0.125,\n",
              " 'captured': 0.125}"
            ]
          },
          "metadata": {},
          "execution_count": 28
        }
      ]
    },
    {
      "cell_type": "code",
      "source": [
        "sentence_tokens = [sent for sent in doc.sents]\n",
        "sentence_tokens"
      ],
      "metadata": {
        "colab": {
          "base_uri": "https://localhost:8080/"
        },
        "id": "SzNzMQxtlxm5",
        "outputId": "3463c207-ad1f-4682-d096-f409dc479613"
      },
      "execution_count": 29,
      "outputs": [
        {
          "output_type": "execute_result",
          "data": {
            "text/plain": [
              "[There are broadly two types of extractive summarization tasks depending on what the summarization program focuses on.,\n",
              " The first is generic summarization, which focuses on obtaining a generic summary or abstract of the collection (whether documents, or sets of images, or videos, news stories etc.).,\n",
              " The second is query relevant summarization, sometimes called query-based summarization, which summarizes objects specific to a query.,\n",
              " Summarization systems are able to create both query relevant text summaries and generic machine-generated summaries depending on what the user needs.,\n",
              " # collection summarization is another application example of automatic summarization.,\n",
              " It consists in selecting a representative set of images from a larger set of images.[4] A summary in this context is useful to show the most representative images of results in an image collection exploration system.,\n",
              " Video summarization is a related domain, where the system automatically creates a trailer of a long video.,\n",
              " This also has applications in consumer or personal videos, where one might want to skip the boring or repetitive actions.,\n",
              " Similarly, in surveillance videos, one would want to extract important and suspicious activity, while ignoring all the boring and redundant frames captured]"
            ]
          },
          "metadata": {},
          "execution_count": 29
        }
      ]
    },
    {
      "cell_type": "code",
      "source": [
        "len(sentence_tokens)"
      ],
      "metadata": {
        "colab": {
          "base_uri": "https://localhost:8080/"
        },
        "id": "o5EPI7iGl2iO",
        "outputId": "c7d52922-1cd5-49aa-951d-dc3e84384d76"
      },
      "execution_count": 30,
      "outputs": [
        {
          "output_type": "execute_result",
          "data": {
            "text/plain": [
              "9"
            ]
          },
          "metadata": {},
          "execution_count": 30
        }
      ]
    },
    {
      "cell_type": "code",
      "source": [
        "sentence_tokens"
      ],
      "metadata": {
        "colab": {
          "base_uri": "https://localhost:8080/"
        },
        "id": "00IimRqMl57Y",
        "outputId": "14ef77bf-ef9a-471e-8125-12dd0dab9a70"
      },
      "execution_count": 31,
      "outputs": [
        {
          "output_type": "execute_result",
          "data": {
            "text/plain": [
              "[There are broadly two types of extractive summarization tasks depending on what the summarization program focuses on.,\n",
              " The first is generic summarization, which focuses on obtaining a generic summary or abstract of the collection (whether documents, or sets of images, or videos, news stories etc.).,\n",
              " The second is query relevant summarization, sometimes called query-based summarization, which summarizes objects specific to a query.,\n",
              " Summarization systems are able to create both query relevant text summaries and generic machine-generated summaries depending on what the user needs.,\n",
              " # collection summarization is another application example of automatic summarization.,\n",
              " It consists in selecting a representative set of images from a larger set of images.[4] A summary in this context is useful to show the most representative images of results in an image collection exploration system.,\n",
              " Video summarization is a related domain, where the system automatically creates a trailer of a long video.,\n",
              " This also has applications in consumer or personal videos, where one might want to skip the boring or repetitive actions.,\n",
              " Similarly, in surveillance videos, one would want to extract important and suspicious activity, while ignoring all the boring and redundant frames captured]"
            ]
          },
          "metadata": {},
          "execution_count": 31
        }
      ]
    },
    {
      "cell_type": "code",
      "source": [
        "sentence_scores = {}\n",
        "\n",
        "for sent in sentence_tokens:\n",
        "    for word in sent:\n",
        "        if word.text.lower() in word_frequencies.keys():\n",
        "            if sent not in sentence_scores.keys():\n",
        "                sentence_scores[sent] = word_frequencies[word.text.lower()]\n",
        "            else:\n",
        "                sentence_scores[sent] += word_frequencies[word.text.lower()]\n",
        "\n",
        "sentence_scores"
      ],
      "metadata": {
        "colab": {
          "base_uri": "https://localhost:8080/"
        },
        "id": "MeGRL2i1l6Gs",
        "outputId": "a6f5f924-6635-4be2-9eb7-29b9ff00cf57"
      },
      "execution_count": 32,
      "outputs": [
        {
          "output_type": "execute_result",
          "data": {
            "text/plain": [
              "{There are broadly two types of extractive summarization tasks depending on what the summarization program focuses on.: 3.125,\n",
              " The first is generic summarization, which focuses on obtaining a generic summary or abstract of the collection (whether documents, or sets of images, or videos, news stories etc.).: 4.25,\n",
              " The second is query relevant summarization, sometimes called query-based summarization, which summarizes objects specific to a query.: 4.5,\n",
              " Summarization systems are able to create both query relevant text summaries and generic machine-generated summaries depending on what the user needs.: 4.0,\n",
              " # collection summarization is another application example of automatic summarization.: 2.75,\n",
              " It consists in selecting a representative set of images from a larger set of images.[4] A summary in this context is useful to show the most representative images of results in an image collection exploration system.: 3.75,\n",
              " Video summarization is a related domain, where the system automatically creates a trailer of a long video.: 2.25,\n",
              " This also has applications in consumer or personal videos, where one might want to skip the boring or repetitive actions.: 1.625,\n",
              " Similarly, in surveillance videos, one would want to extract important and suspicious activity, while ignoring all the boring and redundant frames captured: 2.0}"
            ]
          },
          "metadata": {},
          "execution_count": 32
        }
      ]
    },
    {
      "cell_type": "code",
      "source": [
        "from heapq import nlargest\n",
        "select_length = int(len(sentence_tokens)*0.2)\n",
        "select_length"
      ],
      "metadata": {
        "colab": {
          "base_uri": "https://localhost:8080/"
        },
        "id": "40bZVhJimBsC",
        "outputId": "20595401-29d6-469b-bd9b-e418886c209a"
      },
      "execution_count": 33,
      "outputs": [
        {
          "output_type": "execute_result",
          "data": {
            "text/plain": [
              "1"
            ]
          },
          "metadata": {},
          "execution_count": 33
        }
      ]
    },
    {
      "cell_type": "code",
      "source": [
        "summary = nlargest(select_length,sentence_scores, key = sentence_scores.get)\n",
        "summary"
      ],
      "metadata": {
        "colab": {
          "base_uri": "https://localhost:8080/"
        },
        "id": "8NpX54NAmFca",
        "outputId": "5363ac26-3c48-4aa4-8689-ad0ba1f29784"
      },
      "execution_count": 34,
      "outputs": [
        {
          "output_type": "execute_result",
          "data": {
            "text/plain": [
              "[The second is query relevant summarization, sometimes called query-based summarization, which summarizes objects specific to a query.]"
            ]
          },
          "metadata": {},
          "execution_count": 34
        }
      ]
    },
    {
      "cell_type": "code",
      "source": [
        "final_summary = [word.text for word in summary]\n",
        "final_summary"
      ],
      "metadata": {
        "colab": {
          "base_uri": "https://localhost:8080/"
        },
        "id": "XcOsiDRNmFnQ",
        "outputId": "ea8d49f2-04df-4858-fb4c-2a4b345f0eab"
      },
      "execution_count": 35,
      "outputs": [
        {
          "output_type": "execute_result",
          "data": {
            "text/plain": [
              "['The second is query relevant summarization, sometimes called query-based summarization, which summarizes objects specific to a query.']"
            ]
          },
          "metadata": {},
          "execution_count": 35
        }
      ]
    },
    {
      "cell_type": "code",
      "source": [
        "print(summary) # we get the final summary by our model"
      ],
      "metadata": {
        "colab": {
          "base_uri": "https://localhost:8080/"
        },
        "id": "MzAv1mUimKQr",
        "outputId": "84217984-f986-4d4f-919c-7a960a1a82e1"
      },
      "execution_count": 36,
      "outputs": [
        {
          "output_type": "stream",
          "name": "stdout",
          "text": [
            "[The second is query relevant summarization, sometimes called query-based summarization, which summarizes objects specific to a query.]\n"
          ]
        }
      ]
    },
    {
      "cell_type": "code",
      "source": [],
      "metadata": {
        "id": "oDTmw_SGmNUd"
      },
      "execution_count": null,
      "outputs": []
    }
  ]
}