{
 "cells": [
  {
   "cell_type": "code",
   "execution_count": 1,
   "id": "1c703d03",
   "metadata": {},
   "outputs": [],
   "source": [
    "# KNN on income dataset\n",
    "#To visualize the data\n",
    "import seaborn as sns\n",
    "#To work with dataframes\n",
    "import pandas as pd\n",
    "#To perform numerical operations\n",
    "import numpy as np\n",
    "#To partition the data\n",
    "from sklearn.model_selection import train_test_split\n",
    "#importing the library for logistic regression\n",
    "from sklearn.linear_model import LogisticRegression\n",
    "#importing performance metrics\n",
    "from sklearn.metrics import accuracy_score,confusion_matrix\n",
    "\n"
   ]
  },
  {
   "cell_type": "code",
   "execution_count": 2,
   "id": "47aee025",
   "metadata": {},
   "outputs": [
    {
     "name": "stdout",
     "output_type": "stream",
     "text": [
      "0    0\n",
      "1    0\n",
      "2    1\n",
      "3    0\n",
      "4    0\n",
      "5    0\n",
      "Name: SalStat, dtype: int64\n"
     ]
    },
    {
     "name": "stderr",
     "output_type": "stream",
     "text": [
      "C:\\Users\\Gnaneshwari\\AppData\\Local\\Temp\\ipykernel_18168\\1477848826.py:12: SettingWithCopyWarning: \n",
      "A value is trying to be set on a copy of a slice from a DataFrame\n",
      "\n",
      "See the caveats in the documentation: https://pandas.pydata.org/pandas-docs/stable/user_guide/indexing.html#returning-a-view-versus-a-copy\n",
      "  data2[\"SalStat\"].replace(cat_salStat,inplace=True)\n"
     ]
    }
   ],
   "source": [
    "\"\"\"\n",
    "Data encoding\n",
    "the salary status categories are encoded as 0,1\n",
    "\"\"\"\n",
    "#importing data\n",
    "data=pd.read_csv(r\"C:\\Users\\Gnaneshwari\\Desktop\\income.csv\",na_values=[\" ?\"])\n",
    "data2=data.dropna(axis=0) \n",
    "#Optimization of model by removing uncessary variables\n",
    "#Regression - remove insignificant variables\n",
    "cat_salStat={\" less than or equal to 50,000\":0,\n",
    "             \" greater than 50,000\":1}\n",
    "data2[\"SalStat\"].replace(cat_salStat,inplace=True)\n",
    "print(data2[\"SalStat\"].head(6))\n",
    "\n"
   ]
  },
  {
   "cell_type": "code",
   "execution_count": 3,
   "id": "4f969a46",
   "metadata": {},
   "outputs": [
    {
     "name": "stdout",
     "output_type": "stream",
     "text": [
      "['age', 'capitalgain', 'capitalloss', 'hoursperweek', 'SalStat', 'EdType_ 11th', 'EdType_ 12th', 'EdType_ 1st-4th', 'EdType_ 5th-6th', 'EdType_ 7th-8th', 'EdType_ 9th', 'EdType_ Assoc-acdm', 'EdType_ Assoc-voc', 'EdType_ Bachelors', 'EdType_ Doctorate', 'EdType_ HS-grad', 'EdType_ Masters', 'EdType_ Preschool', 'EdType_ Prof-school', 'EdType_ Some-college', 'maritalstatus_ Married-AF-spouse', 'maritalstatus_ Married-civ-spouse', 'maritalstatus_ Married-spouse-absent', 'maritalstatus_ Never-married', 'maritalstatus_ Separated', 'maritalstatus_ Widowed', 'occupation_ Armed-Forces', 'occupation_ Craft-repair', 'occupation_ Exec-managerial', 'occupation_ Farming-fishing', 'occupation_ Handlers-cleaners', 'occupation_ Machine-op-inspct', 'occupation_ Other-service', 'occupation_ Priv-house-serv', 'occupation_ Prof-specialty', 'occupation_ Protective-serv', 'occupation_ Sales', 'occupation_ Tech-support', 'occupation_ Transport-moving', 'relationship_ Not-in-family', 'relationship_ Other-relative', 'relationship_ Own-child', 'relationship_ Unmarried', 'relationship_ Wife']\n"
     ]
    },
    {
     "name": "stderr",
     "output_type": "stream",
     "text": [
      "C:\\Users\\Gnaneshwari\\AppData\\Local\\Temp\\ipykernel_18168\\600739918.py:2: SettingWithCopyWarning: \n",
      "A value is trying to be set on a copy of a slice from a DataFrame\n",
      "\n",
      "See the caveats in the documentation: https://pandas.pydata.org/pandas-docs/stable/user_guide/indexing.html#returning-a-view-versus-a-copy\n",
      "  new_data=data2.drop(cols,axis=1,inplace=True)\n"
     ]
    }
   ],
   "source": [
    "cols=[\"gender\",\"nativecountry\",\"race\",\"JobType\"]\n",
    "new_data=data2.drop(cols,axis=1,inplace=True)\n",
    "new_data=pd.get_dummies(data2,drop_first=True)\n",
    "#storing the column names\n",
    "column_list=list(new_data.columns)\n",
    "print(column_list)\n"
   ]
  },
  {
   "cell_type": "code",
   "execution_count": 4,
   "id": "602bdd42",
   "metadata": {},
   "outputs": [
    {
     "name": "stdout",
     "output_type": "stream",
     "text": [
      "['EdType_ Prof-school', 'EdType_ HS-grad', 'occupation_ Exec-managerial', 'maritalstatus_ Married-civ-spouse', 'capitalgain', 'EdType_ 1st-4th', 'relationship_ Wife', 'maritalstatus_ Widowed', 'maritalstatus_ Married-AF-spouse', 'relationship_ Own-child', 'EdType_ 9th', 'occupation_ Handlers-cleaners', 'occupation_ Craft-repair', 'EdType_ Assoc-acdm', 'hoursperweek', 'occupation_ Machine-op-inspct', 'EdType_ Doctorate', 'age', 'occupation_ Tech-support', 'EdType_ 11th', 'occupation_ Sales', 'EdType_ Masters', 'EdType_ Preschool', 'maritalstatus_ Never-married', 'occupation_ Armed-Forces', 'occupation_ Other-service', 'occupation_ Farming-fishing', 'EdType_ Assoc-voc', 'EdType_ Some-college', 'occupation_ Protective-serv', 'EdType_ 12th', 'maritalstatus_ Separated', 'capitalloss', 'EdType_ 7th-8th', 'relationship_ Not-in-family', 'maritalstatus_ Married-spouse-absent', 'EdType_ 5th-6th', 'occupation_ Priv-house-serv', 'EdType_ Bachelors', 'relationship_ Unmarried', 'occupation_ Prof-specialty', 'occupation_ Transport-moving', 'relationship_ Other-relative']\n",
      "[0 0 1 ... 0 0 0]\n",
      "[[False True False ... False False False]\n",
      " [False True False ... False False False]\n",
      " [False False False ... True False False]\n",
      " ...\n",
      " [False False False ... False False False]\n",
      " [False False False ... False False False]\n",
      " [False False False ... True False False]]\n"
     ]
    }
   ],
   "source": [
    "#seperating input features from the data\n",
    "features=list(set(column_list)-set([\"SalStat\"]))\n",
    "print(features)\n",
    "#Storing output variable values in y\n",
    "y=new_data[\"SalStat\"].values\n",
    "print(y)\n",
    "#storing input feature values in x\n",
    "x=new_data[features].values\n",
    "print(x)\n",
    "\n",
    "#splitting the data into train and test\n",
    "train_x,test_x,train_y,test_y=train_test_split(x,y,test_size=0.3,\n",
    "                                               random_state=0)\n",
    "\n",
    "\n"
   ]
  },
  {
   "cell_type": "code",
   "execution_count": 5,
   "id": "d0e0bbe8",
   "metadata": {},
   "outputs": [
    {
     "data": {
      "text/plain": [
       "(array([[False, False, False, ..., False, True, False],\n",
       "        [False, True, False, ..., False, False, False],\n",
       "        [False, True, False, ..., False, True, False],\n",
       "        ...,\n",
       "        [False, False, False, ..., True, False, False],\n",
       "        [False, True, False, ..., False, False, False],\n",
       "        [False, False, False, ..., False, False, False]], dtype=object),\n",
       " array([[False, True, False, ..., False, False, False],\n",
       "        [False, False, False, ..., True, False, False],\n",
       "        [False, False, True, ..., False, False, False],\n",
       "        ...,\n",
       "        [False, False, False, ..., True, False, False],\n",
       "        [False, True, False, ..., False, False, False],\n",
       "        [False, False, False, ..., False, False, False]], dtype=object),\n",
       " array([0, 0, 0, ..., 1, 0, 0], dtype=int64),\n",
       " array([0, 0, 0, ..., 0, 0, 0], dtype=int64))"
      ]
     },
     "execution_count": 5,
     "metadata": {},
     "output_type": "execute_result"
    }
   ],
   "source": [
    "train_x,test_x,train_y,test_y"
   ]
  },
  {
   "cell_type": "code",
   "execution_count": 6,
   "id": "4bcab842",
   "metadata": {},
   "outputs": [],
   "source": [
    "#%%\n",
    "#KNN\n",
    "#importing the library of KNN\n",
    "from sklearn.neighbors import KNeighborsClassifier\n",
    "#importing matplotlib library\n",
    "import matplotlib.pyplot as plt\n",
    "#%%\n",
    "\n"
   ]
  },
  {
   "cell_type": "code",
   "execution_count": null,
   "id": "25e74021",
   "metadata": {},
   "outputs": [],
   "source": [
    "pip install --user scikit-learn\n"
   ]
  },
  {
   "cell_type": "code",
   "execution_count": null,
   "id": "ea41de30",
   "metadata": {},
   "outputs": [],
   "source": [
    "pip install --upgrade scikit-learn numpy threadpoolctl\n"
   ]
  },
  {
   "cell_type": "code",
   "execution_count": 7,
   "id": "3686fd41",
   "metadata": {},
   "outputs": [
    {
     "name": "stdout",
     "output_type": "stream",
     "text": [
      "[0 0 0 ... 0 0 0]\n"
     ]
    }
   ],
   "source": [
    "#storing the K-nearest neighbors classifiers\n",
    "KNN_classifier=KNeighborsClassifier(n_neighbors=5)\n",
    "#model building\n",
    "KNN_classifier.fit(train_x,train_y)\n",
    "\n",
    "#predicting the test values with model\n",
    "prediction=KNN_classifier.predict(test_x)\n",
    "print(prediction)\n",
    "\n"
   ]
  },
  {
   "cell_type": "code",
   "execution_count": 8,
   "id": "cb3cc4d6",
   "metadata": {},
   "outputs": [
    {
     "name": "stdout",
     "output_type": "stream",
     "text": [
      "performance\n",
      "[[6187  636]\n",
      " [ 862 1364]]\n",
      "accuracy score\n",
      "0.8344568460603382\n",
      "miss classified\n",
      "1498\n"
     ]
    }
   ],
   "source": [
    "#evaluating the model\n",
    "print(\"performance\")\n",
    "conf_matrix=confusion_matrix(test_y,prediction)\n",
    "print(conf_matrix)\n",
    "\n",
    "#calculating accuracy\n",
    "acc_score=accuracy_score(test_y,prediction)\n",
    "print(\"accuracy score\")\n",
    "print(acc_score)\n",
    "\n",
    "#miss classified\n",
    "print(\"miss classified\")\n",
    "print((test_y!=prediction).sum())\n",
    "\n"
   ]
  },
  {
   "cell_type": "code",
   "execution_count": 9,
   "id": "acac3ce3",
   "metadata": {},
   "outputs": [
    {
     "name": "stdout",
     "output_type": "stream",
     "text": [
      "Miss classified\n",
      "[1723, 1512, 1544, 1469, 1498, 1443, 1469, 1456, 1464, 1430, 1476, 1456, 1457, 1451, 1455, 1442, 1436, 1425, 1444]\n"
     ]
    }
   ],
   "source": [
    "#Effect of k value on classifier\n",
    "miss_classified=[]\n",
    "for k in range(1,20):\n",
    "    knn=KNeighborsClassifier(n_neighbors=k)\n",
    "    knn.fit(train_x,train_y)\n",
    "    pred_k=knn.predict(test_x)\n",
    "    miss_classified.append((test_y!=pred_k).sum())\n",
    "print(\"Miss classified\")\n",
    "print(miss_classified)\n",
    "\n"
   ]
  },
  {
   "cell_type": "code",
   "execution_count": null,
   "id": "fd7162b2",
   "metadata": {},
   "outputs": [],
   "source": []
  }
 ],
 "metadata": {
  "kernelspec": {
   "display_name": "Python 3 (ipykernel)",
   "language": "python",
   "name": "python3"
  },
  "language_info": {
   "codemirror_mode": {
    "name": "ipython",
    "version": 3
   },
   "file_extension": ".py",
   "mimetype": "text/x-python",
   "name": "python",
   "nbconvert_exporter": "python",
   "pygments_lexer": "ipython3",
   "version": "3.11.5"
  }
 },
 "nbformat": 4,
 "nbformat_minor": 5
}
