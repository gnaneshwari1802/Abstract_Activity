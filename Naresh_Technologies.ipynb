{
  "nbformat": 4,
  "nbformat_minor": 0,
  "metadata": {
    "colab": {
      "provenance": [],
      "authorship_tag": "ABX9TyN33LRQSbLVy/AuN7F25+O8",
      "include_colab_link": true
    },
    "kernelspec": {
      "name": "python3",
      "display_name": "Python 3"
    },
    "language_info": {
      "name": "python"
    }
  },
  "cells": [
    {
      "cell_type": "markdown",
      "metadata": {
        "id": "view-in-github",
        "colab_type": "text"
      },
      "source": [
        "<a href=\"https://colab.research.google.com/github/gnaneshwari1802/Abstract_Activity/blob/main/Naresh_Technologies.ipynb\" target=\"_parent\"><img src=\"https://colab.research.google.com/assets/colab-badge.svg\" alt=\"Open In Colab\"/></a>"
      ]
    },
    {
      "cell_type": "code",
      "execution_count": null,
      "metadata": {
        "id": "UuH9pXDQu41F"
      },
      "outputs": [],
      "source": [
        "p=32\n",
        "\n",
        "i_=0b11\n",
        "i_\n",
        "int(10.10)\n",
        "type(p)\n",
        "sys.getsizeof(p)\n",
        "isinstance(p,int)\n",
        "bool(False)\n",
        "sys.getsizeof(int())\n",
        "y=0b01\n",
        "y\n",
        "bin(2)\n",
        "\n",
        "a3=1+2j\n",
        "b3=3+4j\n",
        "a3.real\n",
        "a3.imaginary\n",
        "a3.imag\n",
        "import sys\n",
        "sys.version\n",
        "a3+b3\n",
        "a3-b3\n",
        "a3*b3\n",
        "a3/b3\n",
        "b8=True\n",
        "b8\n",
        "type(b8)\n",
        "int(True)\n",
        "int(b8)\n",
        "b9=False\n",
        "b9\n",
        "int(b9)\n",
        "True+True\n",
        "True+False\n",
        "True-True\n",
        "False-False\n",
        "False/True\n",
        "False//True\n",
        "True/False\n",
        "n1=True\n",
        "n2=False\n",
        "n1+n2\n",
        "n1-n2\n",
        "n1*n2\n",
        "n1/n2\n",
        "n1//n2\n",
        "n2/n1\n",
        "n2//n1\n",
        "n2-n1\n"
      ]
    },
    {
      "cell_type": "markdown",
      "source": [
        "Name error, type error, syntax error, zero division error\n",
        "\n",
        "int value without decimal\n",
        "float-- value with decimal\n",
        "bool\n",
        "complex\n",
        "string\n"
      ],
      "metadata": {
        "id": "Xn_yw_iMzQlX"
      }
    },
    {
      "cell_type": "code",
      "source": [],
      "metadata": {
        "id": "pNFdF-0_u_MS"
      },
      "execution_count": null,
      "outputs": []
    }
  ]
}