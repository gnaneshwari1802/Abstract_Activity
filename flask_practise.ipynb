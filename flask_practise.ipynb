{
  "nbformat": 4,
  "nbformat_minor": 0,
  "metadata": {
    "colab": {
      "provenance": []
    },
    "kernelspec": {
      "name": "python3",
      "display_name": "Python 3"
    },
    "language_info": {
      "name": "python"
    }
  },
  "cells": [
    {
      "cell_type": "code",
      "execution_count": null,
      "metadata": {
        "colab": {
          "base_uri": "https://localhost:8080/"
        },
        "id": "yLhbHTkghWcC",
        "outputId": "ae2a4d60-c382-46b9-87d1-2e4f7cd463b0"
      },
      "outputs": [
        {
          "output_type": "stream",
          "name": "stdout",
          "text": [
            " * Serving Flask app '__main__'\n",
            " * Debug mode: off\n"
          ]
        },
        {
          "output_type": "stream",
          "name": "stderr",
          "text": [
            "INFO:werkzeug:\u001b[31m\u001b[1mWARNING: This is a development server. Do not use it in a production deployment. Use a production WSGI server instead.\u001b[0m\n",
            " * Running on http://127.0.0.1:5000\n",
            "INFO:werkzeug:\u001b[33mPress CTRL+C to quit\u001b[0m\n"
          ]
        }
      ],
      "source": [
        "from flask import Flask\n",
        "\n",
        "app = Flask(__name__)\n",
        "\n",
        "@app.route('/')\n",
        "def index():\n",
        "    return 'WELCOME TO FLASK '\n",
        "\n",
        "#app.run(host='0.0.0.0', port=81)\n",
        "\n",
        "app.run(host = '127.0.0.1', port=5000)"
      ]
    },
    {
      "cell_type": "code",
      "source": [
        "# The message you're seeing indicates that a development server is running. This typically happens when you are running a Python web application using a framework like Flask or a similar server-based environment. The server is running locally on your machine, and it's serving your application on http://127.0.0.1 (which is the loopback address) at port 5000.\n",
        "\n",
        "# Here's what each part of the message means:\n",
        "\n",
        "# \"This is a development server\": It's a warning, suggesting that the server is not intended for production use. Development servers are primarily for testing and development purposes, not for hosting live applications.\n",
        "\n",
        "# \"Running on http://127.0.0.1:5000\": This indicates the address and port where your application is accessible locally. http://127.0.0.1 is the loopback address, which means the server is only accessible from your own machine.\n",
        "\n",
        "# \"Press CTRL+C to quit\": This is an instruction on how to stop the server. You can terminate the server by pressing CTRL+C in the terminal or command prompt where the server is running.\n",
        "\n",
        "# If you want to deploy your application for production use, you should use a production-grade WSGI (Web Server Gateway Interface) server like Gunicorn, uWSGI, or mod_wsgi, depending on your application framework. Production servers are designed to handle a higher load and are more secure and reliable than development servers.\n",
        "\n",
        "\n",
        "\n",
        "\n"
      ],
      "metadata": {
        "id": "jomqDwYkjLbx"
      },
      "execution_count": null,
      "outputs": []
    }
  ]
}