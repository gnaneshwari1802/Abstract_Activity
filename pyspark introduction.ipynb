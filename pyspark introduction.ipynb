{
 "cells": [
  {
   "cell_type": "code",
   "execution_count": 1,
   "id": "f871a305-449d-4500-bb9d-cdb74c68ef6b",
   "metadata": {
    "tags": []
   },
   "outputs": [],
   "source": [
    "from pyspark.sql import SparkSession\n",
    "spark = SparkSession.builder.appName('pySparkSetup').getOrCreate()"
   ]
  },
  {
   "cell_type": "code",
   "execution_count": null,
   "id": "6c3406d4-71c3-49bc-b2c6-9ea08351e8b2",
   "metadata": {},
   "outputs": [],
   "source": [
    "# # # !pip install pyspark \n",
    "# # !apt install pyspark \n",
    "# !pip install findspark\n"
   ]
  },
  {
   "cell_type": "code",
   "execution_count": 4,
   "id": "759cadc4-d1f0-45c6-a082-fc9fbb205b19",
   "metadata": {
    "tags": []
   },
   "outputs": [
    {
     "name": "stdout",
     "output_type": "stream",
     "text": [
      "+------+-----+\n",
      "|  Name|Count|\n",
      "+------+-----+\n",
      "| Apple|    3|\n",
      "|Banana|    6|\n",
      "|Orange|    9|\n",
      "+------+-----+\n",
      "\n"
     ]
    }
   ],
   "source": [
    "data_values = [('Apple',3),('Banana',6),('Orange', 9)]\n",
    "column_name = ['Name', 'Count']\n",
    "df = spark.createDataFrame(data_values).toDF(*column_name)\n",
    "df.show()"
   ]
  },
  {
   "cell_type": "code",
   "execution_count": 5,
   "id": "9ef5e6d8-043c-4a1a-a91b-a87a9de9ab2c",
   "metadata": {},
   "outputs": [],
   "source": [
    "import findspark \n"
   ]
  },
  {
   "cell_type": "code",
   "execution_count": 6,
   "id": "0b2a7280-1b51-434f-8210-7fb2ba2ac5a7",
   "metadata": {
    "tags": []
   },
   "outputs": [
    {
     "data": {
      "text/plain": [
       "'C:\\\\Users\\\\Gnaneshwari\\\\anaconda3\\\\Lib\\\\site-packages\\\\pyspark'"
      ]
     },
     "execution_count": 6,
     "metadata": {},
     "output_type": "execute_result"
    }
   ],
   "source": [
    "findspark.init() \n",
    "findspark.find() "
   ]
  },
  {
   "cell_type": "code",
   "execution_count": 7,
   "id": "fd216f89-3f0e-46f9-b41d-99e277ac7295",
   "metadata": {
    "tags": []
   },
   "outputs": [],
   "source": [
    "from pyspark.sql import SparkSession \n",
    "spark = SparkSession.builder.appName('Dataframe').getOrCreate() \n"
   ]
  },
  {
   "cell_type": "code",
   "execution_count": 8,
   "id": "ddf78152-b1bf-4d8c-a6cf-56b814d7b6ad",
   "metadata": {
    "tags": []
   },
   "outputs": [
    {
     "data": {
      "text/html": [
       "\n",
       "            <div>\n",
       "                <p><b>SparkSession - in-memory</b></p>\n",
       "                \n",
       "        <div>\n",
       "            <p><b>SparkContext</b></p>\n",
       "\n",
       "            <p><a href=\"http://DESKTOP-MS2E27K:4040\">Spark UI</a></p>\n",
       "\n",
       "            <dl>\n",
       "              <dt>Version</dt>\n",
       "                <dd><code>v3.4.1</code></dd>\n",
       "              <dt>Master</dt>\n",
       "                <dd><code>local[*]</code></dd>\n",
       "              <dt>AppName</dt>\n",
       "                <dd><code>pySparkSetup</code></dd>\n",
       "            </dl>\n",
       "        </div>\n",
       "        \n",
       "            </div>\n",
       "        "
      ],
      "text/plain": [
       "<pyspark.sql.session.SparkSession at 0x2536e7d7bd0>"
      ]
     },
     "execution_count": 8,
     "metadata": {},
     "output_type": "execute_result"
    }
   ],
   "source": [
    "spark"
   ]
  },
  {
   "cell_type": "code",
   "execution_count": 9,
   "id": "e9c06e2b-c39a-4c73-b9ae-4bf717480237",
   "metadata": {
    "tags": []
   },
   "outputs": [],
   "source": [
    "db_pyspark = spark.read.option('header', 'true').csv('file:///E:/Mall_Customers.csv')\n"
   ]
  },
  {
   "cell_type": "code",
   "execution_count": 12,
   "id": "2c829b3f-6058-465b-9085-91e8af19b705",
   "metadata": {
    "tags": []
   },
   "outputs": [
    {
     "data": {
      "text/plain": [
       "DataFrame[CustomerID: string, Genre: string, Age: string, Annual Income (k$): string, Spending Score (1-100): string]"
      ]
     },
     "execution_count": 12,
     "metadata": {},
     "output_type": "execute_result"
    }
   ],
   "source": [
    "db_pyspark"
   ]
  },
  {
   "cell_type": "code",
   "execution_count": 10,
   "id": "fbeea02b-033a-45a6-ba1d-f1812f724940",
   "metadata": {
    "tags": []
   },
   "outputs": [
    {
     "name": "stdout",
     "output_type": "stream",
     "text": [
      "root\n",
      " |-- CustomerID: string (nullable = true)\n",
      " |-- Genre: string (nullable = true)\n",
      " |-- Age: string (nullable = true)\n",
      " |-- Annual Income (k$): string (nullable = true)\n",
      " |-- Spending Score (1-100): string (nullable = true)\n",
      "\n"
     ]
    }
   ],
   "source": [
    "db_pyspark.printSchema() "
   ]
  },
  {
   "cell_type": "code",
   "execution_count": 11,
   "id": "57bdc509-213f-4f3f-8bd8-bd49ee2b57ba",
   "metadata": {
    "tags": []
   },
   "outputs": [
    {
     "name": "stdout",
     "output_type": "stream",
     "text": [
      "+----------+------+---+------------------+----------------------+\n",
      "|CustomerID| Genre|Age|Annual Income (k$)|Spending Score (1-100)|\n",
      "+----------+------+---+------------------+----------------------+\n",
      "|         1|  Male| 19|                15|                    39|\n",
      "|         2|  Male| 21|                15|                    81|\n",
      "|         3|Female| 20|                16|                     6|\n",
      "|         4|Female| 23|                16|                    77|\n",
      "|         5|Female| 31|                17|                    40|\n",
      "|         6|Female| 22|                17|                    76|\n",
      "|         7|Female| 35|                18|                     6|\n",
      "|         8|Female| 23|                18|                    94|\n",
      "|         9|  Male| 64|                19|                     3|\n",
      "|        10|Female| 30|                19|                    72|\n",
      "|        11|  Male| 67|                19|                    14|\n",
      "|        12|Female| 35|                19|                    99|\n",
      "|        13|Female| 58|                20|                    15|\n",
      "|        14|Female| 24|                20|                    77|\n",
      "|        15|  Male| 37|                20|                    13|\n",
      "|        16|  Male| 22|                20|                    79|\n",
      "|        17|Female| 35|                21|                    35|\n",
      "|        18|  Male| 20|                21|                    66|\n",
      "|        19|  Male| 52|                23|                    29|\n",
      "|        20|Female| 35|                23|                    98|\n",
      "+----------+------+---+------------------+----------------------+\n",
      "only showing top 20 rows\n",
      "\n"
     ]
    }
   ],
   "source": [
    "db_pyspark.show() \n"
   ]
  },
  {
   "cell_type": "code",
   "execution_count": 13,
   "id": "2dc286c9-8e8e-4da2-9f9c-98bcba51538b",
   "metadata": {
    "tags": []
   },
   "outputs": [
    {
     "data": {
      "text/plain": [
       "pyspark.sql.dataframe.DataFrame"
      ]
     },
     "execution_count": 13,
     "metadata": {},
     "output_type": "execute_result"
    }
   ],
   "source": [
    "type(db_pyspark) \n"
   ]
  },
  {
   "cell_type": "code",
   "execution_count": 14,
   "id": "e340b27d-5af8-445d-9778-65272b8c1bfe",
   "metadata": {
    "tags": []
   },
   "outputs": [
    {
     "data": {
      "text/plain": [
       "[Row(CustomerID='1', Genre='Male', Age='19', Annual Income (k$)='15', Spending Score (1-100)='39'),\n",
       " Row(CustomerID='2', Genre='Male', Age='21', Annual Income (k$)='15', Spending Score (1-100)='81'),\n",
       " Row(CustomerID='3', Genre='Female', Age='20', Annual Income (k$)='16', Spending Score (1-100)='6'),\n",
       " Row(CustomerID='4', Genre='Female', Age='23', Annual Income (k$)='16', Spending Score (1-100)='77'),\n",
       " Row(CustomerID='5', Genre='Female', Age='31', Annual Income (k$)='17', Spending Score (1-100)='40')]"
      ]
     },
     "execution_count": 14,
     "metadata": {},
     "output_type": "execute_result"
    }
   ],
   "source": [
    " db_pyspark.head(5) \n"
   ]
  },
  {
   "cell_type": "code",
   "execution_count": 15,
   "id": "2a0bc26d-fe62-4598-b6d2-95447f800c11",
   "metadata": {
    "tags": []
   },
   "outputs": [
    {
     "name": "stdout",
     "output_type": "stream",
     "text": [
      "+----------+---+\n",
      "|CustomerID|Age|\n",
      "+----------+---+\n",
      "|         1| 19|\n",
      "|         2| 21|\n",
      "|         3| 20|\n",
      "|         4| 23|\n",
      "|         5| 31|\n",
      "|         6| 22|\n",
      "|         7| 35|\n",
      "|         8| 23|\n",
      "|         9| 64|\n",
      "|        10| 30|\n",
      "|        11| 67|\n",
      "|        12| 35|\n",
      "|        13| 58|\n",
      "|        14| 24|\n",
      "|        15| 37|\n",
      "|        16| 22|\n",
      "|        17| 35|\n",
      "|        18| 20|\n",
      "|        19| 52|\n",
      "|        20| 35|\n",
      "+----------+---+\n",
      "only showing top 20 rows\n",
      "\n"
     ]
    }
   ],
   "source": [
    "db_pyspark.select([ 'CustomerID', 'Age']).show() \n"
   ]
  },
  {
   "cell_type": "code",
   "execution_count": 16,
   "id": "a3c4e1af-701f-463b-ad9f-6d3d3e672c64",
   "metadata": {
    "tags": []
   },
   "outputs": [
    {
     "name": "stdout",
     "output_type": "stream",
     "text": [
      "+------------------+\n",
      "|Annual Income (k$)|\n",
      "+------------------+\n",
      "|                15|\n",
      "|                15|\n",
      "|                16|\n",
      "|                16|\n",
      "|                17|\n",
      "|                17|\n",
      "|                18|\n",
      "|                18|\n",
      "|                19|\n",
      "|                19|\n",
      "|                19|\n",
      "|                19|\n",
      "|                20|\n",
      "|                20|\n",
      "|                20|\n",
      "|                20|\n",
      "|                21|\n",
      "|                21|\n",
      "|                23|\n",
      "|                23|\n",
      "+------------------+\n",
      "only showing top 20 rows\n",
      "\n"
     ]
    }
   ],
   "source": [
    "db_pyspark.select(['Annual Income (k$)']).show() \n"
   ]
  },
  {
   "cell_type": "code",
   "execution_count": 17,
   "id": "0bbfc9cc-a999-45f9-9283-e94899ad9d33",
   "metadata": {
    "tags": []
   },
   "outputs": [
    {
     "data": {
      "text/plain": [
       "Column<'Annual Income (k$)'>"
      ]
     },
     "execution_count": 17,
     "metadata": {},
     "output_type": "execute_result"
    }
   ],
   "source": [
    " db_pyspark['Annual Income (k$)'] \n"
   ]
  },
  {
   "cell_type": "code",
   "execution_count": 18,
   "id": "48d49f73-b7f8-4d4d-a7e1-79a98ce3a210",
   "metadata": {
    "tags": []
   },
   "outputs": [
    {
     "data": {
      "text/plain": [
       "[('CustomerID', 'string'),\n",
       " ('Genre', 'string'),\n",
       " ('Age', 'string'),\n",
       " ('Annual Income (k$)', 'string'),\n",
       " ('Spending Score (1-100)', 'string')]"
      ]
     },
     "execution_count": 18,
     "metadata": {},
     "output_type": "execute_result"
    }
   ],
   "source": [
    "db_pyspark.dtypes "
   ]
  },
  {
   "cell_type": "code",
   "execution_count": 19,
   "id": "5e964a6c-239e-431b-a847-c3376a000b59",
   "metadata": {
    "tags": []
   },
   "outputs": [
    {
     "name": "stdout",
     "output_type": "stream",
     "text": [
      "+-------+------------------+------+-----------------+------------------+----------------------+\n",
      "|summary|        CustomerID| Genre|              Age|Annual Income (k$)|Spending Score (1-100)|\n",
      "+-------+------------------+------+-----------------+------------------+----------------------+\n",
      "|  count|               200|   200|              200|               200|                   200|\n",
      "|   mean|             100.5|  null|            38.85|             60.56|                  50.2|\n",
      "| stddev|57.879184513951124|  null|13.96900733155888| 26.26472116527124|    25.823521668370173|\n",
      "|    min|                 1|Female|               18|               101|                     1|\n",
      "|    max|                99|  Male|               70|                99|                    99|\n",
      "+-------+------------------+------+-----------------+------------------+----------------------+\n",
      "\n"
     ]
    }
   ],
   "source": [
    "db_pyspark.describe().show() \n"
   ]
  },
  {
   "cell_type": "code",
   "execution_count": 20,
   "id": "264f5b2d-22f3-4842-9b21-a558a06a3294",
   "metadata": {
    "tags": []
   },
   "outputs": [
    {
     "data": {
      "text/plain": [
       "DataFrame[CustomerID: string, Genre: string, Age: string, Annual Income (k$): string, Spending Score (1-100): string]"
      ]
     },
     "execution_count": 20,
     "metadata": {},
     "output_type": "execute_result"
    }
   ],
   "source": [
    "#Adding the columns in the dataset \n",
    "\n",
    "db_pyspark "
   ]
  },
  {
   "cell_type": "code",
   "execution_count": 21,
   "id": "329a18fe-3881-44d6-8e63-8c8c44e76d32",
   "metadata": {
    "tags": []
   },
   "outputs": [
    {
     "name": "stdout",
     "output_type": "stream",
     "text": [
      "+----------+------+---+------------------+----------------------+\n",
      "|CustomerID| Genre|Age|Annual Income (k$)|Spending Score (1-100)|\n",
      "+----------+------+---+------------------+----------------------+\n",
      "|         1|  Male| 19|                15|                    39|\n",
      "|         2|  Male| 21|                15|                    81|\n",
      "|         3|Female| 20|                16|                     6|\n",
      "|         4|Female| 23|                16|                    77|\n",
      "|         5|Female| 31|                17|                    40|\n",
      "|         6|Female| 22|                17|                    76|\n",
      "|         7|Female| 35|                18|                     6|\n",
      "|         8|Female| 23|                18|                    94|\n",
      "|         9|  Male| 64|                19|                     3|\n",
      "|        10|Female| 30|                19|                    72|\n",
      "|        11|  Male| 67|                19|                    14|\n",
      "|        12|Female| 35|                19|                    99|\n",
      "|        13|Female| 58|                20|                    15|\n",
      "|        14|Female| 24|                20|                    77|\n",
      "|        15|  Male| 37|                20|                    13|\n",
      "|        16|  Male| 22|                20|                    79|\n",
      "|        17|Female| 35|                21|                    35|\n",
      "|        18|  Male| 20|                21|                    66|\n",
      "|        19|  Male| 52|                23|                    29|\n",
      "|        20|Female| 35|                23|                    98|\n",
      "+----------+------+---+------------------+----------------------+\n",
      "only showing top 20 rows\n",
      "\n"
     ]
    }
   ],
   "source": [
    "db_pyspark.show() \n"
   ]
  },
  {
   "cell_type": "code",
   "execution_count": 22,
   "id": "2ca54126-1c7c-4748-9ec0-203aed3e3f81",
   "metadata": {
    "tags": []
   },
   "outputs": [],
   "source": [
    " #Dropping the columns \n",
    "db_pyspark = db_pyspark.drop('Genre') \n"
   ]
  },
  {
   "cell_type": "code",
   "execution_count": 23,
   "id": "49aa2472-a672-4a2d-b03d-dcc1f054229c",
   "metadata": {
    "tags": []
   },
   "outputs": [
    {
     "data": {
      "text/plain": [
       "DataFrame[CustomerID: string, Age: string, Annual Income (k$): string, Spending Score (1-100): string]"
      ]
     },
     "execution_count": 23,
     "metadata": {},
     "output_type": "execute_result"
    }
   ],
   "source": [
    "db_pyspark"
   ]
  },
  {
   "cell_type": "code",
   "execution_count": 24,
   "id": "e0e5e96e-3684-475a-8d4f-97ff0d408759",
   "metadata": {
    "tags": []
   },
   "outputs": [
    {
     "name": "stdout",
     "output_type": "stream",
     "text": [
      "+----------+---+------------------+----------------------+\n",
      "|CustomerID|Age|Annual Income (k$)|Spending Score (1-100)|\n",
      "+----------+---+------------------+----------------------+\n",
      "|         1| 19|                15|                    39|\n",
      "|         2| 21|                15|                    81|\n",
      "|         3| 20|                16|                     6|\n",
      "|         4| 23|                16|                    77|\n",
      "|         5| 31|                17|                    40|\n",
      "|         6| 22|                17|                    76|\n",
      "|         7| 35|                18|                     6|\n",
      "|         8| 23|                18|                    94|\n",
      "|         9| 64|                19|                     3|\n",
      "|        10| 30|                19|                    72|\n",
      "|        11| 67|                19|                    14|\n",
      "|        12| 35|                19|                    99|\n",
      "|        13| 58|                20|                    15|\n",
      "|        14| 24|                20|                    77|\n",
      "|        15| 37|                20|                    13|\n",
      "|        16| 22|                20|                    79|\n",
      "|        17| 35|                21|                    35|\n",
      "|        18| 20|                21|                    66|\n",
      "|        19| 52|                23|                    29|\n",
      "|        20| 35|                23|                    98|\n",
      "+----------+---+------------------+----------------------+\n",
      "only showing top 20 rows\n",
      "\n"
     ]
    }
   ],
   "source": [
    "db_pyspark.show() \n"
   ]
  },
  {
   "cell_type": "code",
   "execution_count": 26,
   "id": "32f2d519-5bef-4ae8-8729-9076c14a45ca",
   "metadata": {
    "tags": []
   },
   "outputs": [
    {
     "name": "stdout",
     "output_type": "stream",
     "text": [
      "+----------+---+--------------------+----------------------+\n",
      "|CustomerID|Age|Annual Income In(k$)|Spending Score (1-100)|\n",
      "+----------+---+--------------------+----------------------+\n",
      "|         1| 19|                  15|                    39|\n",
      "|         2| 21|                  15|                    81|\n",
      "|         3| 20|                  16|                     6|\n",
      "|         4| 23|                  16|                    77|\n",
      "|         5| 31|                  17|                    40|\n",
      "|         6| 22|                  17|                    76|\n",
      "|         7| 35|                  18|                     6|\n",
      "|         8| 23|                  18|                    94|\n",
      "|         9| 64|                  19|                     3|\n",
      "|        10| 30|                  19|                    72|\n",
      "|        11| 67|                  19|                    14|\n",
      "|        12| 35|                  19|                    99|\n",
      "|        13| 58|                  20|                    15|\n",
      "|        14| 24|                  20|                    77|\n",
      "|        15| 37|                  20|                    13|\n",
      "|        16| 22|                  20|                    79|\n",
      "|        17| 35|                  21|                    35|\n",
      "|        18| 20|                  21|                    66|\n",
      "|        19| 52|                  23|                    29|\n",
      "|        20| 35|                  23|                    98|\n",
      "+----------+---+--------------------+----------------------+\n",
      "only showing top 20 rows\n",
      "\n"
     ]
    }
   ],
   "source": [
    "#Renaming the columns\n",
    "db_pyspark.withColumnRenamed('Annual Income (k$)', 'Annual Income In(k$)').show() \n",
    "    "
   ]
  },
  {
   "cell_type": "code",
   "execution_count": 27,
   "id": "6b891694-cb27-4622-b1b7-f5dc6fc35073",
   "metadata": {
    "tags": []
   },
   "outputs": [
    {
     "name": "stdout",
     "output_type": "stream",
     "text": [
      "+----------+---+------------------+----------------------+\n",
      "|CustomerID|Age|Annual Income (k$)|Spending Score (1-100)|\n",
      "+----------+---+------------------+----------------------+\n",
      "|         1| 19|                15|                    39|\n",
      "|         2| 21|                15|                    81|\n",
      "|         3| 20|                16|                     6|\n",
      "|         4| 23|                16|                    77|\n",
      "|         5| 31|                17|                    40|\n",
      "|         6| 22|                17|                    76|\n",
      "|         7| 35|                18|                     6|\n",
      "|         8| 23|                18|                    94|\n",
      "|         9| 64|                19|                     3|\n",
      "|        10| 30|                19|                    72|\n",
      "|        11| 67|                19|                    14|\n",
      "|        12| 35|                19|                    99|\n",
      "|        13| 58|                20|                    15|\n",
      "|        14| 24|                20|                    77|\n",
      "|        15| 37|                20|                    13|\n",
      "|        16| 22|                20|                    79|\n",
      "|        17| 35|                21|                    35|\n",
      "|        18| 20|                21|                    66|\n",
      "|        19| 52|                23|                    29|\n",
      "|        20| 35|                23|                    98|\n",
      "+----------+---+------------------+----------------------+\n",
      "only showing top 20 rows\n",
      "\n"
     ]
    }
   ],
   "source": [
    "db_pyspark.na.drop().show() #this will remove null values \n",
    "#there are no null values in the dataset \n"
   ]
  },
  {
   "cell_type": "code",
   "execution_count": 28,
   "id": "e41833a6-d285-4926-8f74-1cdf4f25cae4",
   "metadata": {
    "tags": []
   },
   "outputs": [
    {
     "name": "stdout",
     "output_type": "stream",
     "text": [
      "+----------+---+------------------+----------------------+\n",
      "|CustomerID|Age|Annual Income (k$)|Spending Score (1-100)|\n",
      "+----------+---+------------------+----------------------+\n",
      "|         1| 19|                15|                    39|\n",
      "|         2| 21|                15|                    81|\n",
      "|         3| 20|                16|                     6|\n",
      "|         4| 23|                16|                    77|\n",
      "|         5| 31|                17|                    40|\n",
      "|         6| 22|                17|                    76|\n",
      "|         7| 35|                18|                     6|\n",
      "|         8| 23|                18|                    94|\n",
      "|         9| 64|                19|                     3|\n",
      "|        10| 30|                19|                    72|\n",
      "|        11| 67|                19|                    14|\n",
      "|        12| 35|                19|                    99|\n",
      "|        13| 58|                20|                    15|\n",
      "|        14| 24|                20|                    77|\n",
      "|        15| 37|                20|                    13|\n",
      "|        16| 22|                20|                    79|\n",
      "|        17| 35|                21|                    35|\n",
      "|        18| 20|                21|                    66|\n",
      "|        19| 52|                23|                    29|\n",
      "|        20| 35|                23|                    98|\n",
      "+----------+---+------------------+----------------------+\n",
      "only showing top 20 rows\n",
      "\n"
     ]
    }
   ],
   "source": [
    "db_pyspark.na.drop(how='any').show() \n"
   ]
  },
  {
   "cell_type": "code",
   "execution_count": 29,
   "id": "053d1024-031d-455e-b47c-07060e7fc693",
   "metadata": {
    "tags": []
   },
   "outputs": [
    {
     "name": "stdout",
     "output_type": "stream",
     "text": [
      "+----------+---+------------------+----------------------+\n",
      "|CustomerID|Age|Annual Income (k$)|Spending Score (1-100)|\n",
      "+----------+---+------------------+----------------------+\n",
      "|         1| 19|                15|                    39|\n",
      "|         2| 21|                15|                    81|\n",
      "|         3| 20|                16|                     6|\n",
      "|         4| 23|                16|                    77|\n",
      "|         5| 31|                17|                    40|\n",
      "|         6| 22|                17|                    76|\n",
      "|         7| 35|                18|                     6|\n",
      "|         8| 23|                18|                    94|\n",
      "|         9| 64|                19|                     3|\n",
      "|        10| 30|                19|                    72|\n",
      "|        11| 67|                19|                    14|\n",
      "|        12| 35|                19|                    99|\n",
      "|        13| 58|                20|                    15|\n",
      "|        14| 24|                20|                    77|\n",
      "|        15| 37|                20|                    13|\n",
      "|        16| 22|                20|                    79|\n",
      "|        17| 35|                21|                    35|\n",
      "|        18| 20|                21|                    66|\n",
      "|        19| 52|                23|                    29|\n",
      "|        20| 35|                23|                    98|\n",
      "+----------+---+------------------+----------------------+\n",
      "only showing top 20 rows\n",
      "\n"
     ]
    }
   ],
   "source": [
    " db_pyspark.na.drop(how='any', thresh=3).show() "
   ]
  },
  {
   "cell_type": "code",
   "execution_count": 30,
   "id": "5f2b3c3e-d5e1-440e-ac19-03380d12d5bc",
   "metadata": {
    "tags": []
   },
   "outputs": [
    {
     "name": "stdout",
     "output_type": "stream",
     "text": [
      "+----------+---+------------------+----------------------+\n",
      "|CustomerID|Age|Annual Income (k$)|Spending Score (1-100)|\n",
      "+----------+---+------------------+----------------------+\n",
      "|         1| 19|                15|                    39|\n",
      "|         2| 21|                15|                    81|\n",
      "|         3| 20|                16|                     6|\n",
      "|         4| 23|                16|                    77|\n",
      "|         5| 31|                17|                    40|\n",
      "|         6| 22|                17|                    76|\n",
      "|         7| 35|                18|                     6|\n",
      "|         8| 23|                18|                    94|\n",
      "|         9| 64|                19|                     3|\n",
      "|        10| 30|                19|                    72|\n",
      "|        11| 67|                19|                    14|\n",
      "|        12| 35|                19|                    99|\n",
      "|        13| 58|                20|                    15|\n",
      "|        14| 24|                20|                    77|\n",
      "|        15| 37|                20|                    13|\n",
      "|        16| 22|                20|                    79|\n",
      "|        17| 35|                21|                    35|\n",
      "|        18| 20|                21|                    66|\n",
      "|        19| 52|                23|                    29|\n",
      "|        20| 35|                23|                    98|\n",
      "+----------+---+------------------+----------------------+\n",
      "only showing top 20 rows\n",
      "\n"
     ]
    }
   ],
   "source": [
    "db_pyspark.show() \n"
   ]
  },
  {
   "cell_type": "code",
   "execution_count": 38,
   "id": "fe88a351-0419-45e2-9cac-2272c1cd4a50",
   "metadata": {
    "tags": []
   },
   "outputs": [],
   "source": [
    "from pyspark.sql.functions import col\n",
    "from pyspark.sql.types import DoubleType\n",
    "\n",
    "# Convert the \"Age\" column to DoubleType\n",
    "db_pyspark = db_pyspark.withColumn(\"Age\", col(\"Age\").cast(DoubleType()))\n",
    "\n",
    "db_pyspark = db_pyspark.withColumn(\"CustomerID\",col(\"CustomerID\").cast(DoubleType()))\n",
    "db_pyspark = db_pyspark.withColumn(\"Annual Income (k$)\",col(\"Annual Income (k$)\").cast(DoubleType()))"
   ]
  },
  {
   "cell_type": "code",
   "execution_count": 39,
   "id": "81b69309-7d49-4a97-aff7-04309c6f3c3a",
   "metadata": {
    "tags": []
   },
   "outputs": [],
   "source": [
    "#Imputation \n",
    "from pyspark.ml.feature import Imputer "
   ]
  },
  {
   "cell_type": "code",
   "execution_count": 40,
   "id": "6b7b81db-51b9-41cd-986a-73d974753e31",
   "metadata": {
    "tags": []
   },
   "outputs": [],
   "source": [
    "imputer=Imputer( \n",
    "inputCols=['Age', 'CustomerID', 'Annual Income (k$)'], \n",
    "outputCols=['{}_imputed'.format(c) for c in ['Age', 'CustomerID', 'Annual Income (k$)']] \n",
    ").setStrategy('median') \n"
   ]
  },
  {
   "cell_type": "code",
   "execution_count": 41,
   "id": "8d1fb23c-f2d4-41cd-8d5f-eb8cc30d07c6",
   "metadata": {
    "tags": []
   },
   "outputs": [
    {
     "name": "stdout",
     "output_type": "stream",
     "text": [
      "+----------+----+------------------+----------------------+-----------+------------------+--------------------------+\n",
      "|CustomerID| Age|Annual Income (k$)|Spending Score (1-100)|Age_imputed|CustomerID_imputed|Annual Income (k$)_imputed|\n",
      "+----------+----+------------------+----------------------+-----------+------------------+--------------------------+\n",
      "|       1.0|19.0|              15.0|                    39|       19.0|               1.0|                      15.0|\n",
      "|       2.0|21.0|              15.0|                    81|       21.0|               2.0|                      15.0|\n",
      "|       3.0|20.0|              16.0|                     6|       20.0|               3.0|                      16.0|\n",
      "|       4.0|23.0|              16.0|                    77|       23.0|               4.0|                      16.0|\n",
      "|       5.0|31.0|              17.0|                    40|       31.0|               5.0|                      17.0|\n",
      "|       6.0|22.0|              17.0|                    76|       22.0|               6.0|                      17.0|\n",
      "|       7.0|35.0|              18.0|                     6|       35.0|               7.0|                      18.0|\n",
      "|       8.0|23.0|              18.0|                    94|       23.0|               8.0|                      18.0|\n",
      "|       9.0|64.0|              19.0|                     3|       64.0|               9.0|                      19.0|\n",
      "|      10.0|30.0|              19.0|                    72|       30.0|              10.0|                      19.0|\n",
      "|      11.0|67.0|              19.0|                    14|       67.0|              11.0|                      19.0|\n",
      "|      12.0|35.0|              19.0|                    99|       35.0|              12.0|                      19.0|\n",
      "|      13.0|58.0|              20.0|                    15|       58.0|              13.0|                      20.0|\n",
      "|      14.0|24.0|              20.0|                    77|       24.0|              14.0|                      20.0|\n",
      "|      15.0|37.0|              20.0|                    13|       37.0|              15.0|                      20.0|\n",
      "|      16.0|22.0|              20.0|                    79|       22.0|              16.0|                      20.0|\n",
      "|      17.0|35.0|              21.0|                    35|       35.0|              17.0|                      21.0|\n",
      "|      18.0|20.0|              21.0|                    66|       20.0|              18.0|                      21.0|\n",
      "|      19.0|52.0|              23.0|                    29|       52.0|              19.0|                      23.0|\n",
      "|      20.0|35.0|              23.0|                    98|       35.0|              20.0|                      23.0|\n",
      "+----------+----+------------------+----------------------+-----------+------------------+--------------------------+\n",
      "only showing top 20 rows\n",
      "\n"
     ]
    }
   ],
   "source": [
    "imputer.fit(db_pyspark).transform(db_pyspark).show() \n"
   ]
  },
  {
   "cell_type": "code",
   "execution_count": 42,
   "id": "7db2494b-7855-4303-907d-7f03e6d1c944",
   "metadata": {
    "tags": []
   },
   "outputs": [
    {
     "name": "stdout",
     "output_type": "stream",
     "text": [
      "+----------+----+------------------+----------------------+\n",
      "|CustomerID| Age|Annual Income (k$)|Spending Score (1-100)|\n",
      "+----------+----+------------------+----------------------+\n",
      "|       1.0|19.0|              15.0|                    39|\n",
      "|       2.0|21.0|              15.0|                    81|\n",
      "|       3.0|20.0|              16.0|                     6|\n",
      "|       4.0|23.0|              16.0|                    77|\n",
      "|       5.0|31.0|              17.0|                    40|\n",
      "|       6.0|22.0|              17.0|                    76|\n",
      "|       7.0|35.0|              18.0|                     6|\n",
      "|       8.0|23.0|              18.0|                    94|\n",
      "|       9.0|64.0|              19.0|                     3|\n",
      "|      10.0|30.0|              19.0|                    72|\n",
      "|      11.0|67.0|              19.0|                    14|\n",
      "|      12.0|35.0|              19.0|                    99|\n",
      "|      13.0|58.0|              20.0|                    15|\n",
      "|      14.0|24.0|              20.0|                    77|\n",
      "|      15.0|37.0|              20.0|                    13|\n",
      "|      16.0|22.0|              20.0|                    79|\n",
      "|      17.0|35.0|              21.0|                    35|\n",
      "|      18.0|20.0|              21.0|                    66|\n",
      "|      19.0|52.0|              23.0|                    29|\n",
      "|      20.0|35.0|              23.0|                    98|\n",
      "+----------+----+------------------+----------------------+\n",
      "only showing top 20 rows\n",
      "\n"
     ]
    }
   ],
   "source": [
    "db_pyspark.show() \n"
   ]
  },
  {
   "cell_type": "code",
   "execution_count": 46,
   "id": "36dd5d3d-6147-4f55-8454-ce8e195a5fc5",
   "metadata": {
    "tags": []
   },
   "outputs": [
    {
     "name": "stdout",
     "output_type": "stream",
     "text": [
      "+----------+----+------------------+----------------------+\n",
      "|CustomerID| Age|Annual Income (k$)|Spending Score (1-100)|\n",
      "+----------+----+------------------+----------------------+\n",
      "|       1.0|19.0|              15.0|                    39|\n",
      "|       2.0|21.0|              15.0|                    81|\n",
      "|       3.0|20.0|              16.0|                     6|\n",
      "|       4.0|23.0|              16.0|                    77|\n",
      "|       5.0|31.0|              17.0|                    40|\n",
      "|       6.0|22.0|              17.0|                    76|\n",
      "|       7.0|35.0|              18.0|                     6|\n",
      "|       8.0|23.0|              18.0|                    94|\n",
      "+----------+----+------------------+----------------------+\n",
      "\n"
     ]
    }
   ],
   "source": [
    "from pyspark.sql.functions import col\n",
    "\n",
    "db_pyspark.filter(col(\"Annual Income (k$)\") <= 18.0).show()\n"
   ]
  },
  {
   "cell_type": "code",
   "execution_count": 51,
   "id": "62f71059-06e6-4394-8b71-ed90644883dd",
   "metadata": {
    "tags": []
   },
   "outputs": [
    {
     "name": "stdout",
     "output_type": "stream",
     "text": [
      "+----------+----+\n",
      "|CustomerID| Age|\n",
      "+----------+----+\n",
      "|       1.0|19.0|\n",
      "|       2.0|21.0|\n",
      "|       3.0|20.0|\n",
      "|       4.0|23.0|\n",
      "|       5.0|31.0|\n",
      "|       6.0|22.0|\n",
      "|       7.0|35.0|\n",
      "|       8.0|23.0|\n",
      "+----------+----+\n",
      "\n"
     ]
    }
   ],
   "source": [
    "from pyspark.sql.functions import col\n",
    "\n",
    "db_pyspark.filter((col(\"Annual Income (k$)\") <= 18.0)).select(['CustomerID', 'Age']).show()\n"
   ]
  },
  {
   "cell_type": "code",
   "execution_count": 52,
   "id": "2e81d99a-0c00-4a62-b808-846da547515b",
   "metadata": {
    "tags": []
   },
   "outputs": [
    {
     "name": "stdout",
     "output_type": "stream",
     "text": [
      "+----------+----+------------------+----------------------+\n",
      "|CustomerID| Age|Annual Income (k$)|Spending Score (1-100)|\n",
      "+----------+----+------------------+----------------------+\n",
      "|       1.0|19.0|              15.0|                    39|\n",
      "|       2.0|21.0|              15.0|                    81|\n",
      "|       3.0|20.0|              16.0|                     6|\n",
      "|       4.0|23.0|              16.0|                    77|\n",
      "|       5.0|31.0|              17.0|                    40|\n",
      "|       6.0|22.0|              17.0|                    76|\n",
      "+----------+----+------------------+----------------------+\n",
      "\n"
     ]
    }
   ],
   "source": [
    "db_pyspark.filter(db_pyspark[\"Annual Income (k$)\"]<18.0).show() "
   ]
  },
  {
   "cell_type": "code",
   "execution_count": 54,
   "id": "2f952b09-7bd3-4619-9e3d-1825cab707cd",
   "metadata": {
    "tags": []
   },
   "outputs": [
    {
     "name": "stdout",
     "output_type": "stream",
     "text": [
      "+----------+----+------------------+----------------------+\n",
      "|CustomerID| Age|Annual Income (k$)|Spending Score (1-100)|\n",
      "+----------+----+------------------+----------------------+\n",
      "|       1.0|19.0|              15.0|                    39|\n",
      "|       2.0|21.0|              15.0|                    81|\n",
      "|       3.0|20.0|              16.0|                     6|\n",
      "|       4.0|23.0|              16.0|                    77|\n",
      "|       5.0|31.0|              17.0|                    40|\n",
      "|       6.0|22.0|              17.0|                    76|\n",
      "|       7.0|35.0|              18.0|                     6|\n",
      "|       8.0|23.0|              18.0|                    94|\n",
      "+----------+----+------------------+----------------------+\n",
      "\n"
     ]
    }
   ],
   "source": [
    "db_pyspark.filter((db_pyspark[\"Annual Income (k$)\"]<=18.0 ) | ( db_pyspark[\"Annual Income (k$)\"]<=15)).show() "
   ]
  },
  {
   "cell_type": "code",
   "execution_count": 55,
   "id": "b21aba60-eabf-4881-8489-359bae73a8e8",
   "metadata": {
    "tags": []
   },
   "outputs": [
    {
     "name": "stdout",
     "output_type": "stream",
     "text": [
      "+----------+----+------------------+----------------------+\n",
      "|CustomerID| Age|Annual Income (k$)|Spending Score (1-100)|\n",
      "+----------+----+------------------+----------------------+\n",
      "|       1.0|19.0|              15.0|                    39|\n",
      "|       2.0|21.0|              15.0|                    81|\n",
      "|       3.0|20.0|              16.0|                     6|\n",
      "|       4.0|23.0|              16.0|                    77|\n",
      "|       5.0|31.0|              17.0|                    40|\n",
      "|       6.0|22.0|              17.0|                    76|\n",
      "|       7.0|35.0|              18.0|                     6|\n",
      "|       8.0|23.0|              18.0|                    94|\n",
      "+----------+----+------------------+----------------------+\n",
      "\n"
     ]
    }
   ],
   "source": [
    "db_pyspark.filter((db_pyspark[\"Annual Income (k$)\"]<=18.0 )).show() \n"
   ]
  },
  {
   "cell_type": "code",
   "execution_count": null,
   "id": "c7429f2d-7256-4666-b2b0-b7a6b446c485",
   "metadata": {},
   "outputs": [],
   "source": []
  }
 ],
 "metadata": {
  "kernelspec": {
   "display_name": "Python 3 (ipykernel)",
   "language": "python",
   "name": "python3"
  },
  "language_info": {
   "codemirror_mode": {
    "name": "ipython",
    "version": 3
   },
   "file_extension": ".py",
   "mimetype": "text/x-python",
   "name": "python",
   "nbconvert_exporter": "python",
   "pygments_lexer": "ipython3",
   "version": "3.11.5"
  }
 },
 "nbformat": 4,
 "nbformat_minor": 5
}
