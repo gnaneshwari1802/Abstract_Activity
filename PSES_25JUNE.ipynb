{
  "nbformat": 4,
  "nbformat_minor": 0,
  "metadata": {
    "colab": {
      "provenance": [],
      "include_colab_link": true
    },
    "kernelspec": {
      "name": "python3",
      "display_name": "Python 3"
    },
    "language_info": {
      "name": "python"
    }
  },
  "cells": [
    {
      "cell_type": "markdown",
      "metadata": {
        "id": "view-in-github",
        "colab_type": "text"
      },
      "source": [
        "<a href=\"https://colab.research.google.com/github/gnaneshwari1802/Abstract_Activity/blob/main/PSES_25JUNE.ipynb\" target=\"_parent\"><img src=\"https://colab.research.google.com/assets/colab-badge.svg\" alt=\"Open In Colab\"/></a>"
      ]
    },
    {
      "cell_type": "markdown",
      "source": [
        "PYTHON"
      ],
      "metadata": {
        "id": "xf7hc1Ma4x1A"
      }
    },
    {
      "cell_type": "code",
      "execution_count": null,
      "metadata": {
        "colab": {
          "base_uri": "https://localhost:8080/"
        },
        "id": "CRtIVjIx4var",
        "outputId": "abd6efd0-f62a-4810-f764-70519098aa93"
      },
      "outputs": [
        {
          "output_type": "stream",
          "name": "stdout",
          "text": [
            "Hello welcome\n"
          ]
        }
      ],
      "source": [
        "print('Hello welcome')"
      ]
    },
    {
      "cell_type": "markdown",
      "source": [
        "COMMENTS"
      ],
      "metadata": {
        "id": "U8lYP57U5c-S"
      }
    },
    {
      "cell_type": "code",
      "source": [
        "print(\"Hello this is python\")  #this is example"
      ],
      "metadata": {
        "colab": {
          "base_uri": "https://localhost:8080/"
        },
        "id": "tOuJXrt-46vI",
        "outputId": "d31d81a4-b18e-44e6-aee8-a63457fb3085"
      },
      "execution_count": null,
      "outputs": [
        {
          "output_type": "stream",
          "name": "stdout",
          "text": [
            "Hello this is python\n"
          ]
        }
      ]
    },
    {
      "cell_type": "code",
      "source": [
        "'''This is a multi line\n",
        "comment in python'''\n",
        "print(\"hello\")"
      ],
      "metadata": {
        "colab": {
          "base_uri": "https://localhost:8080/"
        },
        "id": "lLzHYxZ946xv",
        "outputId": "3b577374-1790-420e-a2da-3f0e58cac12d"
      },
      "execution_count": null,
      "outputs": [
        {
          "output_type": "stream",
          "name": "stdout",
          "text": [
            "hello\n"
          ]
        }
      ]
    },
    {
      "cell_type": "code",
      "source": [
        "#variables---container for data(data storage name in memory)"
      ],
      "metadata": {
        "id": "npJER6CE460i"
      },
      "execution_count": null,
      "outputs": []
    },
    {
      "cell_type": "markdown",
      "source": [
        "1)Variable can be character+number(a,A, 0 to 9)combinations\n",
        "2)dont begin with numbers\n",
        "3)Underscore can be used _\n",
        "4)Special symbol not allowed\n",
        "5)case sensitive  A a(different)\n",
        "6)keywords cannot be used as var names"
      ],
      "metadata": {
        "id": "4Ut-cUFh7PQr"
      }
    },
    {
      "cell_type": "code",
      "source": [
        "stuname='sam'\n",
        "print(stuname)"
      ],
      "metadata": {
        "colab": {
          "base_uri": "https://localhost:8080/"
        },
        "id": "j-ShnMNT4634",
        "outputId": "d7f4ee27-d7c8-4d86-c44c-b9720ec2e263"
      },
      "execution_count": null,
      "outputs": [
        {
          "output_type": "stream",
          "name": "stdout",
          "text": [
            "sam\n"
          ]
        }
      ]
    },
    {
      "cell_type": "code",
      "source": [
        "stuname2='jay'\n",
        "print(stuname2)"
      ],
      "metadata": {
        "colab": {
          "base_uri": "https://localhost:8080/"
        },
        "id": "ZarEGMyv466c",
        "outputId": "a03ee665-fd2b-448c-c0b7-85bc461cda8b"
      },
      "execution_count": null,
      "outputs": [
        {
          "output_type": "stream",
          "name": "stdout",
          "text": [
            "jay\n"
          ]
        }
      ]
    },
    {
      "cell_type": "code",
      "source": [
        "12abc='hello'   #error becoz shld not begin numbers"
      ],
      "metadata": {
        "colab": {
          "base_uri": "https://localhost:8080/",
          "height": 131
        },
        "id": "sjEy3EAT468v",
        "outputId": "7ecd9400-c9e5-4275-da84-030203997c30"
      },
      "execution_count": null,
      "outputs": [
        {
          "output_type": "error",
          "ename": "SyntaxError",
          "evalue": "ignored",
          "traceback": [
            "\u001b[0;36m  File \u001b[0;32m\"<ipython-input-6-720f552124a1>\"\u001b[0;36m, line \u001b[0;32m1\u001b[0m\n\u001b[0;31m    12abc='hello'\u001b[0m\n\u001b[0m     ^\u001b[0m\n\u001b[0;31mSyntaxError\u001b[0m\u001b[0;31m:\u001b[0m invalid decimal literal\n"
          ]
        }
      ]
    },
    {
      "cell_type": "code",
      "source": [
        "_var1='python123'\n",
        "print(_var1)"
      ],
      "metadata": {
        "colab": {
          "base_uri": "https://localhost:8080/"
        },
        "id": "EeeBlZEZ46-6",
        "outputId": "07286eac-3f04-4f14-8f75-f66a773d954c"
      },
      "execution_count": null,
      "outputs": [
        {
          "output_type": "stream",
          "name": "stdout",
          "text": [
            "python123\n"
          ]
        }
      ]
    },
    {
      "cell_type": "code",
      "source": [
        "_var2=4567\n",
        "print(_var2)"
      ],
      "metadata": {
        "colab": {
          "base_uri": "https://localhost:8080/"
        },
        "id": "O5zE_eYg47BY",
        "outputId": "366a36b4-d6c6-450c-9bbf-ed8f8064c12b"
      },
      "execution_count": null,
      "outputs": [
        {
          "output_type": "stream",
          "name": "stdout",
          "text": [
            "4567\n"
          ]
        }
      ]
    },
    {
      "cell_type": "code",
      "source": [
        "A=89\n",
        "print(A)"
      ],
      "metadata": {
        "colab": {
          "base_uri": "https://localhost:8080/"
        },
        "id": "IHAobJ1Q8jq8",
        "outputId": "392486a0-9ba2-4134-910e-3f0fe4eda72b"
      },
      "execution_count": null,
      "outputs": [
        {
          "output_type": "stream",
          "name": "stdout",
          "text": [
            "89\n"
          ]
        }
      ]
    },
    {
      "cell_type": "code",
      "source": [
        "a=90\n",
        "print(a)"
      ],
      "metadata": {
        "colab": {
          "base_uri": "https://localhost:8080/"
        },
        "id": "FcvUQzN182mc",
        "outputId": "00cf3abc-e9ad-4b34-bee9-1bda915fe3eb"
      },
      "execution_count": null,
      "outputs": [
        {
          "output_type": "stream",
          "name": "stdout",
          "text": [
            "90\n"
          ]
        }
      ]
    },
    {
      "cell_type": "code",
      "source": [
        "#data type"
      ],
      "metadata": {
        "id": "E5BWPpQw82p5"
      },
      "execution_count": null,
      "outputs": []
    },
    {
      "cell_type": "markdown",
      "source": [
        "DATA TYPES\n",
        "1)numeric--int, float,complex\n",
        "2)text---String (str)\n",
        "3)Boolean---True/ False  (1-True  0-false)(bool)\n",
        "4)List\n",
        "set\n",
        "Tuple\n",
        "dictionary"
      ],
      "metadata": {
        "id": "lLScPwSf9kc4"
      }
    },
    {
      "cell_type": "code",
      "source": [
        "num=12\n",
        "print(num)\n",
        "print(type(num))"
      ],
      "metadata": {
        "colab": {
          "base_uri": "https://localhost:8080/"
        },
        "id": "NkG2hCJw-GZB",
        "outputId": "0b2a8d5c-2779-4d9b-ca18-d729b370b77e"
      },
      "execution_count": null,
      "outputs": [
        {
          "output_type": "stream",
          "name": "stdout",
          "text": [
            "12\n",
            "<class 'int'>\n"
          ]
        }
      ]
    },
    {
      "cell_type": "code",
      "source": [
        "num2=56.78\n",
        "print(num2)\n",
        "print(type(num2))"
      ],
      "metadata": {
        "colab": {
          "base_uri": "https://localhost:8080/"
        },
        "id": "YyDYBXuR-GsG",
        "outputId": "9a1c65de-a8cd-4d40-ac64-e27fe5d9e732"
      },
      "execution_count": null,
      "outputs": [
        {
          "output_type": "stream",
          "name": "stdout",
          "text": [
            "56.78\n",
            "<class 'float'>\n"
          ]
        }
      ]
    },
    {
      "cell_type": "code",
      "source": [
        "n=\"Program\"\n",
        "print(n)\n",
        "print(type(n))"
      ],
      "metadata": {
        "colab": {
          "base_uri": "https://localhost:8080/"
        },
        "id": "XkKH9HK8_t_a",
        "outputId": "3f0db88c-74ce-4fe7-bb0a-98f7d16e3f73"
      },
      "execution_count": null,
      "outputs": [
        {
          "output_type": "stream",
          "name": "stdout",
          "text": [
            "Program\n",
            "<class 'str'>\n"
          ]
        }
      ]
    },
    {
      "cell_type": "code",
      "source": [
        "x=True\n",
        "print(type(x))"
      ],
      "metadata": {
        "colab": {
          "base_uri": "https://localhost:8080/"
        },
        "id": "LkVMBTgd_uDJ",
        "outputId": "b7b82b2f-4e82-4bed-a8e2-88a2a7b3fecb"
      },
      "execution_count": null,
      "outputs": [
        {
          "output_type": "stream",
          "name": "stdout",
          "text": [
            "<class 'bool'>\n"
          ]
        }
      ]
    },
    {
      "cell_type": "code",
      "source": [
        "y=False\n",
        "print(type(y))"
      ],
      "metadata": {
        "colab": {
          "base_uri": "https://localhost:8080/"
        },
        "id": "mgh8vSRB_uHW",
        "outputId": "39b49110-06e9-4867-ce37-59e02d49220c"
      },
      "execution_count": null,
      "outputs": [
        {
          "output_type": "stream",
          "name": "stdout",
          "text": [
            "<class 'bool'>\n"
          ]
        }
      ]
    },
    {
      "cell_type": "code",
      "source": [
        "c=7+6J  # real part+ imaginary  6J\n",
        "print(type(c))"
      ],
      "metadata": {
        "colab": {
          "base_uri": "https://localhost:8080/"
        },
        "id": "2R2uIcPBALU6",
        "outputId": "c7a0ef68-6d4b-4c9b-f4e9-6a427c92240a"
      },
      "execution_count": null,
      "outputs": [
        {
          "output_type": "stream",
          "name": "stdout",
          "text": [
            "<class 'complex'>\n"
          ]
        }
      ]
    },
    {
      "cell_type": "code",
      "source": [
        "#list-collection of items(different data type)\n",
        "mylist=['laptop','Tab','Mobile',54,67.9,'earbud']\n",
        "print(mylist)\n",
        "print(type(mylist))"
      ],
      "metadata": {
        "colab": {
          "base_uri": "https://localhost:8080/"
        },
        "id": "0GhLLzZJBClI",
        "outputId": "e5bc03eb-50da-4d4b-e4ba-5c1c4de90208"
      },
      "execution_count": null,
      "outputs": [
        {
          "output_type": "stream",
          "name": "stdout",
          "text": [
            "['laptop', 'Tab', 'Mobile', 54, 67.9, 'earbud']\n",
            "<class 'list'>\n"
          ]
        }
      ]
    },
    {
      "cell_type": "markdown",
      "source": [
        "TYPE CASTING--TYPE CONVERSION\n",
        "Explicit\n",
        "Implicit"
      ],
      "metadata": {
        "id": "sOyo9AUMSrz9"
      }
    },
    {
      "cell_type": "code",
      "source": [
        "a=-65\n",
        "b=float(a)\n",
        "print(b)\n",
        "print(type(b))"
      ],
      "metadata": {
        "id": "qFMUnGNdBCo8",
        "colab": {
          "base_uri": "https://localhost:8080/"
        },
        "outputId": "34dd4730-b8d8-42ec-f680-ef31353a4666"
      },
      "execution_count": null,
      "outputs": [
        {
          "output_type": "stream",
          "name": "stdout",
          "text": [
            "-65.0\n",
            "<class 'float'>\n"
          ]
        }
      ]
    },
    {
      "cell_type": "code",
      "source": [
        "c=87.4\n",
        "d=int(c)\n",
        "print(d)\n",
        "print(type(d))"
      ],
      "metadata": {
        "colab": {
          "base_uri": "https://localhost:8080/"
        },
        "id": "1nkpgbkKS9bc",
        "outputId": "1b2cfa3e-e8df-4ec6-e536-4f1e81f4762f"
      },
      "execution_count": null,
      "outputs": [
        {
          "output_type": "stream",
          "name": "stdout",
          "text": [
            "87\n",
            "<class 'int'>\n"
          ]
        }
      ]
    },
    {
      "cell_type": "code",
      "source": [
        "c=87.4\n",
        "d=complex(c)\n",
        "print(d)\n",
        "print(type(d))"
      ],
      "metadata": {
        "colab": {
          "base_uri": "https://localhost:8080/"
        },
        "id": "xc4OdyyXVbjY",
        "outputId": "b715d610-fbb3-4e81-8565-4b1c3a52f135"
      },
      "execution_count": null,
      "outputs": [
        {
          "output_type": "stream",
          "name": "stdout",
          "text": [
            "(87.4+0j)\n",
            "<class 'complex'>\n"
          ]
        }
      ]
    },
    {
      "cell_type": "code",
      "source": [
        "n=66\n",
        "m=str(n)\n",
        "print(m)\n",
        "print(type(n))\n",
        "print(type(m))"
      ],
      "metadata": {
        "colab": {
          "base_uri": "https://localhost:8080/"
        },
        "id": "s1BgkY0-Th8-",
        "outputId": "0ac17420-a697-4a92-d803-7ac56667aedf"
      },
      "execution_count": null,
      "outputs": [
        {
          "output_type": "stream",
          "name": "stdout",
          "text": [
            "66\n",
            "<class 'int'>\n",
            "<class 'str'>\n"
          ]
        }
      ]
    },
    {
      "cell_type": "code",
      "source": [
        "#Implicit conversion--automatic\n",
        "x=34\n",
        "y=14.2\n",
        "r=x+y\n",
        "print(r)\n",
        "print(type(r))"
      ],
      "metadata": {
        "colab": {
          "base_uri": "https://localhost:8080/"
        },
        "id": "12S9vdjSTiAe",
        "outputId": "5ee2855c-1273-4cb5-cab5-5b60647fb0ab"
      },
      "execution_count": null,
      "outputs": [
        {
          "output_type": "stream",
          "name": "stdout",
          "text": [
            "48.2\n",
            "<class 'float'>\n"
          ]
        }
      ]
    },
    {
      "cell_type": "markdown",
      "source": [],
      "metadata": {
        "id": "CkxW3fqXVnbY"
      }
    },
    {
      "cell_type": "code",
      "source": [
        "s1=\"Python program\"\n"
      ],
      "metadata": {
        "id": "iEq0fRt-TiDX"
      },
      "execution_count": null,
      "outputs": []
    },
    {
      "cell_type": "code",
      "source": [
        "print(len(s1))   #length of str"
      ],
      "metadata": {
        "colab": {
          "base_uri": "https://localhost:8080/"
        },
        "id": "4rm9yPGvWZo9",
        "outputId": "9a2c2fc4-5ffc-4458-c857-60ae869d14a4"
      },
      "execution_count": null,
      "outputs": [
        {
          "output_type": "stream",
          "name": "stdout",
          "text": [
            "14\n"
          ]
        }
      ]
    },
    {
      "cell_type": "code",
      "source": [
        "print(s1[0])"
      ],
      "metadata": {
        "colab": {
          "base_uri": "https://localhost:8080/"
        },
        "id": "KBRPSN0DTiGt",
        "outputId": "ab1a6147-4fda-4f40-8e22-62e1774512df"
      },
      "execution_count": null,
      "outputs": [
        {
          "output_type": "stream",
          "name": "stdout",
          "text": [
            "P\n"
          ]
        }
      ]
    },
    {
      "cell_type": "code",
      "source": [
        "print(s1[1])"
      ],
      "metadata": {
        "colab": {
          "base_uri": "https://localhost:8080/"
        },
        "id": "Yd13SfgBS9eZ",
        "outputId": "a2214977-40ff-4249-bb06-bd800864dafe"
      },
      "execution_count": null,
      "outputs": [
        {
          "output_type": "stream",
          "name": "stdout",
          "text": [
            "y\n"
          ]
        }
      ]
    },
    {
      "cell_type": "code",
      "source": [
        "print(s1[13])"
      ],
      "metadata": {
        "colab": {
          "base_uri": "https://localhost:8080/"
        },
        "id": "L00YmXopS9g5",
        "outputId": "452700f9-e9dd-4d82-bc1a-0cd56325bc84"
      },
      "execution_count": null,
      "outputs": [
        {
          "output_type": "stream",
          "name": "stdout",
          "text": [
            "m\n"
          ]
        }
      ]
    },
    {
      "cell_type": "code",
      "source": [
        "print(s1.find('h'))"
      ],
      "metadata": {
        "colab": {
          "base_uri": "https://localhost:8080/"
        },
        "id": "kzfgcAnbS9jo",
        "outputId": "d11ba16d-c9c8-46e7-d70d-5d85184741cb"
      },
      "execution_count": null,
      "outputs": [
        {
          "output_type": "stream",
          "name": "stdout",
          "text": [
            "3\n"
          ]
        }
      ]
    },
    {
      "cell_type": "code",
      "source": [
        "print(s1.find('o'))"
      ],
      "metadata": {
        "colab": {
          "base_uri": "https://localhost:8080/"
        },
        "id": "Vj5wd2AhYETo",
        "outputId": "caa61161-c5a4-448d-8296-841cc651ee0c"
      },
      "execution_count": null,
      "outputs": [
        {
          "output_type": "stream",
          "name": "stdout",
          "text": [
            "4\n"
          ]
        }
      ]
    },
    {
      "cell_type": "code",
      "source": [
        "print(s1.find('r'))  #index of char"
      ],
      "metadata": {
        "colab": {
          "base_uri": "https://localhost:8080/"
        },
        "id": "TJCLAbXEYEWp",
        "outputId": "5aab8b64-7408-4bab-de0d-5f233a4dd7bd"
      },
      "execution_count": null,
      "outputs": [
        {
          "output_type": "stream",
          "name": "stdout",
          "text": [
            "8\n"
          ]
        }
      ]
    },
    {
      "cell_type": "code",
      "source": [
        "print(s1.count('r'))"
      ],
      "metadata": {
        "colab": {
          "base_uri": "https://localhost:8080/"
        },
        "id": "zddy7xdzYEaI",
        "outputId": "b44fc8af-23bf-465b-b792-5d5d4b299adb"
      },
      "execution_count": null,
      "outputs": [
        {
          "output_type": "stream",
          "name": "stdout",
          "text": [
            "2\n"
          ]
        }
      ]
    },
    {
      "cell_type": "code",
      "source": [
        "print(s1[6])"
      ],
      "metadata": {
        "colab": {
          "base_uri": "https://localhost:8080/"
        },
        "id": "8BGnwOCtYkja",
        "outputId": "b9275a41-a8cc-405c-e154-f2c7c6e407eb"
      },
      "execution_count": null,
      "outputs": [
        {
          "output_type": "stream",
          "name": "stdout",
          "text": [
            " \n"
          ]
        }
      ]
    },
    {
      "cell_type": "code",
      "source": [
        "s1=s1.replace('program','Class')\n",
        "print(s1)"
      ],
      "metadata": {
        "colab": {
          "base_uri": "https://localhost:8080/"
        },
        "id": "y564-FWQYkl-",
        "outputId": "758cce8d-abbf-4572-81ab-a5b1a79a3a46"
      },
      "execution_count": null,
      "outputs": [
        {
          "output_type": "stream",
          "name": "stdout",
          "text": [
            "Python Class\n"
          ]
        }
      ]
    },
    {
      "cell_type": "code",
      "source": [
        "print(s1)"
      ],
      "metadata": {
        "colab": {
          "base_uri": "https://localhost:8080/"
        },
        "id": "9Enm_Uj8Ykpb",
        "outputId": "619761c1-1412-498f-d889-1606927e66d9"
      },
      "execution_count": null,
      "outputs": [
        {
          "output_type": "stream",
          "name": "stdout",
          "text": [
            "Python program\n"
          ]
        }
      ]
    },
    {
      "cell_type": "code",
      "source": [
        "s2=\"Data Science is interesting  D\"\n",
        "\n",
        "print(s2.strip(\"D\"))  #removes specified character both beginning and end(left and right)"
      ],
      "metadata": {
        "colab": {
          "base_uri": "https://localhost:8080/"
        },
        "id": "Fw3AlMNTZ3vZ",
        "outputId": "e6604a93-8d47-43dc-9609-584df69ce9c7"
      },
      "execution_count": null,
      "outputs": [
        {
          "output_type": "stream",
          "name": "stdout",
          "text": [
            "ata Dcience is interesting   \n"
          ]
        }
      ]
    },
    {
      "cell_type": "code",
      "source": [
        "s2=\"  Data science is interesting   \"\n",
        "print(s2.strip())\n"
      ],
      "metadata": {
        "colab": {
          "base_uri": "https://localhost:8080/"
        },
        "id": "WYBD1rE6cqgU",
        "outputId": "a6a9da20-a63f-4dff-c2e4-fb4d29da1d07"
      },
      "execution_count": null,
      "outputs": [
        {
          "output_type": "stream",
          "name": "stdout",
          "text": [
            "Data science is interesting\n"
          ]
        }
      ]
    },
    {
      "cell_type": "code",
      "source": [
        "s2=\",,,Data science is interesting\"\n",
        "print(s2.strip(\",\"))"
      ],
      "metadata": {
        "colab": {
          "base_uri": "https://localhost:8080/"
        },
        "id": "k5t9EtRXc0GM",
        "outputId": "c4ca535f-41d8-4bf9-c79d-9df694ed92b7"
      },
      "execution_count": null,
      "outputs": [
        {
          "output_type": "stream",
          "name": "stdout",
          "text": [
            "Data science is interesting\n"
          ]
        }
      ]
    },
    {
      "cell_type": "code",
      "source": [
        "print(s2.lstrip())   #left"
      ],
      "metadata": {
        "colab": {
          "base_uri": "https://localhost:8080/"
        },
        "id": "1zoQug6saKiP",
        "outputId": "c621d0c4-a485-4f7b-e432-2f2d8e1b4230"
      },
      "execution_count": null,
      "outputs": [
        {
          "output_type": "stream",
          "name": "stdout",
          "text": [
            "Data science is interesting   \n"
          ]
        }
      ]
    },
    {
      "cell_type": "code",
      "source": [
        "print(s2.rstrip())    #right"
      ],
      "metadata": {
        "colab": {
          "base_uri": "https://localhost:8080/"
        },
        "id": "ZD2uGbUgaKww",
        "outputId": "c8f9aa70-2963-40b3-8651-b901c2e25a79"
      },
      "execution_count": null,
      "outputs": [
        {
          "output_type": "stream",
          "name": "stdout",
          "text": [
            "   Data science is interesting\n"
          ]
        }
      ]
    },
    {
      "cell_type": "code",
      "source": [
        "mystr=\"Hello this is python\"\n",
        "x=mystr.split()    #splits string\n",
        "print(x)"
      ],
      "metadata": {
        "colab": {
          "base_uri": "https://localhost:8080/"
        },
        "id": "9plEOad8akQv",
        "outputId": "a13118aa-69d9-4a70-bc38-9c8facb63605"
      },
      "execution_count": null,
      "outputs": [
        {
          "output_type": "stream",
          "name": "stdout",
          "text": [
            "['Hello', 'this', 'is', 'python']\n"
          ]
        }
      ]
    },
    {
      "cell_type": "code",
      "source": [
        "str2=\"Hello, this is, python\"\n",
        "y=str2.split(\",\")\n",
        "print(y)"
      ],
      "metadata": {
        "colab": {
          "base_uri": "https://localhost:8080/"
        },
        "id": "GLeLfn8xakTz",
        "outputId": "6eea3624-93b1-481d-da6f-3596fb95e386"
      },
      "execution_count": null,
      "outputs": [
        {
          "output_type": "stream",
          "name": "stdout",
          "text": [
            "['Hello', ' this is', ' python']\n"
          ]
        }
      ]
    },
    {
      "cell_type": "markdown",
      "source": [
        "slicing\n",
        "start index: end_index-1 : skip-val-1           \n",
        "---\n",
        "\n"
      ],
      "metadata": {
        "id": "PCuA3l7ceUeN"
      }
    },
    {
      "cell_type": "code",
      "source": [
        "ss=\"Welcome\"\n",
        "print(ss[0:4])"
      ],
      "metadata": {
        "colab": {
          "base_uri": "https://localhost:8080/"
        },
        "id": "sKSYw50eakWy",
        "outputId": "1bf95554-aad2-484f-bf53-68313791d9ed"
      },
      "execution_count": null,
      "outputs": [
        {
          "output_type": "stream",
          "name": "stdout",
          "text": [
            "Welc\n"
          ]
        }
      ]
    },
    {
      "cell_type": "code",
      "source": [
        "print(ss[0:6:2])"
      ],
      "metadata": {
        "colab": {
          "base_uri": "https://localhost:8080/"
        },
        "id": "we9uOre1erVO",
        "outputId": "fbbd7cfe-3a3f-4e30-9264-a08521a1f1eb"
      },
      "execution_count": null,
      "outputs": [
        {
          "output_type": "stream",
          "name": "stdout",
          "text": [
            "Wlo\n"
          ]
        }
      ]
    },
    {
      "cell_type": "code",
      "source": [
        "print(ss[0:6:3])"
      ],
      "metadata": {
        "colab": {
          "base_uri": "https://localhost:8080/"
        },
        "id": "oZfZT3rjerYj",
        "outputId": "8a233832-a059-43b3-a283-a9bca9e1c643"
      },
      "execution_count": null,
      "outputs": [
        {
          "output_type": "stream",
          "name": "stdout",
          "text": [
            "Wc\n"
          ]
        }
      ]
    },
    {
      "cell_type": "code",
      "source": [
        "print(ss[2:]) #no end index"
      ],
      "metadata": {
        "colab": {
          "base_uri": "https://localhost:8080/"
        },
        "id": "WTWliO0QerbR",
        "outputId": "584fa9c1-eae5-4858-cfad-d5e6bd8a0f80"
      },
      "execution_count": null,
      "outputs": [
        {
          "output_type": "stream",
          "name": "stdout",
          "text": [
            "lcome\n"
          ]
        }
      ]
    },
    {
      "cell_type": "code",
      "source": [
        "print(ss[:6])  #no start index"
      ],
      "metadata": {
        "colab": {
          "base_uri": "https://localhost:8080/"
        },
        "id": "sHYRN1pGfkZc",
        "outputId": "f6152c49-7e47-4271-d7fc-9c345534112c"
      },
      "execution_count": null,
      "outputs": [
        {
          "output_type": "stream",
          "name": "stdout",
          "text": [
            "Welcom\n"
          ]
        }
      ]
    },
    {
      "cell_type": "code",
      "source": [
        "print(ss[::2])   #no start and end index"
      ],
      "metadata": {
        "colab": {
          "base_uri": "https://localhost:8080/"
        },
        "id": "feNKxA8LftS5",
        "outputId": "d1dc4969-6e41-45c2-e8af-6628882d22d0"
      },
      "execution_count": null,
      "outputs": [
        {
          "output_type": "stream",
          "name": "stdout",
          "text": [
            "Wloe\n"
          ]
        }
      ]
    },
    {
      "cell_type": "code",
      "source": [
        "print(ss[:-1])   #negative index starts from -1"
      ],
      "metadata": {
        "colab": {
          "base_uri": "https://localhost:8080/"
        },
        "id": "KHDBuT1vftWt",
        "outputId": "a8e7ba09-94e2-4962-eee7-74775f2184af"
      },
      "execution_count": null,
      "outputs": [
        {
          "output_type": "stream",
          "name": "stdout",
          "text": [
            "Welcom\n"
          ]
        }
      ]
    },
    {
      "cell_type": "code",
      "source": [
        "print(ss[:-1:2])"
      ],
      "metadata": {
        "colab": {
          "base_uri": "https://localhost:8080/"
        },
        "id": "3BA-x7YwhZvg",
        "outputId": "69bab47c-1ef4-4004-972f-d234febc4ac0"
      },
      "execution_count": null,
      "outputs": [
        {
          "output_type": "stream",
          "name": "stdout",
          "text": [
            "Wlo\n"
          ]
        }
      ]
    },
    {
      "cell_type": "code",
      "source": [
        "st1=\"123555\"\n",
        "print(st1.isdigit())"
      ],
      "metadata": {
        "colab": {
          "base_uri": "https://localhost:8080/"
        },
        "id": "DjU2x_3uhZzF",
        "outputId": "941cc0cc-c0ba-4fca-c34a-a313bf84ccbc"
      },
      "execution_count": null,
      "outputs": [
        {
          "output_type": "stream",
          "name": "stdout",
          "text": [
            "True\n"
          ]
        }
      ]
    },
    {
      "cell_type": "code",
      "source": [
        "st2=\"charstring\"\n",
        "print(st2.isalpha())"
      ],
      "metadata": {
        "colab": {
          "base_uri": "https://localhost:8080/"
        },
        "id": "I9U0mldNh5lc",
        "outputId": "e5ec4102-a09b-4be7-e946-68f07fb3d9ba"
      },
      "execution_count": null,
      "outputs": [
        {
          "output_type": "stream",
          "name": "stdout",
          "text": [
            "True\n"
          ]
        }
      ]
    },
    {
      "cell_type": "code",
      "source": [
        "st3=\"hello1234\"\n",
        "print(st3.isalnum())"
      ],
      "metadata": {
        "colab": {
          "base_uri": "https://localhost:8080/"
        },
        "id": "J4BizJ0Qh5ov",
        "outputId": "3f352eff-5e86-4d67-e032-b0251cd19bf4"
      },
      "execution_count": null,
      "outputs": [
        {
          "output_type": "stream",
          "name": "stdout",
          "text": [
            "True\n"
          ]
        }
      ]
    },
    {
      "cell_type": "code",
      "source": [
        "st3.startswith(\"h\")"
      ],
      "metadata": {
        "colab": {
          "base_uri": "https://localhost:8080/"
        },
        "id": "MmapCFYth5rn",
        "outputId": "96995cda-cd1b-4533-de98-4c5d0df8281c"
      },
      "execution_count": null,
      "outputs": [
        {
          "output_type": "execute_result",
          "data": {
            "text/plain": [
              "True"
            ]
          },
          "metadata": {},
          "execution_count": 62
        }
      ]
    },
    {
      "cell_type": "code",
      "source": [
        "st3.endswith('y')"
      ],
      "metadata": {
        "colab": {
          "base_uri": "https://localhost:8080/"
        },
        "id": "gasme9ScidaX",
        "outputId": "c3e299d2-41b7-4a18-f75d-751af9485b1c"
      },
      "execution_count": null,
      "outputs": [
        {
          "output_type": "execute_result",
          "data": {
            "text/plain": [
              "False"
            ]
          },
          "metadata": {},
          "execution_count": 63
        }
      ]
    },
    {
      "cell_type": "markdown",
      "source": [
        "OPERATORS\n",
        "1)Arithmetic--- + - * / % // **\n",
        "2)comparison    < > <= >= == !=\n",
        "3)assignment   =   += -= *= /=\n",
        "4)Logical\n",
        "5)Bitwise\n",
        "6)membership\n",
        "7)identity"
      ],
      "metadata": {
        "id": "EM3XQEufiwAZ"
      }
    },
    {
      "cell_type": "code",
      "source": [
        "p=31\n",
        "q=2\n",
        "print(p+q)\n",
        "print(p-q)\n",
        "print(p*q)\n",
        "print(p/q)   #quotient\n",
        "print(p%q)   #remiander   31/2   1\n",
        "print(p//q)   #floor division\n",
        "print(q**2)   #power/ exponent"
      ],
      "metadata": {
        "colab": {
          "base_uri": "https://localhost:8080/"
        },
        "id": "JeRCzG_Eiddl",
        "outputId": "8597f66f-b6af-4c8f-ce0b-e94e5cd93a01"
      },
      "execution_count": null,
      "outputs": [
        {
          "output_type": "stream",
          "name": "stdout",
          "text": [
            "33\n",
            "29\n",
            "62\n",
            "15.5\n",
            "1\n",
            "15\n",
            "4\n"
          ]
        }
      ]
    },
    {
      "cell_type": "code",
      "source": [
        "m=44\n",
        "n=32\n",
        "p=32\n",
        "print(m>n)\n",
        "print(m<n)\n",
        "print(m>=n)\n",
        "print(m<=n)\n",
        "print(n==p)\n",
        "print(m!=p)\n"
      ],
      "metadata": {
        "colab": {
          "base_uri": "https://localhost:8080/"
        },
        "id": "es2FwnrAjg98",
        "outputId": "51a8d628-56be-4036-da09-5e7d91b76841"
      },
      "execution_count": null,
      "outputs": [
        {
          "output_type": "stream",
          "name": "stdout",
          "text": [
            "True\n",
            "False\n",
            "True\n",
            "False\n",
            "True\n",
            "True\n"
          ]
        }
      ]
    },
    {
      "cell_type": "code",
      "source": [
        "s=56\n",
        "s+=4     #s=s+4\n",
        "print(s)\n",
        "\n"
      ],
      "metadata": {
        "colab": {
          "base_uri": "https://localhost:8080/"
        },
        "id": "3B7rw0z1jhBG",
        "outputId": "5dbb8fbc-32f3-437f-ba03-3a7148b16678"
      },
      "execution_count": null,
      "outputs": [
        {
          "output_type": "stream",
          "name": "stdout",
          "text": [
            "60\n"
          ]
        }
      ]
    },
    {
      "cell_type": "code",
      "source": [
        "s-=2\n",
        "print(s)"
      ],
      "metadata": {
        "colab": {
          "base_uri": "https://localhost:8080/"
        },
        "id": "iOVz-XrkjhFo",
        "outputId": "45ec020f-7548-469a-ccd2-ed85912ed785"
      },
      "execution_count": null,
      "outputs": [
        {
          "output_type": "stream",
          "name": "stdout",
          "text": [
            "58\n"
          ]
        }
      ]
    },
    {
      "cell_type": "code",
      "source": [
        "#and, or, not"
      ],
      "metadata": {
        "id": "YgfPoLividgN"
      },
      "execution_count": null,
      "outputs": []
    },
    {
      "cell_type": "code",
      "source": [
        "m=66\n",
        "n=43\n",
        "q=21\n",
        "print(m>n and n<q)   #and--both are true"
      ],
      "metadata": {
        "colab": {
          "base_uri": "https://localhost:8080/"
        },
        "id": "FH5WDeBZmIan",
        "outputId": "900e7937-e03a-4375-fbd0-f066de090514"
      },
      "execution_count": null,
      "outputs": [
        {
          "output_type": "stream",
          "name": "stdout",
          "text": [
            "False\n"
          ]
        }
      ]
    },
    {
      "cell_type": "code",
      "source": [
        "x=66\n",
        "y=99\n",
        "print(x>y or x<y)   #or--> either one can be true"
      ],
      "metadata": {
        "colab": {
          "base_uri": "https://localhost:8080/"
        },
        "id": "v1pHXzqwmIdd",
        "outputId": "6d84cb31-3dc3-4a2a-cc48-9fcbbc81e2e5"
      },
      "execution_count": null,
      "outputs": [
        {
          "output_type": "stream",
          "name": "stdout",
          "text": [
            "True\n"
          ]
        }
      ]
    },
    {
      "cell_type": "code",
      "source": [
        "print(not(x>y))   #not(false)"
      ],
      "metadata": {
        "colab": {
          "base_uri": "https://localhost:8080/"
        },
        "id": "RQmd1ZTpmIiJ",
        "outputId": "2dc32f68-f41f-4de3-e70b-f3bfcbca702b"
      },
      "execution_count": null,
      "outputs": [
        {
          "output_type": "stream",
          "name": "stdout",
          "text": [
            "True\n"
          ]
        }
      ]
    },
    {
      "cell_type": "code",
      "source": [
        "#bitwise            & | ~"
      ],
      "metadata": {
        "id": "9wQDQwRnnC74"
      },
      "execution_count": null,
      "outputs": []
    },
    {
      "cell_type": "code",
      "source": [
        "p=5\n",
        "q=3\n",
        "r=5\n",
        "print(p&q)\n",
        "print(p|q)\n",
        "print(~r)"
      ],
      "metadata": {
        "colab": {
          "base_uri": "https://localhost:8080/"
        },
        "id": "J83zF8epnDA9",
        "outputId": "c2e81a47-aecd-467f-f2f8-aa537c825550"
      },
      "execution_count": null,
      "outputs": [
        {
          "output_type": "stream",
          "name": "stdout",
          "text": [
            "1\n",
            "7\n",
            "-6\n"
          ]
        }
      ]
    },
    {
      "cell_type": "code",
      "source": [
        "#Membership opr   in, not in\n",
        "s='data'\n",
        "print('t' in s)\n",
        "print('d' not in s)"
      ],
      "metadata": {
        "colab": {
          "base_uri": "https://localhost:8080/"
        },
        "id": "YkZkjv0TpNkS",
        "outputId": "3e24676a-25ad-4791-a496-4d7d2c104bed"
      },
      "execution_count": null,
      "outputs": [
        {
          "output_type": "stream",
          "name": "stdout",
          "text": [
            "True\n",
            "False\n"
          ]
        }
      ]
    },
    {
      "cell_type": "code",
      "source": [
        "#Identity--is, is not (whther a char belongs to string or not)\n",
        "b='laptop'\n",
        "g=12\n",
        "b=g\n",
        "print(g)\n",
        "# c='123'\n",
        "# d=b\n",
        "print(g is b)"
      ],
      "metadata": {
        "colab": {
          "base_uri": "https://localhost:8080/"
        },
        "id": "9NniRZlXpNv6",
        "outputId": "83392d2c-e379-4417-fa81-a28e333cb292"
      },
      "execution_count": null,
      "outputs": [
        {
          "output_type": "stream",
          "name": "stdout",
          "text": [
            "12\n",
            "True\n"
          ]
        }
      ]
    },
    {
      "cell_type": "code",
      "source": [
        "print(c is not d)"
      ],
      "metadata": {
        "colab": {
          "base_uri": "https://localhost:8080/"
        },
        "id": "qhTMop-4pNzV",
        "outputId": "552a480f-2842-4564-df89-4e6d80bd0fd1"
      },
      "execution_count": null,
      "outputs": [
        {
          "output_type": "stream",
          "name": "stdout",
          "text": [
            "True\n"
          ]
        }
      ]
    },
    {
      "cell_type": "markdown",
      "source": [
        "LIST\n",
        "1)different data types\n",
        "2)Mutable---change  (assignment)\n",
        "3)Access a list is possible using index\n",
        "4)Add and element\n",
        "5)remove"
      ],
      "metadata": {
        "id": "sF7GrGKOshdT"
      }
    },
    {
      "cell_type": "code",
      "source": [
        "#list-collection of items(different data type)\n",
        "mylist=['laptop','Tab','Mobile',54,67.9,'earbud']\n",
        "print(mylist)\n",
        "print(type(mylist))"
      ],
      "metadata": {
        "colab": {
          "base_uri": "https://localhost:8080/"
        },
        "id": "pZe1r2ERnDFi",
        "outputId": "345e718d-6be0-4fc9-eb04-4102bbf522dd"
      },
      "execution_count": null,
      "outputs": [
        {
          "output_type": "stream",
          "name": "stdout",
          "text": [
            "['laptop', 'Tab', 'Mobile', 54, 67.9, 'earbud']\n",
            "<class 'list'>\n"
          ]
        }
      ]
    },
    {
      "cell_type": "code",
      "source": [
        "print(mylist[1])"
      ],
      "metadata": {
        "colab": {
          "base_uri": "https://localhost:8080/"
        },
        "id": "Pbe99-b2sgr7",
        "outputId": "c2494b1c-449f-4e99-af6a-0051d2d8bfdc"
      },
      "execution_count": null,
      "outputs": [
        {
          "output_type": "stream",
          "name": "stdout",
          "text": [
            "Tab\n"
          ]
        }
      ]
    },
    {
      "cell_type": "code",
      "source": [
        "print(mylist[4])"
      ],
      "metadata": {
        "colab": {
          "base_uri": "https://localhost:8080/"
        },
        "id": "n1VOVOBxsgvY",
        "outputId": "7ad90243-76eb-4132-fb63-eb0278cea5f5"
      },
      "execution_count": null,
      "outputs": [
        {
          "output_type": "stream",
          "name": "stdout",
          "text": [
            "67.9\n"
          ]
        }
      ]
    },
    {
      "cell_type": "code",
      "source": [
        "print(len(mylist))"
      ],
      "metadata": {
        "colab": {
          "base_uri": "https://localhost:8080/"
        },
        "id": "xzngP4TYsgx5",
        "outputId": "86267889-cd3a-46ff-e860-82dc711a6ccf"
      },
      "execution_count": null,
      "outputs": [
        {
          "output_type": "stream",
          "name": "stdout",
          "text": [
            "6\n"
          ]
        }
      ]
    },
    {
      "cell_type": "code",
      "source": [
        "mylist[2]='Charger'    #item assignment\n",
        "print(mylist)"
      ],
      "metadata": {
        "colab": {
          "base_uri": "https://localhost:8080/"
        },
        "id": "YZrR2wx6tcUU",
        "outputId": "82e47d1f-8e61-45b5-8b90-072ee1d4c964"
      },
      "execution_count": null,
      "outputs": [
        {
          "output_type": "stream",
          "name": "stdout",
          "text": [
            "['laptop', 'Tab', 'Charger', 54, 67.9, 'earbud']\n"
          ]
        }
      ]
    },
    {
      "cell_type": "code",
      "source": [
        "mylist.append('pen')   #append--add element at last\n",
        "print(mylist)"
      ],
      "metadata": {
        "colab": {
          "base_uri": "https://localhost:8080/"
        },
        "id": "0EiFw_k-tcpv",
        "outputId": "6f9898d2-9a1d-4077-82bb-88b2fd08ce2c"
      },
      "execution_count": null,
      "outputs": [
        {
          "output_type": "stream",
          "name": "stdout",
          "text": [
            "['laptop', 'Tab', 'Charger', 54, 67.9, 'earbud', 'pen']\n"
          ]
        }
      ]
    },
    {
      "cell_type": "code",
      "source": [
        "mylist.index(54)    #find index(value)\n"
      ],
      "metadata": {
        "colab": {
          "base_uri": "https://localhost:8080/"
        },
        "id": "urFJPwI5t97a",
        "outputId": "4bf4ffb9-91c6-40f4-dc4c-93a002b31c28"
      },
      "execution_count": null,
      "outputs": [
        {
          "output_type": "execute_result",
          "data": {
            "text/plain": [
              "3"
            ]
          },
          "metadata": {},
          "execution_count": 101
        }
      ]
    },
    {
      "cell_type": "code",
      "source": [
        "mylist.count('Tab')"
      ],
      "metadata": {
        "colab": {
          "base_uri": "https://localhost:8080/"
        },
        "id": "G_CcbmEtuKrD",
        "outputId": "ae6252b2-209d-4d7e-dc3e-101711dbada8"
      },
      "execution_count": null,
      "outputs": [
        {
          "output_type": "execute_result",
          "data": {
            "text/plain": [
              "1"
            ]
          },
          "metadata": {},
          "execution_count": 102
        }
      ]
    },
    {
      "cell_type": "code",
      "source": [],
      "metadata": {
        "id": "O62bgHz8uKws"
      },
      "execution_count": null,
      "outputs": []
    },
    {
      "cell_type": "code",
      "source": [
        "mylist.remove('earbud')    #remove(value)-----element will be removed"
      ],
      "metadata": {
        "id": "ZImt35SRuK-m"
      },
      "execution_count": null,
      "outputs": []
    },
    {
      "cell_type": "code",
      "source": [
        "print(mylist)"
      ],
      "metadata": {
        "colab": {
          "base_uri": "https://localhost:8080/"
        },
        "id": "hCIQJKmTt9_u",
        "outputId": "8e0bb72a-ee9d-4d5b-a08c-56a9f6273058"
      },
      "execution_count": null,
      "outputs": [
        {
          "output_type": "stream",
          "name": "stdout",
          "text": [
            "['laptop', 'Tab', 'Charger', 54, 67.9, 'pen']\n"
          ]
        }
      ]
    },
    {
      "cell_type": "code",
      "source": [
        "mylist.pop(1)      #removes an element based on index\n",
        "print(mylist)"
      ],
      "metadata": {
        "colab": {
          "base_uri": "https://localhost:8080/"
        },
        "id": "ak7ergTPuz-D",
        "outputId": "ba53f6aa-0b46-4bb9-e248-83fcd31f358c"
      },
      "execution_count": null,
      "outputs": [
        {
          "output_type": "stream",
          "name": "stdout",
          "text": [
            "['laptop', 'Charger', 54, 67.9, 'pen']\n"
          ]
        }
      ]
    },
    {
      "cell_type": "code",
      "source": [
        "n=[23,1,8,66,43]\n",
        "n.sort()           #ascending\n",
        "print(n)"
      ],
      "metadata": {
        "colab": {
          "base_uri": "https://localhost:8080/"
        },
        "id": "gsMrcGjqvTJm",
        "outputId": "326d37ac-7ac0-498c-8d93-58662a7ca5a5"
      },
      "execution_count": null,
      "outputs": [
        {
          "output_type": "stream",
          "name": "stdout",
          "text": [
            "[1, 8, 23, 43, 66]\n"
          ]
        }
      ]
    },
    {
      "cell_type": "code",
      "source": [
        "n.sort(reverse=True)     #descending order\n",
        "print(n)"
      ],
      "metadata": {
        "colab": {
          "base_uri": "https://localhost:8080/"
        },
        "id": "QxKD9tY3vTQJ",
        "outputId": "e202e5f1-1ed5-4bd1-daf2-438b3ab9374b"
      },
      "execution_count": null,
      "outputs": [
        {
          "output_type": "stream",
          "name": "stdout",
          "text": [
            "[66, 43, 23, 8, 1]\n"
          ]
        }
      ]
    },
    {
      "cell_type": "code",
      "source": [
        "print(max(n))\n",
        "print(min(n))"
      ],
      "metadata": {
        "colab": {
          "base_uri": "https://localhost:8080/"
        },
        "id": "MqnsIxohvTUU",
        "outputId": "608560cd-3f8b-4461-e5b7-28245ed38e0d"
      },
      "execution_count": null,
      "outputs": [
        {
          "output_type": "stream",
          "name": "stdout",
          "text": [
            "66\n",
            "1\n"
          ]
        }
      ]
    },
    {
      "cell_type": "code",
      "source": [
        "k=\"1234\"\n",
        "print(type(k))\n",
        "j=int(k)\n",
        "print(type(j))"
      ],
      "metadata": {
        "colab": {
          "base_uri": "https://localhost:8080/"
        },
        "id": "nbSu4F5NvTYX",
        "outputId": "ef67f1a7-1f67-4001-e27f-d353950446d0"
      },
      "execution_count": null,
      "outputs": [
        {
          "output_type": "stream",
          "name": "stdout",
          "text": [
            "<class 'str'>\n",
            "<class 'int'>\n"
          ]
        }
      ]
    },
    {
      "cell_type": "code",
      "source": [],
      "metadata": {
        "id": "RzAnIBPWvTf_"
      },
      "execution_count": null,
      "outputs": []
    },
    {
      "cell_type": "code",
      "source": [],
      "metadata": {
        "id": "iiHk3cYUvTjg"
      },
      "execution_count": null,
      "outputs": []
    }
  ]
}