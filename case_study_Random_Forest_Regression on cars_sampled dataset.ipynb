{
 "cells": [
  {
   "cell_type": "code",
   "execution_count": 48,
   "id": "b3c07d4a",
   "metadata": {},
   "outputs": [],
   "source": [
    "# -*- coding: utf-8 -*-\n",
    "\"\"\"\n",
    "Created on Wed Oct  2 22:27:13 2019\n",
    "\n",
    "@author: Ammu\n",
    "\"\"\"\n",
    "\n",
    "import pandas as pd\n",
    "import seaborn as sns\n"
   ]
  },
  {
   "cell_type": "code",
   "execution_count": 49,
   "id": "4b72f30c",
   "metadata": {},
   "outputs": [
    {
     "name": "stdout",
     "output_type": "stream",
     "text": [
      "              dateCrawled                                               name  \\\n",
      "0     2016-03-30 13:51:00                                       Zu_verkaufen   \n",
      "1     2016-03-07 09:54:00                             Volvo_XC90_2.4D_Summum   \n",
      "2     2016-04-01 00:57:00                                  Volkswagen_Touran   \n",
      "3     2016-03-19 17:50:00                       Seat_Ibiza_1.4_16V_Reference   \n",
      "4     2016-03-16 14:51:00  Volvo_XC90_D5_Aut._RDesign_R_Design_AWD_GSHD_S...   \n",
      "...                   ...                                                ...   \n",
      "49996 2016-04-03 15:48:00                               Suche_VW_T5_Multivan   \n",
      "49997 2016-03-27 14:55:00  Suche_einen_originalen_VW_Golf_2_Fire_and_Ice_G60   \n",
      "49998 2016-03-14 18:51:00  [SUCHE]_BMW_e46_Coupe_330ci_M_Paket_Facelift__...   \n",
      "49999 2016-03-15 18:06:00        Verkaufe_mehrere_Fahrzeuge_zum_Verschrotten   \n",
      "50000 2016-03-22 09:54:00                   Chevrolet_Matiz_1.Hd_TÃœV11/2017   \n",
      "\n",
      "           seller offerType  price   abtest    vehicleType  \\\n",
      "0         private     offer   4450     test      limousine   \n",
      "1         private     offer  13299  control            suv   \n",
      "2         private     offer   3200     test            bus   \n",
      "3         private     offer   4500  control      small car   \n",
      "4         private     offer  18750     test            suv   \n",
      "...           ...       ...    ...      ...            ...   \n",
      "49996     private   request      0     test            bus   \n",
      "49997     private   request  19999  control            NaN   \n",
      "49998     private   request      0     test          coupe   \n",
      "49999  commercial     offer    100  control  station wagon   \n",
      "50000  commercial     offer   1100     test      small car   \n",
      "\n",
      "       yearOfRegistration    gearbox  powerPS        model  kilometer  \\\n",
      "0                    2003     manual      150          3er     150000   \n",
      "1                    2005     manual      163     xc_reihe     150000   \n",
      "2                    2003     manual      101       touran     150000   \n",
      "3                    2006     manual       86        ibiza      60000   \n",
      "4                    2008  automatic      185     xc_reihe     150000   \n",
      "...                   ...        ...      ...          ...        ...   \n",
      "49996                2005        NaN        0  transporter     150000   \n",
      "49997                1990        NaN        0         golf       5000   \n",
      "49998                2004     manual        0          3er     150000   \n",
      "49999                2000     manual        0       megane     150000   \n",
      "50000                2006     manual       38        matiz     150000   \n",
      "\n",
      "       monthOfRegistration fuelType       brand notRepairedDamage dateCreated  \\\n",
      "0                        3   diesel         bmw               NaN  2016-03-30   \n",
      "1                        6   diesel       volvo                no  2016-03-07   \n",
      "2                       11   diesel  volkswagen               NaN  2016-03-31   \n",
      "3                       12   petrol        seat                no  2016-03-19   \n",
      "4                       11   diesel       volvo                no  2016-03-16   \n",
      "...                    ...      ...         ...               ...         ...   \n",
      "49996                    0      NaN  volkswagen               NaN  2016-04-03   \n",
      "49997                    0      NaN  volkswagen               NaN  2016-03-27   \n",
      "49998                    1   petrol         bmw                no  2016-03-14   \n",
      "49999                    8   petrol     renault               NaN  2016-03-15   \n",
      "50000                   10   petrol   chevrolet                no  2016-03-22   \n",
      "\n",
      "       postalCode            lastSeen  \n",
      "0           20257 2016-04-07 04:44:00  \n",
      "1           88045 2016-03-26 13:17:00  \n",
      "2           27449 2016-04-01 08:40:00  \n",
      "3           34537 2016-04-07 04:44:00  \n",
      "4           55270 2016-04-01 23:18:00  \n",
      "...           ...                 ...  \n",
      "49996       29690 2016-04-05 15:16:00  \n",
      "49997       50181 2016-04-07 11:45:00  \n",
      "49998       86956 2016-03-25 06:17:00  \n",
      "49999       65232 2016-04-06 17:15:00  \n",
      "50000        7973 2016-04-05 21:15:00  \n",
      "\n",
      "[50001 rows x 19 columns]\n",
      "<class 'pandas.core.frame.DataFrame'>\n",
      "RangeIndex: 50001 entries, 0 to 50000\n",
      "Data columns (total 19 columns):\n",
      " #   Column               Non-Null Count  Dtype         \n",
      "---  ------               --------------  -----         \n",
      " 0   dateCrawled          50001 non-null  datetime64[ns]\n",
      " 1   name                 49999 non-null  object        \n",
      " 2   seller               50001 non-null  object        \n",
      " 3   offerType            50001 non-null  object        \n",
      " 4   price                50001 non-null  int64         \n",
      " 5   abtest               50001 non-null  object        \n",
      " 6   vehicleType          44813 non-null  object        \n",
      " 7   yearOfRegistration   50001 non-null  int64         \n",
      " 8   gearbox              47177 non-null  object        \n",
      " 9   powerPS              50001 non-null  int64         \n",
      " 10  model                47243 non-null  object        \n",
      " 11  kilometer            50001 non-null  int64         \n",
      " 12  monthOfRegistration  50001 non-null  int64         \n",
      " 13  fuelType             45498 non-null  object        \n",
      " 14  brand                50001 non-null  object        \n",
      " 15  notRepairedDamage    40285 non-null  object        \n",
      " 16  dateCreated          50001 non-null  datetime64[ns]\n",
      " 17  postalCode           50001 non-null  int64         \n",
      " 18  lastSeen             50001 non-null  datetime64[ns]\n",
      "dtypes: datetime64[ns](3), int64(6), object(10)\n",
      "memory usage: 7.2+ MB\n",
      "None\n",
      "--------------------\n",
      "                         dateCrawled        price  yearOfRegistration  \\\n",
      "count                          50001    50001.000           50001.000   \n",
      "mean   2016-03-21 12:48:21.432771328     6559.865            2005.544   \n",
      "min              2016-03-05 14:06:00        0.000            1000.000   \n",
      "25%              2016-03-13 11:43:00     1150.000            1999.000   \n",
      "50%              2016-03-21 17:55:00     2950.000            2003.000   \n",
      "75%              2016-03-29 14:25:00     7190.000            2008.000   \n",
      "max              2016-04-07 14:36:00 12345678.000            9999.000   \n",
      "std                              NaN    85818.470             122.992   \n",
      "\n",
      "        powerPS  kilometer  monthOfRegistration  \\\n",
      "count 50001.000  50001.000            50001.000   \n",
      "mean    116.496 125613.688                5.744   \n",
      "min       0.000   5000.000                0.000   \n",
      "25%      69.000 125000.000                3.000   \n",
      "50%     105.000 150000.000                6.000   \n",
      "75%     150.000 150000.000                9.000   \n",
      "max   19312.000 150000.000               12.000   \n",
      "std     230.568  40205.234                3.711   \n",
      "\n",
      "                         dateCreated  postalCode  \\\n",
      "count                          50001   50001.000   \n",
      "mean   2016-03-20 18:59:35.592487936   50775.217   \n",
      "min              2015-09-04 00:00:00    1067.000   \n",
      "25%              2016-03-13 00:00:00   30559.000   \n",
      "50%              2016-03-21 00:00:00   49504.000   \n",
      "75%              2016-03-29 00:00:00   71404.000   \n",
      "max              2016-04-07 00:00:00   99998.000   \n",
      "std                              NaN   25743.702   \n",
      "\n",
      "                            lastSeen  \n",
      "count                          50001  \n",
      "mean   2016-03-30 02:45:05.291894016  \n",
      "min              2016-03-05 14:45:00  \n",
      "25%              2016-03-23 09:46:00  \n",
      "50%              2016-04-03 22:39:00  \n",
      "75%              2016-04-06 10:44:00  \n",
      "max              2016-04-07 14:58:00  \n",
      "std                              NaN  \n"
     ]
    }
   ],
   "source": [
    "data_cars=pd.read_excel(r\"C:\\Users\\Gnaneshwari\\Desktop\\cars_sampled.xlsx\")\n",
    "print(data_cars)\n",
    "cars_data=data_cars.copy()\n",
    "print(cars_data.info())\n",
    "print(\"-\"*20)\n",
    "print(cars_data.describe())\n",
    "\n"
   ]
  },
  {
   "cell_type": "code",
   "execution_count": 50,
   "id": "6d8eff5e",
   "metadata": {},
   "outputs": [
    {
     "name": "stdout",
     "output_type": "stream",
     "text": [
      "                         dateCrawled        price  yearOfRegistration  \\\n",
      "count                          50001    50001.000           50001.000   \n",
      "mean   2016-03-21 12:48:21.432771328     6559.865            2005.544   \n",
      "min              2016-03-05 14:06:00        0.000            1000.000   \n",
      "25%              2016-03-13 11:43:00     1150.000            1999.000   \n",
      "50%              2016-03-21 17:55:00     2950.000            2003.000   \n",
      "75%              2016-03-29 14:25:00     7190.000            2008.000   \n",
      "max              2016-04-07 14:36:00 12345678.000            9999.000   \n",
      "std                              NaN    85818.470             122.992   \n",
      "\n",
      "        powerPS  kilometer  monthOfRegistration  \\\n",
      "count 50001.000  50001.000            50001.000   \n",
      "mean    116.496 125613.688                5.744   \n",
      "min       0.000   5000.000                0.000   \n",
      "25%      69.000 125000.000                3.000   \n",
      "50%     105.000 150000.000                6.000   \n",
      "75%     150.000 150000.000                9.000   \n",
      "max   19312.000 150000.000               12.000   \n",
      "std     230.568  40205.234                3.711   \n",
      "\n",
      "                         dateCreated  postalCode  \\\n",
      "count                          50001   50001.000   \n",
      "mean   2016-03-20 18:59:35.592487936   50775.217   \n",
      "min              2015-09-04 00:00:00    1067.000   \n",
      "25%              2016-03-13 00:00:00   30559.000   \n",
      "50%              2016-03-21 00:00:00   49504.000   \n",
      "75%              2016-03-29 00:00:00   71404.000   \n",
      "max              2016-04-07 00:00:00   99998.000   \n",
      "std                              NaN   25743.702   \n",
      "\n",
      "                            lastSeen  \n",
      "count                          50001  \n",
      "mean   2016-03-30 02:45:05.291894016  \n",
      "min              2016-03-05 14:45:00  \n",
      "25%              2016-03-23 09:46:00  \n",
      "50%              2016-04-03 22:39:00  \n",
      "75%              2016-04-06 10:44:00  \n",
      "max              2016-04-07 14:58:00  \n",
      "std                              NaN  \n",
      "--------------------\n",
      "                         dateCrawled        price  yearOfRegistration  \\\n",
      "count                          50001    50001.000           50001.000   \n",
      "mean   2016-03-21 12:48:21.432771328     6559.865            2005.544   \n",
      "min              2016-03-05 14:06:00        0.000            1000.000   \n",
      "25%              2016-03-13 11:43:00     1150.000            1999.000   \n",
      "50%              2016-03-21 17:55:00     2950.000            2003.000   \n",
      "75%              2016-03-29 14:25:00     7190.000            2008.000   \n",
      "max              2016-04-07 14:36:00 12345678.000            9999.000   \n",
      "std                              NaN    85818.470             122.992   \n",
      "\n",
      "        powerPS  kilometer  monthOfRegistration  \\\n",
      "count 50001.000  50001.000            50001.000   \n",
      "mean    116.496 125613.688                5.744   \n",
      "min       0.000   5000.000                0.000   \n",
      "25%      69.000 125000.000                3.000   \n",
      "50%     105.000 150000.000                6.000   \n",
      "75%     150.000 150000.000                9.000   \n",
      "max   19312.000 150000.000               12.000   \n",
      "std     230.568  40205.234                3.711   \n",
      "\n",
      "                         dateCreated  postalCode  \\\n",
      "count                          50001   50001.000   \n",
      "mean   2016-03-20 18:59:35.592487936   50775.217   \n",
      "min              2015-09-04 00:00:00    1067.000   \n",
      "25%              2016-03-13 00:00:00   30559.000   \n",
      "50%              2016-03-21 00:00:00   49504.000   \n",
      "75%              2016-03-29 00:00:00   71404.000   \n",
      "max              2016-04-07 00:00:00   99998.000   \n",
      "std                              NaN   25743.702   \n",
      "\n",
      "                            lastSeen  \n",
      "count                          50001  \n",
      "mean   2016-03-30 02:45:05.291894016  \n",
      "min              2016-03-05 14:45:00  \n",
      "25%              2016-03-23 09:46:00  \n",
      "50%              2016-04-03 22:39:00  \n",
      "75%              2016-04-06 10:44:00  \n",
      "max              2016-04-07 14:58:00  \n",
      "std                              NaN  \n"
     ]
    }
   ],
   "source": [
    "#formating float data\n",
    "pd.set_option(\"display.float_format\",lambda x:\"%.3f\"%x)\n",
    "print(cars_data.describe())\n",
    "print(\"-\"*20)\n",
    "pd.set_option(\"display.max_columns\",500)\n",
    "print(cars_data.describe())\n",
    "\n"
   ]
  },
  {
   "cell_type": "code",
   "execution_count": 51,
   "id": "3e8a0800",
   "metadata": {},
   "outputs": [
    {
     "data": {
      "text/plain": [
       "Index(['dateCrawled', 'name', 'seller', 'offerType', 'price', 'abtest',\n",
       "       'vehicleType', 'yearOfRegistration', 'gearbox', 'powerPS', 'model',\n",
       "       'kilometer', 'monthOfRegistration', 'fuelType', 'brand',\n",
       "       'notRepairedDamage', 'dateCreated', 'postalCode', 'lastSeen'],\n",
       "      dtype='object')"
      ]
     },
     "execution_count": 51,
     "metadata": {},
     "output_type": "execute_result"
    }
   ],
   "source": [
    "cars_data.columns"
   ]
  },
  {
   "cell_type": "code",
   "execution_count": 52,
   "id": "448e0992",
   "metadata": {},
   "outputs": [
    {
     "name": "stdout",
     "output_type": "stream",
     "text": [
      "           seller offerType  price   abtest    vehicleType  \\\n",
      "0         private     offer   4450     test      limousine   \n",
      "1         private     offer  13299  control            suv   \n",
      "2         private     offer   3200     test            bus   \n",
      "3         private     offer   4500  control      small car   \n",
      "4         private     offer  18750     test            suv   \n",
      "...           ...       ...    ...      ...            ...   \n",
      "49996     private   request      0     test            bus   \n",
      "49997     private   request  19999  control            NaN   \n",
      "49998     private   request      0     test          coupe   \n",
      "49999  commercial     offer    100  control  station wagon   \n",
      "50000  commercial     offer   1100     test      small car   \n",
      "\n",
      "       yearOfRegistration    gearbox  powerPS        model  kilometer  \\\n",
      "0                    2003     manual      150          3er     150000   \n",
      "1                    2005     manual      163     xc_reihe     150000   \n",
      "2                    2003     manual      101       touran     150000   \n",
      "3                    2006     manual       86        ibiza      60000   \n",
      "4                    2008  automatic      185     xc_reihe     150000   \n",
      "...                   ...        ...      ...          ...        ...   \n",
      "49996                2005        NaN        0  transporter     150000   \n",
      "49997                1990        NaN        0         golf       5000   \n",
      "49998                2004     manual        0          3er     150000   \n",
      "49999                2000     manual        0       megane     150000   \n",
      "50000                2006     manual       38        matiz     150000   \n",
      "\n",
      "       monthOfRegistration fuelType       brand notRepairedDamage  \n",
      "0                        3   diesel         bmw               NaN  \n",
      "1                        6   diesel       volvo                no  \n",
      "2                       11   diesel  volkswagen               NaN  \n",
      "3                       12   petrol        seat                no  \n",
      "4                       11   diesel       volvo                no  \n",
      "...                    ...      ...         ...               ...  \n",
      "49996                    0      NaN  volkswagen               NaN  \n",
      "49997                    0      NaN  volkswagen               NaN  \n",
      "49998                    1   petrol         bmw                no  \n",
      "49999                    8   petrol     renault               NaN  \n",
      "50000                   10   petrol   chevrolet                no  \n",
      "\n",
      "[50001 rows x 14 columns]\n",
      "           seller offerType  price   abtest    vehicleType  \\\n",
      "0         private     offer   4450     test      limousine   \n",
      "1         private     offer  13299  control            suv   \n",
      "2         private     offer   3200     test            bus   \n",
      "3         private     offer   4500  control      small car   \n",
      "4         private     offer  18750     test            suv   \n",
      "...           ...       ...    ...      ...            ...   \n",
      "49996     private   request      0     test            bus   \n",
      "49997     private   request  19999  control            NaN   \n",
      "49998     private   request      0     test          coupe   \n",
      "49999  commercial     offer    100  control  station wagon   \n",
      "50000  commercial     offer   1100     test      small car   \n",
      "\n",
      "       yearOfRegistration    gearbox  powerPS        model  kilometer  \\\n",
      "0                    2003     manual      150          3er     150000   \n",
      "1                    2005     manual      163     xc_reihe     150000   \n",
      "2                    2003     manual      101       touran     150000   \n",
      "3                    2006     manual       86        ibiza      60000   \n",
      "4                    2008  automatic      185     xc_reihe     150000   \n",
      "...                   ...        ...      ...          ...        ...   \n",
      "49996                2005        NaN        0  transporter     150000   \n",
      "49997                1990        NaN        0         golf       5000   \n",
      "49998                2004     manual        0          3er     150000   \n",
      "49999                2000     manual        0       megane     150000   \n",
      "50000                2006     manual       38        matiz     150000   \n",
      "\n",
      "       monthOfRegistration fuelType       brand notRepairedDamage  \n",
      "0                        3   diesel         bmw               NaN  \n",
      "1                        6   diesel       volvo                no  \n",
      "2                       11   diesel  volkswagen               NaN  \n",
      "3                       12   petrol        seat                no  \n",
      "4                       11   diesel       volvo                no  \n",
      "...                    ...      ...         ...               ...  \n",
      "49996                    0      NaN  volkswagen               NaN  \n",
      "49997                    0      NaN  volkswagen               NaN  \n",
      "49998                    1   petrol         bmw                no  \n",
      "49999                    8   petrol     renault               NaN  \n",
      "50000                   10   petrol   chevrolet                no  \n",
      "\n",
      "[49531 rows x 14 columns]\n",
      "seller                    0\n",
      "offerType                 0\n",
      "price                     0\n",
      "abtest                    0\n",
      "vehicleType            5152\n",
      "yearOfRegistration        0\n",
      "gearbox                2765\n",
      "powerPS                   0\n",
      "model                  2730\n",
      "kilometer                 0\n",
      "monthOfRegistration       0\n",
      "fuelType               4467\n",
      "brand                     0\n",
      "notRepairedDamage      9640\n",
      "dtype: int64\n",
      "yearOfRegistration\n",
      "1000     6\n",
      "1255     1\n",
      "1500     2\n",
      "1910    14\n",
      "1928     1\n",
      "        ..\n",
      "7500     1\n",
      "7800     1\n",
      "8500     1\n",
      "8888     2\n",
      "9999     7\n",
      "Name: count, Length: 97, dtype: int64\n",
      "26\n",
      "38\n"
     ]
    }
   ],
   "source": [
    "#Dropping unwanted columns\n",
    "col=[\"name\",\"dateCrawled\",\"dateCreated\",\"postalCode\",\n",
    "     \"lastSeen\"]\n",
    "cars_data=cars_data.drop(columns=col,axis=1)\n",
    "print(cars_data)\n",
    "#Removing duplicate records\n",
    "cars_data.drop_duplicates(keep=\"first\",inplace=True)\n",
    "print(cars_data)\n",
    "#Data Cleaning\n",
    "print(cars_data.isnull().sum())\n",
    "yearwise_count=cars_data[\"yearOfRegistration\"].value_counts().sort_index()\n",
    "print(yearwise_count)\n",
    "print(sum(cars_data[\"yearOfRegistration\"]>2018))\n",
    "print(sum(cars_data[\"yearOfRegistration\"]<1950))\n"
   ]
  },
  {
   "cell_type": "code",
   "execution_count": 53,
   "id": "81cc3f32",
   "metadata": {},
   "outputs": [
    {
     "name": "stdout",
     "output_type": "stream",
     "text": [
      "count      49531.000\n",
      "mean        6567.220\n",
      "std        86222.378\n",
      "min            0.000\n",
      "25%         1150.000\n",
      "50%         2950.000\n",
      "75%         7100.000\n",
      "max     12345678.000\n",
      "Name: price, dtype: float64\n",
      "34\n",
      "1748\n"
     ]
    }
   ],
   "source": [
    "\"\"\"\n",
    "sns.regplot(x=\"yearOfRegistration\",y=\"price\",\n",
    "            scatter=True,fit_reg=False,\n",
    "           data=cars_data)\n",
    "\"\"\"\n",
    "#working range 1950-2018\n",
    "\n",
    "#variable price\n",
    "price_count=cars_data[\"price\"].value_counts().sort_index()\n",
    "#sns.distplot(cars_data[\"price\"])\n",
    "print(cars_data[\"price\"].describe())\n",
    "#sns.boxplot(y=cars_data[\"price\"])\n",
    "print(sum(cars_data[\"price\"]>150000))\n",
    "print(sum(cars_data[\"price\"]<100))\n"
   ]
  },
  {
   "cell_type": "code",
   "execution_count": 54,
   "id": "adef6103",
   "metadata": {},
   "outputs": [
    {
     "name": "stdout",
     "output_type": "stream",
     "text": [
      "count   49531.000\n",
      "mean      116.501\n",
      "std       231.536\n",
      "min         0.000\n",
      "25%        69.000\n",
      "50%       105.000\n",
      "75%       150.000\n",
      "max     19312.000\n",
      "Name: powerPS, dtype: float64\n",
      "115\n",
      "5565\n"
     ]
    }
   ],
   "source": [
    "#working range 100-150000\n",
    "#variable powerPS\n",
    "power_count=cars_data[\"powerPS\"].value_counts().sort_index()\n",
    "#sns.distplot(cars_data[\"powerPS\"])\n",
    "print(cars_data[\"powerPS\"].describe())\n",
    "#sns.boxplot(y=cars_data[\"powerPS\"])\n",
    "print(sum(cars_data[\"powerPS\"]>500))\n",
    "print(sum(cars_data[\"powerPS\"]<10))\n",
    "\n"
   ]
  },
  {
   "cell_type": "code",
   "execution_count": 55,
   "id": "a96d0ca4",
   "metadata": {},
   "outputs": [
    {
     "name": "stdout",
     "output_type": "stream",
     "text": [
      "           seller offerType  price   abtest    vehicleType  \\\n",
      "0         private     offer   4450     test      limousine   \n",
      "1         private     offer  13299  control            suv   \n",
      "2         private     offer   3200     test            bus   \n",
      "3         private     offer   4500  control      small car   \n",
      "4         private     offer  18750     test            suv   \n",
      "...           ...       ...    ...      ...            ...   \n",
      "49991     private     offer  10900     test      limousine   \n",
      "49992     private     offer    790     test      limousine   \n",
      "49993     private     offer    830     test      small car   \n",
      "49995     private     offer   2290     test  station wagon   \n",
      "50000  commercial     offer   1100     test      small car   \n",
      "\n",
      "       yearOfRegistration    gearbox  powerPS     model  kilometer  \\\n",
      "0                    2003     manual      150       3er     150000   \n",
      "1                    2005     manual      163  xc_reihe     150000   \n",
      "2                    2003     manual      101    touran     150000   \n",
      "3                    2006     manual       86     ibiza      60000   \n",
      "4                    2008  automatic      185  xc_reihe     150000   \n",
      "...                   ...        ...      ...       ...        ...   \n",
      "49991                2004     manual      231   x_reihe     150000   \n",
      "49992                1998     manual       82     astra     150000   \n",
      "49993                1999     manual       60      clio     125000   \n",
      "49995                2001     manual      101     astra     150000   \n",
      "50000                2006     manual       38     matiz     150000   \n",
      "\n",
      "       monthOfRegistration fuelType       brand notRepairedDamage  \n",
      "0                        3   diesel         bmw               NaN  \n",
      "1                        6   diesel       volvo                no  \n",
      "2                       11   diesel  volkswagen               NaN  \n",
      "3                       12   petrol        seat                no  \n",
      "4                       11   diesel       volvo                no  \n",
      "...                    ...      ...         ...               ...  \n",
      "49991                    8   petrol         bmw                no  \n",
      "49992                    9   diesel        opel                no  \n",
      "49993                    8   petrol     renault                no  \n",
      "49995                    3   petrol        opel                no  \n",
      "50000                   10   petrol   chevrolet                no  \n",
      "\n",
      "[42772 rows x 14 columns]\n"
     ]
    }
   ],
   "source": [
    "#working range 10-500\n",
    "#working range of Data\n",
    "\n",
    "cars_data=cars_data[(cars_data.yearOfRegistration<=2018)\n",
    "                &(cars_data.yearOfRegistration>=1950)\n",
    "                &(cars_data.price>=100)\n",
    "                &(cars_data.price<=150000)\n",
    "                &(cars_data.powerPS>=10)\n",
    "                &(cars_data.powerPS<=500)]\n",
    "print(cars_data)\n",
    "\n"
   ]
  },
  {
   "cell_type": "code",
   "execution_count": 56,
   "id": "91f59a75",
   "metadata": {},
   "outputs": [
    {
     "name": "stdout",
     "output_type": "stream",
     "text": [
      "count   42772.000\n",
      "mean       14.873\n",
      "std         7.093\n",
      "min         0.000\n",
      "25%        10.330\n",
      "50%        14.830\n",
      "75%        19.170\n",
      "max        67.750\n",
      "Name: Age, dtype: float64\n"
     ]
    }
   ],
   "source": [
    "#combining yearOfRegistration and monthOfRegistration\n",
    "cars_data[\"monthOfRegistration\"]/=12\n",
    "#creating new variable Age by adding yearOfRegistration \n",
    "#and monthOfRegistration\n",
    "cars_data[\"Age\"]=(2018-cars_data[\"yearOfRegistration\"])+cars_data[\"monthOfRegistration\"]\n",
    "cars_data[\"Age\"]=round(cars_data[\"Age\"],2)\n",
    "print(cars_data[\"Age\"].describe())\n"
   ]
  },
  {
   "cell_type": "code",
   "execution_count": 57,
   "id": "70f08852",
   "metadata": {},
   "outputs": [
    {
     "name": "stdout",
     "output_type": "stream",
     "text": [
      "seller\n",
      "private       42771\n",
      "commercial        1\n",
      "Name: count, dtype: int64\n"
     ]
    }
   ],
   "source": [
    "#dropping yearOfRegistration and monthOfRegistration\n",
    "cars_data.drop(columns=[\"yearOfRegistration\",\"monthOfRegistration\"],axis=1,inplace=True)\n",
    "\"\"\"\n",
    "#Data visualization of Age,Price,powerPS\n",
    "sns.distplot(cars_data[\"Age\"])\n",
    "sns.boxplot(cars_data[\"Age\"])\n",
    "sns.distplot(cars_data[\"price\"])\n",
    "sns.boxplot(cars_data[\"price\"])\n",
    "sns.distplot(cars_data[\"powerPS\"])\n",
    "sns.boxplot(cars_data[\"powerPS\"])\n",
    "\n",
    "#Age vs price\n",
    "sns.regplot(x=\"Age\",y=\"price\",scatter=True,\n",
    "            fit_reg=False,data=cars_dat\"\"\"\n",
    "#powerPs vs price\n",
    "\"\"\"\n",
    "sns.regplot(x=\"powerPS\",y=\"price\",scatter=True,\n",
    "            fit_reg=False,data=cars_data)\"\"\"\n",
    "#variable seller\n",
    "print(cars_data[\"seller\"].value_counts())\n"
   ]
  },
  {
   "cell_type": "code",
   "execution_count": 58,
   "id": "e51bc7ff",
   "metadata": {},
   "outputs": [
    {
     "name": "stdout",
     "output_type": "stream",
     "text": [
      "col_0       counts\n",
      "seller            \n",
      "commercial   0.000\n",
      "private      1.000\n",
      "offerType\n",
      "offer    42772\n",
      "Name: count, dtype: int64\n"
     ]
    }
   ],
   "source": [
    "seller_tab=pd.crosstab(index=cars_data[\"seller\"],columns=\"counts\",normalize=True)\n",
    "#sns.countplot(x=\"seller\",data=cars_data)\n",
    "print(seller_tab)\n",
    "#fewer cars have \"cpmmercial => insignificant\n",
    "print(cars_data[\"offerType\"].value_counts())\n"
   ]
  },
  {
   "cell_type": "code",
   "execution_count": 59,
   "id": "b7ac3a73",
   "metadata": {},
   "outputs": [
    {
     "name": "stdout",
     "output_type": "stream",
     "text": [
      "col_0      counts\n",
      "offerType        \n",
      "offer       1.000\n"
     ]
    }
   ],
   "source": [
    "offer_tab=pd.crosstab(index=cars_data[\"offerType\"],columns=\"counts\",normalize=True)\n",
    "#sns.countplot(x=\"offerType\",data=cars_data)\n",
    "print(offer_tab)\n",
    "\n"
   ]
  },
  {
   "cell_type": "code",
   "execution_count": 60,
   "id": "c57ee904",
   "metadata": {},
   "outputs": [
    {
     "name": "stdout",
     "output_type": "stream",
     "text": [
      "abtest\n",
      "test       22128\n",
      "control    20644\n",
      "Name: count, dtype: int64\n",
      "col_0    counts\n",
      "abtest         \n",
      "control   0.483\n",
      "test      0.517\n"
     ]
    }
   ],
   "source": [
    "#all cars have \"offer\"=> insignificant\n",
    "#variable abtest\n",
    "print(cars_data[\"abtest\"].value_counts())\n",
    "offer_tab=pd.crosstab(index=cars_data[\"abtest\"],columns=\"counts\",normalize=True)\n",
    "#sns.boxplot(x=\"abtest\",y=\"price\",data=cars_data)\n",
    "print(offer_tab)\n"
   ]
  },
  {
   "cell_type": "code",
   "execution_count": 61,
   "id": "262a6ac2",
   "metadata": {},
   "outputs": [
    {
     "data": {
      "text/plain": [
       "Index(['seller', 'offerType', 'price', 'abtest', 'vehicleType', 'gearbox',\n",
       "       'powerPS', 'model', 'kilometer', 'fuelType', 'brand',\n",
       "       'notRepairedDamage', 'Age'],\n",
       "      dtype='object')"
      ]
     },
     "execution_count": 61,
     "metadata": {},
     "output_type": "execute_result"
    }
   ],
   "source": [
    "cars_data.columns"
   ]
  },
  {
   "cell_type": "code",
   "execution_count": 62,
   "id": "003b2405",
   "metadata": {},
   "outputs": [],
   "source": [
    "#remove insignificant variables\n",
    "col=[\"seller\",\"offerType\",\"abtest\"]\n",
    "cars_data=cars_data.drop(columns=col,axis=1)\n"
   ]
  },
  {
   "cell_type": "code",
   "execution_count": 63,
   "id": "76bc6cc1",
   "metadata": {},
   "outputs": [],
   "source": [
    "cars_copy=cars_data.copy()\n",
    "cars_select1=cars_data.select_dtypes(exclude=[object])\n"
   ]
  },
  {
   "cell_type": "code",
   "execution_count": 64,
   "id": "3fa13075",
   "metadata": {},
   "outputs": [
    {
     "name": "stdout",
     "output_type": "stream",
     "text": [
      "           price  powerPS  kilometer    Age\n",
      "price      1.000    0.575     -0.440 -0.336\n",
      "powerPS    0.575    1.000     -0.016 -0.151\n",
      "kilometer -0.440   -0.016      1.000  0.292\n",
      "Age       -0.336   -0.151      0.292  1.000\n",
      "--------------------\n",
      "powerPS     0.575\n",
      "kilometer   0.440\n",
      "Age         0.336\n",
      "Name: price, dtype: float64\n"
     ]
    }
   ],
   "source": [
    "correlation=cars_select1.corr()\n",
    "print(round(correlation,3))\n",
    "print(\"-\"*20)\n",
    "print(cars_select1.corr().loc[:,\"price\"].abs().sort_values(ascending=False)[1:])\n",
    "#ignoring missing values"
   ]
  },
  {
   "cell_type": "code",
   "execution_count": 65,
   "id": "a68c250e",
   "metadata": {},
   "outputs": [],
   "source": [
    "#ignoring missing values\n",
    "\n",
    "\"\"\"\n",
    "we are going to build a linear regression and random forest model\n",
    "on two sets of data\n",
    "1.Data obtained by omitting rows with any missing value\n",
    "2.Data obtained by imputing the missing values\n",
    "\"\"\"\n",
    "cars_omit=cars_data.dropna(axis=0)\n",
    "cars_omit=pd.get_dummies(cars_omit,drop_first=True)\n",
    "\n",
    "\n",
    "\n"
   ]
  },
  {
   "cell_type": "code",
   "execution_count": 66,
   "id": "09fd44b5",
   "metadata": {},
   "outputs": [],
   "source": [
    "#importing necessary libraries\n",
    "import numpy as np\n",
    "from sklearn.model_selection import train_test_split\n",
    "from sklearn.ensemble import RandomForestRegressor\n",
    "from sklearn.metrics import mean_squared_error\n",
    "#building a model with omitted data\n",
    "#seperating input and output features \n",
    "x1=cars_omit.drop([\"price\"],axis=\"columns\",inplace=False)\n",
    "y1=cars_omit[\"price\"]\n",
    "#plotting the variable price\n",
    "prices=pd.DataFrame({\"1.Before\":y1,\"2.After\":np.log(y1)})\n",
    "#prices.hist()\n",
    "#Transforming price as a logarithmic value\n",
    "y1=np.log(y1)\n"
   ]
  },
  {
   "cell_type": "code",
   "execution_count": 67,
   "id": "cf02b881",
   "metadata": {},
   "outputs": [
    {
     "name": "stdout",
     "output_type": "stream",
     "text": [
      "(23018, 300) (9866, 300)\n",
      "(23018,) (9866,)\n"
     ]
    }
   ],
   "source": [
    "#spliting data into test and train\n",
    "x_train,x_test,y_train,y_test=train_test_split(x1,y1,\n",
    "                                               test_size=0.3,\n",
    "                                               random_state=3)\n",
    "print(x_train.shape,x_test.shape)\n",
    "print(y_train.shape,y_test.shape)"
   ]
  },
  {
   "cell_type": "code",
   "execution_count": 68,
   "id": "68ee4046",
   "metadata": {},
   "outputs": [
    {
     "name": "stdout",
     "output_type": "stream",
     "text": [
      "8.249615787653267\n"
     ]
    }
   ],
   "source": [
    "#finding the mean for test data value\n",
    "base_pred=np.mean(y_test)\n",
    "print(base_pred)\n",
    "#repeat the same value till length of test data\n",
    "base_pred=np.repeat(base_pred,len(y_test))\n",
    "\n",
    "\n"
   ]
  },
  {
   "cell_type": "code",
   "execution_count": 69,
   "id": "6aba7450",
   "metadata": {},
   "outputs": [
    {
     "name": "stdout",
     "output_type": "stream",
     "text": [
      "1.1274483657478247\n"
     ]
    }
   ],
   "source": [
    "#Finding the RMSE\n",
    "base_rt_sqr_err=np.sqrt(mean_squared_error(y_test,base_pred))\n",
    "print(base_rt_sqr_err)\n",
    "\n"
   ]
  },
  {
   "cell_type": "code",
   "execution_count": null,
   "id": "fe756b74",
   "metadata": {},
   "outputs": [],
   "source": [
    "# The error you are encountering is due to an invalid parameter value for the 'max_features' parameter in the RandomForestRegressor. The 'max_features' parameter should be one of the following:\n",
    "\n",
    "# An integer in the range [1, inf).\n",
    "# A float in the range (0.0, 1.0].\n",
    "# A string among {'auto', 'sqrt', 'log2'}.\n",
    "# None.\n",
    "# You provided 'auto' for the 'max_features' parameter, which is not a valid option. To fix this issue, you should choose one of the valid options listed above. For example, you can use 'auto' or 'sqrt' or specify an integer to indicate the maximum number of features to consider at each split.\n",
    "\n",
    "# Here's an example of how you can set 'max_features' to 'auto' in the RandomForestRegressor:"
   ]
  },
  {
   "cell_type": "code",
   "execution_count": 73,
   "id": "62d89a4e",
   "metadata": {},
   "outputs": [],
   "source": [
    "#Random forest with omitted data\n",
    "rf=RandomForestRegressor(n_estimators=100,\n",
    "                         max_depth=100,min_samples_split=10,\n",
    "                         min_samples_leaf=4,random_state=1)\n",
    "\n",
    "# rf = RandomForestRegressor(n_estimators=100, max_features=\"auto\", max_depth=100, min_samples_split=10, min_samples_leaf=4, random_state=1)\n"
   ]
  },
  {
   "cell_type": "code",
   "execution_count": 74,
   "id": "f4a20202",
   "metadata": {},
   "outputs": [],
   "source": [
    "#Model\n",
    "model_rf1=rf.fit(x_train,y_train)\n",
    "\n",
    "#predicting model on test data\n",
    "cars_pred_rf1=rf.predict(x_test)\n",
    "\n"
   ]
  },
  {
   "cell_type": "code",
   "execution_count": 75,
   "id": "f3e85d64",
   "metadata": {},
   "outputs": [
    {
     "name": "stdout",
     "output_type": "stream",
     "text": [
      "0.4360702292731743\n"
     ]
    }
   ],
   "source": [
    "#Computing MSE and RMSE\n",
    "rf_mse1=mean_squared_error(y_test,cars_pred_rf1)\n",
    "rf_rmse1=np.sqrt(rf_mse1)\n",
    "print(rf_rmse1)\n"
   ]
  },
  {
   "cell_type": "code",
   "execution_count": 76,
   "id": "b5eb1768",
   "metadata": {},
   "outputs": [
    {
     "name": "stdout",
     "output_type": "stream",
     "text": [
      "0.8504041473240898 0.9202519226877908\n"
     ]
    }
   ],
   "source": [
    "#R-Squared value\n",
    "r2_rf_test1=model_rf1.score(x_test,y_test)\n",
    "r2_rf_train1=model_rf1.score(x_train,y_train)\n",
    "print(r2_rf_test1,r2_rf_train1)"
   ]
  },
  {
   "cell_type": "code",
   "execution_count": null,
   "id": "bd8f3fee",
   "metadata": {},
   "outputs": [],
   "source": []
  }
 ],
 "metadata": {
  "kernelspec": {
   "display_name": "Python 3 (ipykernel)",
   "language": "python",
   "name": "python3"
  },
  "language_info": {
   "codemirror_mode": {
    "name": "ipython",
    "version": 3
   },
   "file_extension": ".py",
   "mimetype": "text/x-python",
   "name": "python",
   "nbconvert_exporter": "python",
   "pygments_lexer": "ipython3",
   "version": "3.11.5"
  }
 },
 "nbformat": 4,
 "nbformat_minor": 5
}
